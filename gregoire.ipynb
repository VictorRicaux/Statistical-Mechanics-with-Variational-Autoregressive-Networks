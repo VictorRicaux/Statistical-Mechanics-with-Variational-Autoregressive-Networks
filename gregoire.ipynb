{
 "cells": [
  {
   "cell_type": "code",
   "execution_count": 52,
   "metadata": {},
   "outputs": [],
   "source": [
    "import torch \n",
    "import torch.nn as nn\n",
    "import numpy as np\n",
    "import matplotlib.pyplot as plt\n"
   ]
  },
  {
   "cell_type": "code",
   "execution_count": null,
   "metadata": {},
   "outputs": [],
   "source": [
    "# # p et q sont deux listes de vecteru de taille n représentant les probas conditionelles\n",
    "#     # ATTENTION en sortie du réseau de neurones, on a un vecteur de taille n\n",
    "#     # en effet, on  a besoin des probas conditionelles pour chaque i. Donc, on ne peut pas demander au réseau de \n",
    "#     # sortir direct la proba q_theta(s)\n",
    "#     # Donc, c'est dans la fonction loss qu'on va convertir ces probas conditionelles en proba d'observer s (par une simple multiplication)\n",
    "#     probasp=[]\n",
    "#     probasq=[]\n",
    "#     for pi in p:\n",
    "#         res=1\n",
    "#         for i in pi:\n",
    "#             res*=i\n",
    "#         probasp.append(res)\n",
    "#     for qi in q:\n",
    "#         res=1\n",
    "#         for i in qi:\n",
    "#             res*=i\n",
    "#         probasq.append(res)"
   ]
  },
  {
   "cell_type": "code",
   "execution_count": 120,
   "metadata": {},
   "outputs": [
    {
     "data": {
      "text/plain": [
       "tensor(0.)"
      ]
     },
     "execution_count": 120,
     "metadata": {},
     "output_type": "execute_result"
    }
   ],
   "source": [
    "a=torch.tensor([0.1,0.2,0.3,0.4])\n",
    "b=torch.tensor([0.25,0.25,0.25,0.25])\n",
    "Kulback_Leibler(b,b)"
   ]
  },
  {
   "cell_type": "code",
   "execution_count": 6,
   "metadata": {},
   "outputs": [],
   "source": [
    "\n",
    "\n",
    "def train(models, q , p_0,   n_iter=100, lr=1e-2):\n",
    "    nombre_de_neurones=len(models)\n",
    "    optimizers=[torch.optim.Adam(models[i].parameters(), lr=lr) for i in range(nombre_de_neurones)]\n",
    "    p=p_0\n",
    "    for epoch in range(n_iter):\n",
    "        p='...'# à compléter\n",
    "        for i in range(nombre_de_neurones):\n",
    "            optimizers[i].zero_grad()\n",
    "            loss=Kulback_Leibler(p, q)\n",
    "            loss.backward()\n",
    "            optimizers[i]\n",
    "           \n"
   ]
  },
  {
   "cell_type": "code",
   "execution_count": null,
   "metadata": {},
   "outputs": [],
   "source": [
    "\n",
    "def train(model, n_iter=100, lr=1e-2):\n",
    "    plt.figure(figsize=(20, 8))\n",
    "    axs = [plt.subplot(2, 5, i) for i in range(1, 11)]\n",
    "    losses = []\n",
    "    \n",
    "    optimizer = torch.optim.Adam(model.parameters(), lr=lr)\n",
    "    # What is Adam? Which other simpler optimizers can you use?\n",
    "\n",
    "    for epoch in range(n_iter):\n",
    "        optimizer.zero_grad() # What is this step? IMPORTANT LINE\n",
    "        loss = loss_fn(model(x_train), y_train)\n",
    "        loss.backward()\n",
    "        optimizer.step()\n",
    "        losses.append(loss.item())\n",
    "       \n",
    "        if epoch % (n_iter/10) == 0:\n",
    "            print(f'Epoch {epoch}: {loss.item()}')\n",
    "\n",
    "            # plot progress\n",
    "            ax_index = int(epoch // (n_iter/10))\n",
    "            plt.sca(axs[ax_index])\n",
    "            plt.plot(x_grid, target(x_grid), label='target')\n",
    "            plt.plot(x_grid, grab(model(x_grid)).squeeze(), label='model init')\n",
    "            \n",
    "    return losses\n",
    "\n",
    "\n",
    "\n",
    "\n",
    "def loss_fn(y_pred, y_true):\n",
    "    return torch.mean((y_pred - y_true) ** 2)"
   ]
  },
  {
   "cell_type": "code",
   "execution_count": 39,
   "metadata": {},
   "outputs": [],
   "source": [
    "n=4\n",
    "M = torch.zeros((n, n), dtype=torch.int)  # Crée une matrice de zéros de taille n x n\n",
    "        \n",
    "for i in range(n):\n",
    "    for j in range(i, n):\n",
    "        M[i][j] = 0\n",
    "\n",
    "# Remplit la partie inférieure de la diagonale avec des uns\n",
    "for i in range(1, n):\n",
    "        for j in range(i):\n",
    "                M[i][j] = 1"
   ]
  },
  {
   "cell_type": "code",
   "execution_count": 44,
   "metadata": {},
   "outputs": [],
   "source": [
    "A=torch.tensor([[1, 2], [3, 4]])"
   ]
  },
  {
   "cell_type": "code",
   "execution_count": 48,
   "metadata": {},
   "outputs": [],
   "source": [
    "class MaskedLinear(nn.Linear):\n",
    "    def __init__(self, in_features, out_features, mask, bias=True):\n",
    "        super(MaskedLinear, self).__init__(in_features, out_features, bias)\n",
    "        self.mask = mask\n",
    "\n",
    "    def forward(self, input):\n",
    "        return nn.functional.linear(input, self.weight * self.mask, self.bias)"
   ]
  },
  {
   "cell_type": "code",
   "execution_count": 54,
   "metadata": {},
   "outputs": [
    {
     "data": {
      "text/plain": [
       "tensor([0.5000, 0.8808])"
      ]
     },
     "execution_count": 54,
     "metadata": {},
     "output_type": "execute_result"
    }
   ],
   "source": [
    "torch.sigmoid(torch.tensor([0.0, 2.0]))"
   ]
  },
  {
   "cell_type": "code",
   "execution_count": 50,
   "metadata": {},
   "outputs": [],
   "source": [
    "class VAN(nn.Module):\n",
    "    def __init__(self, input_size, activation=torch.sigmoid):\n",
    "        super(VAN, self).__init__() #initialisation obligatoire\n",
    "        self.input_size = input_size\n",
    "\n",
    "        # Création de la matrice de masque : que des 0 sur et au dessus de la diagonale et que des 1 dessous\n",
    "        M = torch.zeros((input_size, input_size), dtype=torch.int)\n",
    "        for i in range(input_size):\n",
    "            for j in range(i, input_size):\n",
    "                M[i][j] = 0\n",
    "        for i in range(1, input_size):\n",
    "            for j in range(i):\n",
    "                M[i][j] = 1\n",
    "\n",
    "        self.fc1 = MaskedLinear(input_size, input_size, mask=M)\n",
    "        self.activation = activation\n",
    "\n",
    "    def forward(self, x):\n",
    "        x = self.fc1(x)\n",
    "        x = self.activation(x)\n",
    "        # à cette ligne on a multiplié x par la matrice de masque (triangulaire inférieure), puis appliqué la fonction d'activation\n",
    "        # donc la première coordonnée de x vaut activation(0) (normal, s^_1 ne dépend de personne)\n",
    "        # il faut donc ajouter 0.5 à la première coordonnée pour montrer qu'elle vaut 0 et 1 avec proba 0.5\n",
    "        x[0] = 0.5\n",
    "        return x\n"
   ]
  },
  {
   "cell_type": "code",
   "execution_count": 113,
   "metadata": {},
   "outputs": [
    {
     "name": "stdout",
     "output_type": "stream",
     "text": [
      "tensor([[0., 0.],\n",
      "        [0., 0.],\n",
      "        [0., 0.],\n",
      "        [0., 0.],\n",
      "        [0., 0.]])\n",
      "tensor([[1., 0.],\n",
      "        [0., 0.],\n",
      "        [0., 0.],\n",
      "        [0., 0.],\n",
      "        [0., 0.]])\n"
     ]
    }
   ],
   "source": [
    "train_set=torch.zeros((5, 2))\n",
    "# 5 points de taille 2\n",
    "print(train_set)\n",
    "train_set[0][0]=torch.bernoulli(torch.tensor(0.5))\n",
    "print(train_set)"
   ]
  },
  {
   "cell_type": "code",
   "execution_count": 114,
   "metadata": {},
   "outputs": [
    {
     "data": {
      "text/plain": [
       "tensor([1, 2, 3, 4, 5])"
      ]
     },
     "execution_count": 114,
     "metadata": {},
     "output_type": "execute_result"
    }
   ],
   "source": [
    "torch.tensor([1, 2, 3, 4, 5])"
   ]
  },
  {
   "cell_type": "code",
   "execution_count": null,
   "metadata": {},
   "outputs": [],
   "source": [
    "def train(model, p_obj,  n_iter=100, lr=1e-2, train_size=100):\n",
    "\n",
    "    losses = []\n",
    "\n",
    "    # p_obj est la distribution à approximer\n",
    "    optimizer = torch.optim.Adam(model.parameters(), lr=lr)\n",
    "    losses = []\n",
    "    # il faut tirer un train_set grâce au modèle pour s'entraîner dessus\n",
    "    train_set=torch.zeros((train_size, model.input_size))\n",
    "    for i in range(train_size):\n",
    "        # pour tirer un x dans x_train, on tire une bernoulli de paramètre 0.5 : c'est s_1\n",
    "        # comment avoir s_2 ? ON fait passer le vecteur [s_1, 0, 0, 0] dans le réseau de neurones\n",
    "        # en sortie du réseau de neurones, on a y =[ s1 randomn, p(s2|s1), p(s3|s1), p(s4|s1)...]\n",
    "        # la deuxième coordonnée de y est p(s2|s1), donc on tire une bernoulli de paramètre p(s2|s1)\n",
    "        # puis on recommence !\n",
    "        # on fait ça train_size fois\n",
    "        train_set[i][0]=torch.bernoulli(torch.tensor(0.5))\n",
    "        for j in range(1, model.input_size):\n",
    "            y_pred=model(train_set[i])\n",
    "            p_j= y_pred[j] # c'est p(s_j|s_{i<j})\n",
    "            train_set[i][j]=torch.bernoulli(torch.tensor(p_j)) # on tire une bernoulli de paramètre p(s_j|s_{i<j}) pour la j-ème variable\n",
    "    \n",
    "    y_train=torch.tensor([p_obj(s) for s in train_set])\n",
    "    # à cette étape, on a un train set, on peut entraîner le modèle\n",
    "    for epoch in range(n_iter):\n",
    "        optimizer.zero_grad() # What is this step? IMPORTANT LINE\n",
    "        listes_de_probas_conditionelles=model(train_set) # on récupère les probas conditionelles, il faut les multiplier pour avoir les probas tout court\n",
    "        q_theta_predit=[]\n",
    "        for proba_conditionelle in listes_de_probas_conditionelles:\n",
    "            res=1\n",
    "            for i in proba_conditionelle:\n",
    "                res*=i\n",
    "            q_theta_predit.append(res)\n",
    "        # c'est bon on a les probas, on peut appliquer DKL\n",
    "        loss = Kulback_Leibler(torch.tensor(q_theta_predit), y_train)\n",
    "        loss.backward()\n",
    "        optimizer.step()\n",
    "        losses.append(loss.item())\n",
    "        if epoch % (n_iter/10) == 0:\n",
    "            print(f'Epoch {epoch}: {loss.item()}')\n",
    "    return losses\n",
    "\n",
    "            \n",
    "            \n"
   ]
  },
  {
   "cell_type": "code",
   "execution_count": 81,
   "metadata": {},
   "outputs": [
    {
     "data": {
      "text/plain": [
       "tensor([0.6225, 0.8808])"
      ]
     },
     "execution_count": 81,
     "metadata": {},
     "output_type": "execute_result"
    }
   ],
   "source": [
    "torch.sigmoid(torch.tensor([0.5, 2.0]))\n"
   ]
  },
  {
   "cell_type": "code",
   "execution_count": 49,
   "metadata": {},
   "outputs": [],
   "source": [
    "n=7\n",
    "M = torch.zeros((n, n), dtype=torch.int)  # Crée une matrice de zéros de taille n x n\n",
    "\n",
    "for i in range(n):\n",
    "    for j in range(i, n):\n",
    "        M[i][j] = 0\n",
    "\n",
    "# Remplit la partie inférieure de la diagonale avec des uns\n",
    "for i in range(1, n):\n",
    "        for j in range(i):\n",
    "                M[i][j] = 1\n"
   ]
  },
  {
   "cell_type": "code",
   "execution_count": null,
   "metadata": {},
   "outputs": [],
   "source": [
    "\n",
    "class MLP(nn.Module):\n",
    "    \"\"\"\n",
    "    a MLP class inheriting from the parent class nn.Module. \n",
    "    nn.Module is the generic parent class of models in Pytorch.\n",
    "    It requires a method called forward. \n",
    "    \n",
    "    Pytorch will be able to recursively recover all parameters of the\n",
    "    attributes of a nn.Module object provided the attributes have themselves\n",
    "    type nn.Modules or nn.ModuleList.\n",
    "\n",
    "    In this implementation we explicitly specify the scale of initialization \n",
    "    of the weight matrices.\n",
    "    \"\"\"\n",
    "    def __init__(self, layerdims, activation=torch.relu, out_activation=None, init_scale=1):\n",
    "        super(MLP, self).__init__()\n",
    "\n",
    "        self.layerdims = layerdims\n",
    "        self.activation = activation\n",
    "        self.out_activation = out_activation\n",
    "\n",
    "        linears = [\n",
    "            nn.Linear(layerdims[i], layerdims[i + 1]) for i in range(len(layerdims) - 1)\n",
    "        ]\n",
    "\n",
    "        if init_scale is not None:\n",
    "            for l, layer in enumerate(linears):\n",
    "                torch.nn.init.normal_(\n",
    "                    layer.weight, std=init_scale / np.sqrt(layerdims[l])\n",
    "                )\n",
    "                torch.nn.init.zeros_(layer.bias)\n",
    "\n",
    "        self.linears = nn.ModuleList(linears)\n",
    "\n",
    "    def forward(self, x):\n",
    "        layers = list(enumerate(self.linears))\n",
    "        for _, l in layers[:-1]:\n",
    "            x = self.activation(l(x))\n",
    "        y = layers[-1][1](x)\n",
    "        if self.out_activation is not None:\n",
    "            y = self.out_activation(y)\n",
    "        return y\n",
    "\n"
   ]
  },
  {
   "cell_type": "code",
   "execution_count": 126,
   "metadata": {},
   "outputs": [
    {
     "data": {
      "text/plain": [
       "False"
      ]
     },
     "execution_count": 126,
     "metadata": {},
     "output_type": "execute_result"
    }
   ],
   "source": [
    "False in torch.tensor([1, 2, 3, 4, 5])==torch.tensor([1, 2, 3, 4, 5])"
   ]
  },
  {
   "cell_type": "code",
   "execution_count": 5,
   "metadata": {},
   "outputs": [
    {
     "ename": "ValueError",
     "evalue": "only one element tensors can be converted to Python scalars",
     "output_type": "error",
     "traceback": [
      "\u001b[1;31m---------------------------------------------------------------------------\u001b[0m",
      "\u001b[1;31mValueError\u001b[0m                                Traceback (most recent call last)",
      "Cell \u001b[1;32mIn[5], line 1\u001b[0m\n\u001b[1;32m----> 1\u001b[0m \u001b[38;5;28;43mfloat\u001b[39;49m\u001b[43m(\u001b[49m\u001b[43mtorch\u001b[49m\u001b[38;5;241;43m.\u001b[39;49m\u001b[43mtensor\u001b[49m\u001b[43m(\u001b[49m\u001b[43m[\u001b[49m\u001b[38;5;241;43m0\u001b[39;49m\u001b[43m,\u001b[49m\u001b[43m \u001b[49m\u001b[38;5;241;43m0\u001b[39;49m\u001b[43m,\u001b[49m\u001b[43m \u001b[49m\u001b[38;5;241;43m0\u001b[39;49m\u001b[43m,\u001b[49m\u001b[43m \u001b[49m\u001b[38;5;241;43m1\u001b[39;49m\u001b[43m,\u001b[49m\u001b[43m \u001b[49m\u001b[38;5;241;43m1\u001b[39;49m\u001b[43m,\u001b[49m\u001b[43m \u001b[49m\u001b[38;5;241;43m1\u001b[39;49m\u001b[43m]\u001b[49m\u001b[43m)\u001b[49m\u001b[43m)\u001b[49m \u001b[38;5;66;03m# in float\u001b[39;00m\n",
      "\u001b[1;31mValueError\u001b[0m: only one element tensors can be converted to Python scalars"
     ]
    }
   ],
   "source": []
  },
  {
   "cell_type": "code",
   "execution_count": 11,
   "metadata": {},
   "outputs": [
    {
     "data": {
      "text/plain": [
       "True"
      ]
     },
     "execution_count": 11,
     "metadata": {},
     "output_type": "execute_result"
    }
   ],
   "source": [
    "torch.eq(torch.tensor([1, 2, 3, 4, 5]), torch.tensor([1, 2, 3, 4, 5])).all().item()"
   ]
  },
  {
   "cell_type": "code",
   "execution_count": 9,
   "metadata": {},
   "outputs": [
    {
     "data": {
      "text/plain": [
       "tensor(0.)"
      ]
     },
     "execution_count": 9,
     "metadata": {},
     "output_type": "execute_result"
    }
   ],
   "source": [
    "p= torch.tensor([0.1, 0.2, 0.3, 0.4])\n",
    "q= torch.tensor([0.25, 0.25, 0.25, 0.25])\n",
    "Kulback_Leibler(p, p)\n",
    "\n"
   ]
  },
  {
   "cell_type": "code",
   "execution_count": 3,
   "metadata": {},
   "outputs": [
    {
     "data": {
      "text/plain": [
       "tensor([0.5000, 0.8808])"
      ]
     },
     "execution_count": 3,
     "metadata": {},
     "output_type": "execute_result"
    }
   ],
   "source": [
    "torch.sigmoid(torch.tensor([0.0, 2.0]))"
   ]
  },
  {
   "cell_type": "code",
   "execution_count": 20,
   "metadata": {},
   "outputs": [
    {
     "data": {
      "text/plain": [
       "0.469"
      ]
     },
     "execution_count": 20,
     "metadata": {},
     "output_type": "execute_result"
    }
   ],
   "source": [
    "0.5-0.001*(2**6-2)/2\n"
   ]
  },
  {
   "cell_type": "code",
   "execution_count": 28,
   "metadata": {},
   "outputs": [
    {
     "data": {
      "text/plain": [
       "0.0625"
      ]
     },
     "execution_count": 28,
     "metadata": {},
     "output_type": "execute_result"
    }
   ],
   "source": [
    "1/16"
   ]
  },
  {
   "cell_type": "code",
   "execution_count": 1,
   "metadata": {},
   "outputs": [
    {
     "name": "stdout",
     "output_type": "stream",
     "text": [
      "Epoch 0: 2.2798728942871094\n",
      "Parameter containing:\n",
      "tensor([[ 0.0000,  0.0000,  0.0000,  0.0000,  0.0000,  0.0000],\n",
      "        [ 0.1000,  0.0000,  0.0000,  0.0000,  0.0000,  0.0000],\n",
      "        [ 0.1000,  0.1000,  0.0000,  0.0000,  0.0000,  0.0000],\n",
      "        [-0.1000, -0.1000, -0.1000,  0.0000,  0.0000,  0.0000],\n",
      "        [-0.1000, -0.1000, -0.1000, -0.1000,  0.0000,  0.0000],\n",
      "        [-0.1000, -0.1000, -0.1000,  0.0000, -0.1000,  0.0000]],\n",
      "       requires_grad=True)\n",
      "Parameter containing:\n",
      "tensor([ 0.1000,  0.1000,  0.1000, -0.1000, -0.1000, -0.1000],\n",
      "       requires_grad=True)\n",
      "Epoch 20: 0.25416499376296997\n",
      "Parameter containing:\n",
      "tensor([[ 0.0000,  0.0000,  0.0000,  0.0000,  0.0000,  0.0000],\n",
      "        [ 1.9744,  0.0000,  0.0000,  0.0000,  0.0000,  0.0000],\n",
      "        [ 1.8243,  1.6083,  0.0000,  0.0000,  0.0000,  0.0000],\n",
      "        [-1.7672, -1.4058, -1.1189,  0.0000,  0.0000,  0.0000],\n",
      "        [-1.7194, -1.3678, -1.0805,  1.2077,  0.0000,  0.0000],\n",
      "        [-1.6865, -1.3900, -1.1685,  1.2876,  1.1913,  0.0000]],\n",
      "       requires_grad=True)\n",
      "Parameter containing:\n",
      "tensor([ 2.1087,  1.8412,  0.7239,  0.3217,  0.0833, -0.1679],\n",
      "       requires_grad=True)\n",
      "Epoch 40: 0.7106921076774597\n",
      "Parameter containing:\n",
      "tensor([[ 0.0000,  0.0000,  0.0000,  0.0000,  0.0000,  0.0000],\n",
      "        [ 2.6353,  0.0000,  0.0000,  0.0000,  0.0000,  0.0000],\n",
      "        [ 2.4497,  1.7437,  0.0000,  0.0000,  0.0000,  0.0000],\n",
      "        [-2.6411, -1.5332, -1.0875,  0.0000,  0.0000,  0.0000],\n",
      "        [-2.5228, -1.5512, -1.0984,  1.6453,  0.0000,  0.0000],\n",
      "        [-2.3136, -1.4781, -1.1020,  1.6726,  1.5979,  0.0000]],\n",
      "       requires_grad=True)\n",
      "Parameter containing:\n",
      "tensor([ 3.3429,  1.9803, -0.0062,  0.9774,  0.5106,  0.3250],\n",
      "       requires_grad=True)\n",
      "Epoch 60: 0.6892025470733643\n",
      "Parameter containing:\n",
      "tensor([[ 0.0000,  0.0000,  0.0000,  0.0000,  0.0000,  0.0000],\n",
      "        [ 2.7876,  0.0000,  0.0000,  0.0000,  0.0000,  0.0000],\n",
      "        [ 2.8149,  1.8205,  0.0000,  0.0000,  0.0000,  0.0000],\n",
      "        [-3.0880, -1.4927, -1.0385,  0.0000,  0.0000,  0.0000],\n",
      "        [-2.8966, -1.5802, -1.1108,  1.8320,  0.0000,  0.0000],\n",
      "        [-2.6923, -1.5954, -1.2429,  1.8050,  1.7208,  0.0000]],\n",
      "       requires_grad=True)\n",
      "Parameter containing:\n",
      "tensor([ 3.6826,  1.7179, -0.3035,  1.3204,  0.6521,  0.2605],\n",
      "       requires_grad=True)\n",
      "Epoch 80: 0.6834509968757629\n",
      "Parameter containing:\n",
      "tensor([[ 0.0000,  0.0000,  0.0000,  0.0000,  0.0000,  0.0000],\n",
      "        [ 2.8990,  0.0000,  0.0000,  0.0000,  0.0000,  0.0000],\n",
      "        [ 3.1338,  1.9342,  0.0000,  0.0000,  0.0000,  0.0000],\n",
      "        [-3.5523, -1.6657, -1.2137,  0.0000,  0.0000,  0.0000],\n",
      "        [-3.0487, -1.4715, -1.0025,  1.9643,  0.0000,  0.0000],\n",
      "        [-2.7982, -1.5145, -1.1668,  1.8908,  1.7733,  0.0000]],\n",
      "       requires_grad=True)\n",
      "Parameter containing:\n",
      "tensor([ 3.7369,  1.4327, -0.5205,  1.3501,  0.9108,  0.4504],\n",
      "       requires_grad=True)\n",
      "Epoch 100: 0.6903330087661743\n",
      "Parameter containing:\n",
      "tensor([[ 0.0000,  0.0000,  0.0000,  0.0000,  0.0000,  0.0000],\n",
      "        [ 3.0460,  0.0000,  0.0000,  0.0000,  0.0000,  0.0000],\n",
      "        [ 3.3888,  2.0043,  0.0000,  0.0000,  0.0000,  0.0000],\n",
      "        [-3.7833, -1.6447, -1.1511,  0.0000,  0.0000,  0.0000],\n",
      "        [-3.2644, -1.4708, -0.9865,  2.0300,  0.0000,  0.0000],\n",
      "        [-2.9321, -1.5051, -1.1527,  1.9332,  1.8147,  0.0000]],\n",
      "       requires_grad=True)\n",
      "Parameter containing:\n",
      "tensor([ 3.6621,  1.0720, -0.9120,  1.6986,  1.0440,  0.5315],\n",
      "       requires_grad=True)\n",
      "Epoch 120: 0.6559512615203857\n",
      "Parameter containing:\n",
      "tensor([[ 0.0000,  0.0000,  0.0000,  0.0000,  0.0000,  0.0000],\n",
      "        [ 3.3657,  0.0000,  0.0000,  0.0000,  0.0000,  0.0000],\n",
      "        [ 3.6794,  2.1792,  0.0000,  0.0000,  0.0000,  0.0000],\n",
      "        [-3.9956, -1.6972, -1.1139,  0.0000,  0.0000,  0.0000],\n",
      "        [-3.4865, -1.5482, -1.0179,  2.0728,  0.0000,  0.0000],\n",
      "        [-3.0503, -1.5207, -1.1498,  1.9564,  1.8576,  0.0000]],\n",
      "       requires_grad=True)\n",
      "Parameter containing:\n",
      "tensor([ 3.4594,  0.7421, -1.3585,  2.0642,  1.1319,  0.6139],\n",
      "       requires_grad=True)\n",
      "Epoch 140: 0.6376194357872009\n",
      "Parameter containing:\n",
      "tensor([[ 0.0000,  0.0000,  0.0000,  0.0000,  0.0000,  0.0000],\n",
      "        [ 3.6773,  0.0000,  0.0000,  0.0000,  0.0000,  0.0000],\n",
      "        [ 3.9552,  2.4307,  0.0000,  0.0000,  0.0000,  0.0000],\n",
      "        [-4.1753, -1.8287, -1.0465,  0.0000,  0.0000,  0.0000],\n",
      "        [-3.7094, -1.7688, -1.1649,  2.0611,  0.0000,  0.0000],\n",
      "        [-3.1355, -1.5423, -1.1474,  1.9685,  1.8623,  0.0000]],\n",
      "       requires_grad=True)\n",
      "Parameter containing:\n",
      "tensor([ 3.0329, -0.1415, -1.8907,  2.4851,  1.0868,  0.7115],\n",
      "       requires_grad=True)\n",
      "Epoch 160: 0.44684478640556335\n",
      "Parameter containing:\n",
      "tensor([[ 0.0000,  0.0000,  0.0000,  0.0000,  0.0000,  0.0000],\n",
      "        [ 4.3920,  0.0000,  0.0000,  0.0000,  0.0000,  0.0000],\n",
      "        [ 4.1715,  2.8395,  0.0000,  0.0000,  0.0000,  0.0000],\n",
      "        [-4.4095, -2.2254, -1.0680,  0.0000,  0.0000,  0.0000],\n",
      "        [-3.6828, -1.8231, -1.0300,  2.1964,  0.0000,  0.0000],\n",
      "        [-3.1909, -1.6162, -1.1233,  2.0338,  1.8962,  0.0000]],\n",
      "       requires_grad=True)\n",
      "Parameter containing:\n",
      "tensor([ 2.0477, -1.1525, -2.8252,  3.0571,  1.5282,  0.8750],\n",
      "       requires_grad=True)\n",
      "Epoch 180: 0.05552895739674568\n",
      "Parameter containing:\n",
      "tensor([[ 0.0000,  0.0000,  0.0000,  0.0000,  0.0000,  0.0000],\n",
      "        [ 5.3496,  0.0000,  0.0000,  0.0000,  0.0000,  0.0000],\n",
      "        [ 4.3157,  3.7828,  0.0000,  0.0000,  0.0000,  0.0000],\n",
      "        [-4.3338, -3.0675, -0.9718,  0.0000,  0.0000,  0.0000],\n",
      "        [-3.5738, -2.1297, -0.9291,  2.4015,  0.0000,  0.0000],\n",
      "        [-3.0933, -1.6963, -0.9893,  2.0895,  1.8892,  0.0000]],\n",
      "       requires_grad=True)\n",
      "Parameter containing:\n",
      "tensor([ 0.1445, -2.4669, -3.7910,  3.9369,  2.0422,  1.2441],\n",
      "       requires_grad=True)\n"
     ]
    }
   ],
   "source": [
    "from VAN import *\n",
    "import matplotlib.pyplot as plt\n",
    "taille=6\n",
    "def p(s):\n",
    "    if torch.eq(s, torch.tensor([1.0, 1.0, 1.0, 0.0, 0.0, 0.0])).all().item():\n",
    "        return 0.469\n",
    "    elif torch.eq(s, torch.tensor([0.0, 0.0, 0.0, 1.0, 1.0, 1.0])).all().item():\n",
    "        return 0.469\n",
    "    else:\n",
    "        \n",
    "        return 0.001\n",
    "    \n",
    "def p2(s):\n",
    "    return 1/(2**6)\n",
    "\n",
    "def p3(s):\n",
    "    if torch.eq(s, torch.tensor([1.0, 1.0, 1.0, 0.0, 0.0, 0.0])).all().item():\n",
    "        return 0.75\n",
    "    elif torch.eq(s, torch.tensor([0.0, 0.0, 0.0, 1.0, 1.0, 1.0])).all().item():\n",
    "        return 0.25\n",
    "    else:\n",
    "        return 0.001\n",
    "\n",
    "\n",
    "\n",
    "mymodel=VAN(taille, torch.sigmoid)\n",
    "\n",
    "l=train(mymodel, p, n_iter=200, lr=1e-1, train_size=100)"
   ]
  },
  {
   "cell_type": "code",
   "execution_count": 2,
   "metadata": {},
   "outputs": [
    {
     "data": {
      "text/plain": [
       "[<matplotlib.lines.Line2D at 0x17988c8a490>]"
      ]
     },
     "execution_count": 2,
     "metadata": {},
     "output_type": "execute_result"
    },
    {
     "data": {
      "image/png": "[encoded data removed]",
      "text/plain": [
       "<Figure size 640x480 with 1 Axes>"
      ]
     },
     "metadata": {},
     "output_type": "display_data"
    }
   ],
   "source": [
    "plt.plot(l)"
   ]
  },
  {
   "cell_type": "code",
   "execution_count": 4,
   "metadata": {},
   "outputs": [],
   "source": [
    "y1=(torch.tensor([1.0, 1.0, 1.0, 0.0, 0.0, 0.0]))\n",
    "y2=(torch.tensor([0.0, 0.0, 0.0, 0.0, 0.0, 0.0]))\n",
    "y3=(torch.tensor([0., 0., 0., 0., 0., 1.]))\n",
    "y4=(torch.tensor([0., 0., 0., 1., 1., 1.]))"
   ]
  },
  {
   "cell_type": "code",
   "execution_count": 26,
   "metadata": {},
   "outputs": [],
   "source": [
    "\n",
    "def prob(s_hat, s):\n",
    "    return (s_hat**s)*(1-s_hat)**(1-s)"
   ]
  },
  {
   "cell_type": "code",
   "execution_count": 5,
   "metadata": {},
   "outputs": [
    {
     "data": {
      "text/plain": [
       "tensor([0.4490, 0.9561, 0.9874, 0.0073, 0.0071, 0.0056],\n",
       "       grad_fn=<SigmoidBackward0>)"
      ]
     },
     "execution_count": 5,
     "metadata": {},
     "output_type": "execute_result"
    }
   ],
   "source": [
    "mymodel(y1)"
   ]
  },
  {
   "cell_type": "code",
   "execution_count": 6,
   "metadata": {},
   "outputs": [],
   "source": [
    "def calculer_proba(spin, model):\n",
    "    res=1\n",
    "    probas=(model(spin)).detach().numpy()\n",
    "    for i in range(len(spin)):\n",
    "        res*=prob(probas[i], spin[i].detach().numpy())\n",
    "    return res"
   ]
  },
  {
   "cell_type": "code",
   "execution_count": 10,
   "metadata": {},
   "outputs": [
    {
     "data": {
      "text/plain": [
       "0.5029874263654445"
      ]
     },
     "execution_count": 10,
     "metadata": {},
     "output_type": "execute_result"
    }
   ],
   "source": [
    "calculer_proba(y4, mymodel)"
   ]
  },
  {
   "cell_type": "code",
   "execution_count": 19,
   "metadata": {},
   "outputs": [
    {
     "data": {
      "text/plain": [
       "tensor(9.8412e-08, grad_fn=<ProdBackward0>)"
      ]
     },
     "execution_count": 19,
     "metadata": {},
     "output_type": "execute_result"
    }
   ],
   "source": [
    "#multiplication ensemble des éléments d'un tenseur:\n",
    "torch.prod((mymodel(y1)))\n",
    "\n"
   ]
  },
  {
   "cell_type": "code",
   "execution_count": 10,
   "metadata": {},
   "outputs": [
    {
     "name": "stdout",
     "output_type": "stream",
     "text": [
      "Parameter containing:\n",
      "tensor([[nan, nan, nan, nan, nan, nan],\n",
      "        [nan, nan, nan, nan, nan, nan],\n",
      "        [nan, nan, nan, nan, nan, nan],\n",
      "        [nan, nan, nan, nan, nan, nan],\n",
      "        [nan, nan, nan, nan, nan, nan],\n",
      "        [nan, nan, nan, nan, nan, nan]], requires_grad=True)\n",
      "Parameter containing:\n",
      "tensor([nan, nan, nan, nan, nan, nan], requires_grad=True)\n"
     ]
    }
   ],
   "source": [
    "for param in mymodel.parameters():\n",
    "    print(param)"
   ]
  },
  {
   "cell_type": "code",
   "execution_count": 3,
   "metadata": {},
   "outputs": [
    {
     "data": {
      "text/plain": [
       "[<matplotlib.lines.Line2D at 0x2063ff173d0>]"
      ]
     },
     "execution_count": 3,
     "metadata": {},
     "output_type": "execute_result"
    },
    {
     "data": {
      "image/png": "[encoded data removed]",
      "text/plain": [
       "<Figure size 640x480 with 1 Axes>"
      ]
     },
     "metadata": {},
     "output_type": "display_data"
    }
   ],
   "source": [
    "plt.plot(l)"
   ]
  },
  {
   "cell_type": "code",
   "execution_count": 3,
   "metadata": {},
   "outputs": [
    {
     "data": {
      "image/png": "[encoded data removed]",
      "text/plain": [
       "<Figure size 640x480 with 1 Axes>"
      ]
     },
     "metadata": {},
     "output_type": "display_data"
    }
   ],
   "source": [
    "#test de kulback kiebler\n",
    "# tirs selon deux gaussiennes:\n",
    "# on tire 1000 fois selon une gaussienne de moyenne 0 et variance 1\n",
    "x1 = np.random.randn(1000)\n",
    "# on tire 1000 fois selon une gaussienne de moyenne 1 et variance 1\n",
    "x2 = np.random.randn(1000) + 1\n",
    "\n",
    "x=np.arange(-5,5, 0.01)\n",
    "\n",
    "# on calcule les histogrammes\n",
    "# gaussienne 1: \n",
    "def g1(x):\n",
    "    return 1/np.sqrt(2*np.pi)*np.exp(-x**2/2)\n",
    "# gaussienne 2:\n",
    "def g2(x):\n",
    "    return 1/np.sqrt(2*np.pi)*np.exp(-(x-1)**2/2)\n",
    "\n",
    "# on calcule les histogrammes\n",
    "h1, bins1 = np.histogram(x1, bins=50, density=True)\n",
    "h2, bins2 = np.histogram(x2, bins=50, density=True)\n",
    "\n",
    "# plot des histogrammes avec la densité sur le même graphe\n",
    "plt.bar(bins1[:-1], h1, width=0.1, alpha=0.5)\n",
    "plt.bar(bins2[:-1], h2, width=0.1, alpha=0.5)\n",
    "# ajout de la densité: \n",
    "plt.plot(x, g1(x), label='gaussienne 1')\n",
    "plt.plot(x, g2(x), label='gaussienne 2')\n",
    "plt.legend()\n",
    "plt.show()\n",
    "\n"
   ]
  },
  {
   "cell_type": "code",
   "execution_count": 32,
   "metadata": {},
   "outputs": [],
   "source": [
    "\n",
    "def g2(x, i):\n",
    "    return 1/np.sqrt(2*np.pi)*np.exp(-(x-0.01*i)**2/2)\n",
    "l=[]\n",
    "for i in range(200): \n",
    "    # on tire des points selon x1:\n",
    "    x1 = np.random.randn(1000)\n",
    "    # proba d'observer ces points selon g1 et g2\n",
    "    x1t=g1(torch.tensor(x1))\n",
    "    x2t=g2(torch.tensor(x1),-100+ i)\n",
    "\n",
    "    l.append(Kulback_Leibler(x1t, x2t))"
   ]
  },
  {
   "cell_type": "code",
   "execution_count": 33,
   "metadata": {},
   "outputs": [
    {
     "data": {
      "text/plain": [
       "[<matplotlib.lines.Line2D at 0x201b57dd7c0>]"
      ]
     },
     "execution_count": 33,
     "metadata": {},
     "output_type": "execute_result"
    },
    {
     "data": {
      "image/png": "[encoded data removed]",
      "text/plain": [
       "<Figure size 640x480 with 1 Axes>"
      ]
     },
     "metadata": {},
     "output_type": "display_data"
    }
   ],
   "source": [
    "plt.plot(l)"
   ]
  },
  {
   "cell_type": "code",
   "execution_count": 22,
   "metadata": {},
   "outputs": [
    {
     "name": "stdout",
     "output_type": "stream",
     "text": [
      "tensor(-2.0495, dtype=torch.float64)\n",
      "tensor(0.4256, dtype=torch.float64)\n"
     ]
    }
   ],
   "source": [
    "print(x1t[0])\n",
    "print(x2t[0])"
   ]
  },
  {
   "cell_type": "code",
   "execution_count": 20,
   "metadata": {},
   "outputs": [
    {
     "data": {
      "text/plain": [
       "tensor([        nan,         nan,         nan,         nan,         nan,\n",
       "        -1.3983e-01, -1.7157e+00,         nan,  1.9925e+00, -2.0032e+00,\n",
       "         8.7613e-01,  1.0921e+00,         nan,         nan, -1.2104e+00,\n",
       "        -1.1244e+00,         nan,  1.0673e+00, -2.5688e+00, -2.0533e+00,\n",
       "        -3.0995e+00, -3.9871e-01, -2.0890e+00,  9.6680e-02,         nan,\n",
       "                nan,         nan,  1.1465e+00, -6.7732e-02,         nan,\n",
       "                nan,         nan,         nan, -7.3436e-01, -1.7632e+00,\n",
       "         1.2531e+00,  8.4728e-01,  1.4681e+00,         nan, -1.7175e+00,\n",
       "                nan,         nan,         nan,         nan, -1.4045e+00,\n",
       "        -2.5341e-02, -2.5290e+00, -1.8682e+00, -1.3204e-01,         nan,\n",
       "                nan,  1.0982e+00,  1.2343e+00,  7.4602e-01,         nan,\n",
       "                nan, -6.1683e-01, -2.9431e+00,         nan,  4.9911e-01,\n",
       "                nan,  2.1591e+00,         nan,  5.6299e-01,         nan,\n",
       "                nan,         nan,         nan,         nan,         nan,\n",
       "        -1.1866e+00, -3.0435e-01, -3.6471e-01,         nan,         nan,\n",
       "                nan, -6.7675e-01,         nan,         nan,         nan,\n",
       "                nan, -5.8704e-02,  4.0239e-02,         nan,         nan,\n",
       "                nan, -1.1605e+00, -1.1712e+00,  1.7725e+00,         nan,\n",
       "         9.9085e-01,         nan,         nan,         nan, -6.8133e-01,\n",
       "                nan,  1.5845e-01,         nan,         nan,         nan,\n",
       "                nan,         nan,         nan, -2.3806e+00,  3.4910e-02,\n",
       "                nan,         nan, -2.2643e+00,         nan, -1.3651e+00,\n",
       "                nan,         nan,         nan,         nan, -9.5801e-01,\n",
       "                nan, -4.3035e-01, -3.1916e+00, -9.3157e-01,  3.8089e+00,\n",
       "         7.5803e-01,         nan,         nan,  2.1214e-01,  2.8762e+00,\n",
       "         1.6559e+00,         nan,         nan,         nan,  7.8785e-01,\n",
       "        -6.9099e-01, -3.2059e+00,         nan, -2.7683e+00,         nan,\n",
       "        -2.1133e+00, -1.4118e+00, -8.5902e-01,         nan,         nan,\n",
       "        -9.9584e-02,  7.8168e-01,         nan,         nan,         nan,\n",
       "         9.7803e-01,         nan,  2.3709e+00,  9.1191e-01,  8.4143e-01,\n",
       "         3.7036e-01, -1.2324e+00,  2.7434e-02, -9.6865e-01, -3.4799e-02,\n",
       "                nan, -1.1888e+00,         nan,  4.6124e-01,  3.7184e-01,\n",
       "                nan, -2.4388e+00, -1.7697e+00,         nan, -1.6491e+00,\n",
       "                nan,         nan,         nan, -1.0738e-01,         nan,\n",
       "        -9.3340e-01,         nan,         nan,         nan,         nan,\n",
       "                nan,  3.8640e-01,         nan, -4.3022e+00,         nan,\n",
       "                nan,         nan,         nan,  8.0676e-02, -2.8380e+00,\n",
       "         4.5902e-01,         nan, -6.5719e-01,         nan,         nan,\n",
       "        -8.7741e-01, -1.9030e-01,         nan,  1.9080e+00,         nan,\n",
       "         1.1622e-01,         nan, -9.9663e-01,         nan,         nan,\n",
       "         4.9551e-04, -7.0181e-01,  3.3173e+00, -1.3087e+00, -2.3539e+00,\n",
       "                nan,         nan,         nan,         nan, -1.7164e+00,\n",
       "        -1.5052e+00,         nan,         nan,  9.2003e-01,         nan,\n",
       "        -8.5507e-01,  1.0702e-01,  2.0141e-01,         nan, -1.1493e+00,\n",
       "        -1.0992e+00, -4.2448e+00,         nan,  1.5946e+00, -8.1926e-01,\n",
       "                nan, -6.3981e-01,         nan,         nan,  6.2502e-01,\n",
       "        -1.1228e-01,         nan,         nan,         nan,         nan,\n",
       "        -2.2322e+00,         nan,         nan,         nan,  1.3494e+00,\n",
       "                nan,         nan,         nan, -8.9811e-02, -2.2929e-01,\n",
       "         3.7206e-01,         nan,         nan,         nan,  5.4354e-01,\n",
       "        -4.7824e-01, -5.7726e-01,  3.4352e-01,         nan,         nan,\n",
       "        -6.3583e-01, -1.7301e-01,         nan,         nan,  1.5096e+00,\n",
       "        -1.7986e-01, -3.3629e-02, -1.7912e+00, -1.3513e+00,         nan,\n",
       "        -2.3128e+00,  3.9468e-01, -2.7882e+00,         nan,         nan,\n",
       "                nan, -9.0478e-01, -1.7232e+00, -2.3026e-01,         nan,\n",
       "        -2.1842e+00, -4.6810e-01,         nan, -1.5322e+00, -8.0388e-01,\n",
       "                nan,         nan, -2.5356e-01,         nan,  2.6716e+00,\n",
       "                nan,         nan, -4.8951e-01,         nan,         nan,\n",
       "                nan, -1.0498e-03, -1.2635e+00,         nan,  1.5792e+00,\n",
       "         2.3878e+00, -1.8078e+00,         nan,         nan,         nan,\n",
       "         1.5601e-01,  5.9719e-02,  2.5918e+00,         nan,         nan,\n",
       "        -4.3476e-01,         nan,  9.1995e-01,         nan,  1.0003e+00,\n",
       "                nan,  6.0083e-01,         nan,         nan,  2.7324e-01,\n",
       "                nan, -5.2460e-01, -1.4901e+00, -1.5831e+00,  1.9992e-01,\n",
       "        -5.6546e-02, -1.3654e+00, -2.8587e+00, -1.4323e+00,  8.2391e-01,\n",
       "                nan, -1.7637e+00, -1.2243e+00, -3.0606e-01,         nan,\n",
       "                nan,         nan, -2.5271e+00,         nan,         nan,\n",
       "        -7.5200e-03, -2.4367e+00,         nan, -9.4880e-01,         nan,\n",
       "        -1.3625e+00,         nan,         nan, -1.7417e+00,         nan,\n",
       "                nan,  2.4140e-01, -2.5794e+00,         nan,         nan,\n",
       "                nan,         nan, -6.1888e-01,         nan,         nan,\n",
       "        -2.1112e+00, -1.0074e+00,         nan, -8.1842e-01,  4.4707e-01,\n",
       "        -5.8665e-01,         nan, -8.2474e-01,  1.3533e+00, -9.6456e-01,\n",
       "                nan,  8.4989e-02,         nan,         nan, -1.1357e+00,\n",
       "        -4.7691e-01,  3.2080e+00, -1.5164e+00,         nan, -4.5581e-03,\n",
       "        -2.6846e+00, -1.1452e+00,         nan,  6.4860e-01, -1.1531e+00,\n",
       "                nan,         nan,         nan, -2.4498e-01,         nan,\n",
       "                nan,  2.8405e-01,         nan,         nan, -8.9319e-01,\n",
       "         1.9665e-01,         nan,         nan,         nan, -1.3898e-02,\n",
       "         1.5527e+00,         nan,  7.1951e-02,         nan,         nan,\n",
       "                nan,         nan,  3.2227e+00,  5.9892e-01,         nan,\n",
       "                nan,  1.9099e-02,  5.0802e-02,         nan,         nan,\n",
       "                nan,         nan,  2.4814e+00,         nan,         nan,\n",
       "                nan,         nan, -1.0284e+00,         nan,  2.6148e-01,\n",
       "        -6.2322e-01,  6.3407e-01, -4.9550e+00, -2.0935e+00,         nan,\n",
       "                nan,         nan, -4.2284e+00,  1.6416e-01,         nan,\n",
       "        -6.6907e-01,         nan,         nan, -1.1145e+00,         nan,\n",
       "        -1.2517e+00,  2.0464e+00,  1.3290e+00,         nan,         nan,\n",
       "         4.3506e-01,         nan,         nan, -3.2979e-01,         nan,\n",
       "        -8.3754e-01, -8.4289e-01,         nan, -1.0700e+00, -6.9173e-02,\n",
       "        -1.9888e+00,         nan, -5.4640e-01,         nan,         nan,\n",
       "                nan,         nan, -9.6129e-01, -8.5719e-01, -2.9770e+00,\n",
       "         4.7918e-01,         nan,  7.7054e-01,         nan,         nan,\n",
       "                nan,         nan,  2.4274e+00, -2.5462e+00,         nan,\n",
       "        -5.3886e-01,         nan, -1.7993e+00,         nan,         nan,\n",
       "        -7.7731e-01, -1.5978e+00, -1.3767e+00,         nan,         nan,\n",
       "        -6.9704e-01, -5.2003e-01, -1.5790e+00,         nan,         nan,\n",
       "         5.9215e-01, -1.2645e+00, -1.1301e+00,         nan,         nan,\n",
       "        -9.9455e-01, -1.0184e+00, -1.2941e+00, -1.3395e+00,         nan,\n",
       "                nan,         nan, -1.4841e+00, -1.1735e+00,  4.4136e-01,\n",
       "        -1.3745e+00,         nan, -1.2903e+00, -1.9531e+00,         nan,\n",
       "                nan, -4.2081e+00,         nan, -1.4976e+00, -2.1657e+00,\n",
       "                nan,         nan, -1.5288e+00,         nan,         nan,\n",
       "                nan,         nan, -1.0867e+00,         nan,         nan,\n",
       "        -5.5983e-02,         nan, -1.5942e+00,  1.7448e-01,  2.1159e-01,\n",
       "                nan,  1.0763e-01,  1.3866e-01,  1.3779e+00,  9.2878e-01,\n",
       "        -1.7923e+00,         nan,         nan,         nan, -1.5042e+00,\n",
       "                nan, -5.5907e-01,  1.7360e+00,  2.4019e+00,         nan,\n",
       "                nan,         nan,  1.9376e-02,         nan, -1.4255e+00,\n",
       "                nan,  5.6949e-02, -2.0306e+00, -2.5451e+00,         nan,\n",
       "         7.0085e-01,         nan,  2.7340e+00,         nan,         nan,\n",
       "        -1.1782e-01, -1.1040e+00,  4.0442e-01,         nan,         nan,\n",
       "         1.4370e-01,         nan,         nan, -1.2562e+00, -2.2203e+00,\n",
       "                nan,  5.5466e-01, -1.6052e+00, -1.1507e+00,         nan,\n",
       "        -4.3014e-01,  9.4555e-01,         nan, -1.2590e+00, -1.7372e+00,\n",
       "                nan,         nan, -1.1942e-01,         nan,         nan,\n",
       "                nan, -9.8422e-01,         nan, -8.2928e-01, -1.2634e-01,\n",
       "                nan,  5.0805e-01, -1.7003e+00, -1.1694e+00, -9.3439e-02,\n",
       "                nan,         nan,  1.0557e+00,  1.2335e+00,         nan,\n",
       "        -4.5537e-01,         nan, -9.5163e-02, -1.2174e-01,         nan,\n",
       "        -3.4272e+00,         nan, -1.9821e+00,  5.9332e-01, -1.1554e+00,\n",
       "                nan, -2.4236e+00,         nan,  9.9887e-01,         nan,\n",
       "                nan, -2.9898e+00, -1.9907e+00,  2.6156e+00,         nan,\n",
       "                nan, -9.0328e-01,         nan,         nan,         nan,\n",
       "                nan,  2.8092e-01,         nan,  4.6971e-01, -8.1914e-01,\n",
       "         8.0577e-01,  9.5873e-01, -4.0256e-01, -5.5371e-01,         nan,\n",
       "                nan,         nan, -1.2731e+00,  7.5950e-02, -7.8341e-02,\n",
       "                nan,         nan,         nan, -3.8941e+00,         nan,\n",
       "        -1.9672e-01, -5.9567e-01,  2.3236e-01, -7.0715e-01,  1.9310e+00,\n",
       "                nan,         nan,  4.3612e-01, -3.3165e+00,         nan,\n",
       "                nan,         nan, -2.2516e+00,  1.4741e+00, -1.2100e+00,\n",
       "                nan, -1.8509e-02, -1.0968e+00, -1.1481e+00,  2.0036e-01,\n",
       "                nan, -1.1512e+00, -3.9697e+00,         nan,         nan,\n",
       "                nan, -6.4724e-01,  5.7329e-01,         nan,  2.8802e-01,\n",
       "                nan, -1.1511e+00,         nan,         nan, -4.6773e-01,\n",
       "                nan,         nan, -1.1626e-01,  3.4202e+00,         nan,\n",
       "                nan, -2.9658e+00, -1.3225e+00, -2.1060e+00,         nan,\n",
       "                nan,  1.4546e-01,         nan,  5.2567e-01, -3.0826e+00,\n",
       "                nan, -2.5498e-01,         nan, -1.7112e-01, -5.0194e-01,\n",
       "        -7.7584e-01, -1.8086e-01,  3.9588e+00,         nan,  1.6337e+00,\n",
       "                nan, -5.8269e-01, -6.7663e-02,         nan, -7.8372e-01,\n",
       "                nan, -8.1621e-01, -9.2998e-02, -1.6202e+00, -2.8694e-02,\n",
       "        -2.7071e+00, -3.1612e-01,  1.3907e+00,         nan,         nan,\n",
       "                nan,         nan,         nan,         nan,         nan,\n",
       "        -7.7086e-02,  1.9270e+00,         nan,         nan,         nan,\n",
       "        -1.4670e+00,         nan,  7.6285e-01,         nan,         nan,\n",
       "        -1.1365e+00, -5.8957e-02,         nan,         nan,         nan,\n",
       "                nan, -2.9175e+00,  1.3296e+00,         nan, -1.6181e+00,\n",
       "                nan,         nan,  2.7090e-01, -2.3972e+00,         nan,\n",
       "        -3.5679e+00,         nan, -6.5645e-01,  8.6230e-01, -8.1075e-01,\n",
       "                nan,         nan,  1.6819e-01, -2.7716e+00,  4.9624e-01,\n",
       "                nan, -7.6322e-01,         nan,  7.9832e+00,  3.5559e-01,\n",
       "        -1.4628e+00,         nan,  1.1529e+00,         nan, -2.3443e-01,\n",
       "        -1.8375e+00,         nan,         nan,         nan,         nan,\n",
       "         7.7471e-01,         nan,  1.3042e+00,         nan,         nan,\n",
       "        -4.1156e-01,         nan, -9.4681e-01,  2.2570e+00, -2.7220e+00,\n",
       "                nan,         nan,         nan,         nan,  8.9663e-01,\n",
       "         8.2824e-01,         nan,  2.0461e+00,  3.0934e+00, -3.5792e+00,\n",
       "                nan,         nan,         nan,         nan,         nan,\n",
       "                nan,         nan,         nan, -9.8960e-01,  1.8565e+00,\n",
       "        -1.5366e+00, -1.5083e+00,         nan,         nan, -2.7746e-01,\n",
       "                nan, -1.1327e+00,  3.7366e-01,         nan, -8.1575e-01,\n",
       "                nan,  1.0389e-01, -6.8867e-02,         nan, -8.0796e-01,\n",
       "         5.7398e-02, -8.1972e-01,         nan, -1.1972e+00, -7.1967e-01,\n",
       "        -1.1504e+00, -3.6082e+00,         nan, -1.0170e+00,         nan,\n",
       "                nan,         nan, -4.9050e+00, -3.4522e-01,         nan,\n",
       "         2.4627e+00,         nan, -1.2320e+00,         nan,         nan,\n",
       "                nan,  1.6153e+00,         nan,         nan,  1.2449e+00,\n",
       "                nan,         nan, -1.0788e-01, -7.5288e-01, -7.8184e-01,\n",
       "                nan,         nan,  1.2939e-01,  3.6196e-01,         nan,\n",
       "                nan,         nan,         nan,         nan,         nan,\n",
       "         2.0331e-01,         nan, -1.1240e+00,         nan, -2.4106e+00,\n",
       "         2.2192e+00, -1.0669e+00,         nan,  1.1124e+00,  1.2891e+00,\n",
       "        -3.6467e-01,         nan,  9.0798e-01,         nan,         nan,\n",
       "                nan, -3.1455e-01,         nan, -3.7323e-01,         nan,\n",
       "                nan, -2.9373e-01,         nan,         nan, -4.2187e+00,\n",
       "        -1.1918e+00, -1.2441e+00,  5.8030e-01, -7.3153e-01, -2.3353e+00,\n",
       "        -6.5361e-01,         nan,         nan,  4.7479e-01, -6.0390e-01,\n",
       "        -2.5826e+00,  7.8282e-01,  1.8315e+00,         nan,         nan,\n",
       "                nan, -1.9124e-01,  2.4471e+00, -4.6294e-01, -2.1611e-01,\n",
       "        -7.2486e-01, -3.4507e-01,         nan,         nan, -2.3788e-01,\n",
       "                nan, -4.9125e-01,         nan,         nan, -1.2155e+00,\n",
       "                nan,         nan,         nan,         nan,         nan,\n",
       "                nan,         nan, -1.7051e-01, -7.2710e-01,         nan,\n",
       "        -1.3748e+00,  1.0184e+00,         nan, -1.0584e+00,  9.9664e-01,\n",
       "                nan,         nan,         nan,         nan,         nan,\n",
       "                nan,  1.8565e+00, -2.5822e+00,         nan,         nan,\n",
       "                nan, -2.9726e-01, -2.0731e-01,         nan, -1.2069e+00,\n",
       "        -3.1227e-01, -4.0827e-01,         nan,         nan,         nan,\n",
       "         1.2947e+00,         nan,         nan, -1.1844e+00,         nan,\n",
       "                nan,         nan,         nan, -1.4232e+00, -9.5505e-02,\n",
       "        -6.4507e-01, -2.3965e+00, -4.8778e-01,         nan, -7.6434e-01,\n",
       "                nan,         nan,         nan,         nan,         nan,\n",
       "                nan, -3.1000e+00, -8.0802e-02,         nan,         nan,\n",
       "                nan,  5.8684e-01, -1.3728e+00, -7.6909e-01,         nan,\n",
       "         9.9434e-02, -4.4478e-02,         nan,  1.1571e+00,         nan,\n",
       "                nan,         nan,  1.8810e+00,  7.8185e-02,  7.7273e-01,\n",
       "                nan,         nan,         nan,  1.3955e+00,         nan,\n",
       "                nan, -5.8072e-01,         nan,  2.2086e+00,         nan,\n",
       "        -1.5095e+00, -8.7051e-01,         nan, -1.1371e+00,         nan],\n",
       "       dtype=torch.float64)"
      ]
     },
     "execution_count": 20,
     "metadata": {},
     "output_type": "execute_result"
    }
   ],
   "source": [
    "torch.log(x1t/x2t)"
   ]
  },
  {
   "cell_type": "code",
   "execution_count": 7,
   "metadata": {},
   "outputs": [
    {
     "name": "stdout",
     "output_type": "stream",
     "text": [
      "tensor([0.7684, 0.1117, 0.0257, 0.0168, 0.0080, 0.0086], grad_fn=<CopySlices>)\n",
      "tensor([0.7684, 0.2989, 0.2419, 0.1928, 0.2580, 0.0797], grad_fn=<CopySlices>)\n"
     ]
    }
   ],
   "source": [
    "print(mymodel(torch.tensor([1.0, 1.0, 1.0, 1.0, 0.0, 0.0])))\n",
    "print(mymodel(torch.tensor([0.0, 0.0, 0.0, 0.0, 1.0, 1.0])))"
   ]
  },
  {
   "cell_type": "code",
   "execution_count": 17,
   "metadata": {},
   "outputs": [
    {
     "data": {
      "text/plain": [
       "[<matplotlib.lines.Line2D at 0x189118216d0>]"
      ]
     },
     "execution_count": 17,
     "metadata": {},
     "output_type": "execute_result"
    },
    {
     "data": {
      "image/png": "[encoded data removed]",
      "text/plain": [
       "<Figure size 640x480 with 1 Axes>"
      ]
     },
     "metadata": {},
     "output_type": "display_data"
    }
   ],
   "source": [
    "plt.plot(l)"
   ]
  },
  {
   "cell_type": "code",
   "execution_count": 3,
   "metadata": {},
   "outputs": [
    {
     "data": {
      "text/plain": [
       "[<matplotlib.lines.Line2D at 0x1890d20b3d0>]"
      ]
     },
     "execution_count": 3,
     "metadata": {},
     "output_type": "execute_result"
    },
    {
     "data": {
      "image/png": "[encoded data removed]",
      "text/plain": [
       "<Figure size 640x480 with 1 Axes>"
      ]
     },
     "metadata": {},
     "output_type": "display_data"
    }
   ],
   "source": [
    "plt.plot(l)"
   ]
  },
  {
   "cell_type": "markdown",
   "metadata": {},
   "source": [
    "The code you provided is a PyTorch implementation of a Variable Auto-regressive Network (VAN). There are a few potential issues that could be causing the code to not work as expected:\n",
    "\n",
    "In-place operations on Variables that require grad: In the forward method of the VAN class, you are modifying x[0] in-place. This could potentially cause issues with PyTorch's autograd system. Instead of modifying x in-place, consider creating a new tensor with the modified values.\n",
    "\n",
    "Potential division by zero in Kulback_Leibler function: If any value in p is zero, torch.log(q/p) will throw an error because division by zero is undefined. You should add a small constant to p to prevent division by zero.\n",
    "\n",
    "Use of numpy functions on PyTorch tensors: In the train function, you are using np.random.binomial on a PyTorch tensor. This could cause issues because numpy functions do not support PyTorch's autograd system. Consider using PyTorch's random functions instead.\n",
    "\n",
    "Creating new tensors in a loop: In the train function, you are creating new tensors in a loop. This could potentially cause memory issues. Consider pre-allocating the tensor outside the loop and then filling in the values inside the loop.\n",
    "\n",
    "Calling .detach() on tensors: In the train function, you are calling .detach() on tensors before using them in computations. This will prevent PyTorch's autograd system from tracking computations on these tensors, which could cause issues with backpropagation.\n",
    "\n",
    "Printing gradients: In the train function, you are trying to print the gradients of q_theta_predit and y_train. However, these tensors may not have gradients because they are not involved in the computation of loss. Only tensors that are involved in the computation of loss and have requires_grad=True will have gradients.\n",
    "\n",
    "Please provide more specific details about the error messages you are encountering for a more accurate diagnosis."
   ]
  },
  {
   "cell_type": "code",
   "execution_count": 5,
   "metadata": {},
   "outputs": [
    {
     "name": "stdout",
     "output_type": "stream",
     "text": [
      "None\n",
      "None\n"
     ]
    }
   ],
   "source": [
    "\n",
    "for param in mymodel.parameters():\n",
    "    print(param.grad)"
   ]
  },
  {
   "cell_type": "code",
   "execution_count": 8,
   "metadata": {},
   "outputs": [
    {
     "name": "stdout",
     "output_type": "stream",
     "text": [
      "tensor([5.])\n",
      "tensor([4.])\n"
     ]
    }
   ],
   "source": [
    "# exemple d'utilisation de torch.backward()\n",
    "x = torch.tensor([2.0], requires_grad=True)\n",
    "z = torch.tensor([1.0], requires_grad=True)\n",
    "y = x ** 2 + 2 * z + x*z\n",
    "y.backward()\n",
    "print(x.grad)\n",
    "print(z.grad)\n",
    "# x.grad est égal à 4.0 car y = x^2 et dy/dx = 2x donc dy/dx=4 en x=2\n",
    "\n"
   ]
  },
  {
   "cell_type": "code",
   "execution_count": 19,
   "metadata": {},
   "outputs": [
    {
     "name": "stdout",
     "output_type": "stream",
     "text": [
      "None\n"
     ]
    },
    {
     "name": "stderr",
     "output_type": "stream",
     "text": [
      "C:\\Users\\grego\\AppData\\Local\\Temp\\ipykernel_22400\\921216634.py:5: UserWarning: The .grad attribute of a Tensor that is not a leaf Tensor is being accessed. Its .grad attribute won't be populated during autograd.backward(). If you indeed want the .grad field to be populated for a non-leaf Tensor, use .retain_grad() on the non-leaf Tensor. If you access the non-leaf Tensor by mistake, make sure you access the leaf Tensor instead. See github.com/pytorch/pytorch/pull/30531 for more informations. (Triggered internally at C:\\cb\\pytorch_1000000000000\\work\\build\\aten\\src\\ATen/core/TensorBody.h:494.)\n",
      "  print(loss.grad)\n"
     ]
    }
   ],
   "source": [
    "y_1=torch.tensor([[1.0], [2.0], [3.0], [4.0]], requires_grad=True)\n",
    "y_2=torch.tensor([[5.0], [2.0], [3.0], [4.0]], requires_grad=True)\n",
    "loss=loss_fn(y_1, y_2)\n",
    "loss.backward()\n",
    "print(loss.grad)"
   ]
  },
  {
   "cell_type": "code",
   "execution_count": 13,
   "metadata": {},
   "outputs": [],
   "source": [
    "\n",
    "\n",
    "def loss_fn(y_pred, y_true):\n",
    "    return torch.mean((y_pred - y_true) ** 2)"
   ]
  },
  {
   "cell_type": "code",
   "execution_count": 22,
   "metadata": {},
   "outputs": [
    {
     "data": {
      "text/plain": [
       "torch.Tensor"
      ]
     },
     "execution_count": 22,
     "metadata": {},
     "output_type": "execute_result"
    }
   ],
   "source": [
    "type(torch.tensor(float(np.random.binomial(1, 0.5))))"
   ]
  },
  {
   "cell_type": "code",
   "execution_count": 13,
   "metadata": {},
   "outputs": [
    {
     "name": "stdout",
     "output_type": "stream",
     "text": [
      "tensor([1.])\n",
      "tensor([5.], grad_fn=<MulBackward0>)\n",
      "tensor([5.], grad_fn=<MulBackward0>)\n"
     ]
    },
    {
     "data": {
      "text/plain": [
       "tensor([5.])"
      ]
     },
     "execution_count": 13,
     "metadata": {},
     "output_type": "execute_result"
    }
   ],
   "source": [
    "a=torch.tensor([1.0])\n",
    "print(a)\n",
    "a.requires_grad=True\n",
    "b=a*5\n",
    "print(b)\n",
    "b.backward()\n",
    "print(b)\n",
    "a.grad\n"
   ]
  },
  {
   "cell_type": "code",
   "execution_count": 9,
   "metadata": {},
   "outputs": [],
   "source": [
    "def KL(q,p):\n",
    "    return torch.sum(torch.log(q/p))"
   ]
  },
  {
   "cell_type": "code",
   "execution_count": 10,
   "metadata": {},
   "outputs": [
    {
     "name": "stdout",
     "output_type": "stream",
     "text": [
      "tensor(0.4871)\n",
      "tensor(0.4871)\n"
     ]
    }
   ],
   "source": [
    "p=torch.tensor([0.1, 0.2, 0.3, 0.4])\n",
    "q=torch.tensor([0.25, 0.25, 0.25, 0.25])\n",
    "print(KL(q,p))\n",
    "print(Kulback_Leibler(q,p))"
   ]
  },
  {
   "cell_type": "code",
   "execution_count": null,
   "metadata": {},
   "outputs": [],
   "source": [
    "# il me faut un loss(y1, y2) pour pouvoir écrire loss(model(x_train), y_train)"
   ]
  },
  {
   "cell_type": "code",
   "execution_count": 6,
   "metadata": {},
   "outputs": [
    {
     "data": {
      "text/plain": [
       "tensor([0.5000, 2.0000, 3.0000, 4.0000, 5.0000])"
      ]
     },
     "execution_count": 6,
     "metadata": {},
     "output_type": "execute_result"
    }
   ],
   "source": [
    "x=torch.tensor([1, 2, 3, 4, 5]).float()\n",
    "modified_x = x.clone()  # Create a copy of x to avoid modifying the original tensor\n",
    "modified_x[0] = 0.5 \n",
    "modified_x"
   ]
  },
  {
   "cell_type": "code",
   "execution_count": 4,
   "metadata": {},
   "outputs": [
    {
     "data": {
      "text/plain": [
       "tensor(15.)"
      ]
     },
     "execution_count": 4,
     "metadata": {},
     "output_type": "execute_result"
    }
   ],
   "source": [
    "torch.sum(torch.tensor([1, 2, 3, 4, 5]).float())"
   ]
  },
  {
   "cell_type": "code",
   "execution_count": 4,
   "metadata": {},
   "outputs": [
    {
     "data": {
      "text/plain": [
       "[<matplotlib.lines.Line2D at 0x2086746e160>]"
      ]
     },
     "execution_count": 4,
     "metadata": {},
     "output_type": "execute_result"
    },
    {
     "data": {
      "image/png": "[encoded data removed]",
      "text/plain": [
       "<Figure size 640x480 with 1 Axes>"
      ]
     },
     "metadata": {},
     "output_type": "display_data"
    }
   ],
   "source": [
    "plt.plot(l, 'o')"
   ]
  },
  {
   "cell_type": "code",
   "execution_count": 22,
   "metadata": {},
   "outputs": [
    {
     "name": "stdout",
     "output_type": "stream",
     "text": [
      "Epoch [10/100], Loss: 10.4826\n",
      "Epoch [20/100], Loss: 7.7014\n",
      "Epoch [30/100], Loss: 4.5211\n",
      "Epoch [40/100], Loss: 1.8772\n",
      "Epoch [50/100], Loss: 0.6904\n",
      "Epoch [60/100], Loss: 0.3596\n",
      "Epoch [70/100], Loss: 0.2629\n",
      "Epoch [80/100], Loss: 0.2197\n",
      "Epoch [90/100], Loss: 0.1920\n",
      "Epoch [100/100], Loss: 0.1706\n"
     ]
    },
    {
     "data": {
      "image/png": "[encoded data removed]",
      "text/plain": [
       "<Figure size 640x480 with 1 Axes>"
      ]
     },
     "metadata": {},
     "output_type": "display_data"
    }
   ],
   "source": [
    "import torch\n",
    "import torch.nn as nn\n",
    "import torch.optim as optim\n",
    "import matplotlib.pyplot as plt\n",
    "\n",
    "# Define a simple multilayer perceptron for regression\n",
    "class MLP(nn.Module):\n",
    "    def __init__(self, input_size, hidden_size, output_size):\n",
    "        super(MLP, self).__init__()\n",
    "        self.fc1 = nn.Linear(input_size, hidden_size)\n",
    "        self.fc2 = nn.Linear(hidden_size, output_size)\n",
    "\n",
    "    def forward(self, x):\n",
    "        x = torch.relu(self.fc1(x))\n",
    "        x = self.fc2(x)\n",
    "        return x\n",
    "\n",
    "# Generate synthetic dataset for regression\n",
    "def generate_dataset(num_samples=100, input_size=1):\n",
    "    # Generate random input data\n",
    "    inputs = torch.randn(num_samples, input_size)\n",
    "    # Generate target labels as a function of inputs\n",
    "    targets = 3 * inputs + 2 + 0.2 * torch.randn(num_samples, 1)  # Linear relation with some noise\n",
    "    return inputs, targets\n",
    "\n",
    "# Define training function\n",
    "def train(model, optimizer, criterion, inputs, targets, num_epochs=100):\n",
    "    losses = []\n",
    "    for epoch in range(num_epochs):\n",
    "        optimizer.zero_grad()\n",
    "        outputs = model(inputs)\n",
    "        loss = criterion(outputs, targets)\n",
    "        loss.backward()\n",
    "        optimizer.step()\n",
    "        losses.append(loss.item())\n",
    "\n",
    "        if (epoch + 1) % 10 == 0:\n",
    "            print(f\"Epoch [{epoch+1}/{num_epochs}], Loss: {loss.item():.4f}\")\n",
    "\n",
    "    return losses\n",
    "\n",
    "# Set random seed for reproducibility\n",
    "torch.manual_seed(42)\n",
    "\n",
    "# Hyperparameters\n",
    "input_size = 1\n",
    "hidden_size = 10\n",
    "output_size = 1\n",
    "learning_rate = 0.01\n",
    "num_epochs = 100\n",
    "\n",
    "# Generate dataset\n",
    "inputs, targets = generate_dataset()\n",
    "\n",
    "# Initialize model, optimizer, and loss function\n",
    "model = MLP(input_size, hidden_size, output_size)\n",
    "optimizer = optim.SGD(model.parameters(), lr=learning_rate)\n",
    "criterion = nn.MSELoss()\n",
    "\n",
    "# Train the model\n",
    "losses = train(model, optimizer, criterion, inputs, targets, num_epochs)\n",
    "\n",
    "# Plot the loss curve\n",
    "plt.plot(losses)\n",
    "plt.xlabel('Epoch')\n",
    "plt.ylabel('Loss')\n",
    "plt.title('Training Loss Curve')\n",
    "plt.show()\n"
   ]
  },
  {
   "cell_type": "code",
   "execution_count": 1,
   "metadata": {},
   "outputs": [],
   "source": [
    "\n",
    "\n",
    "def train(model, p_obj,  n_iter=100, lr=1e-2, train_size=100):\n",
    "    losses = []\n",
    "    # p_obj est la distribution à approximer. \n",
    "    # elle prend en input un vecteur de 0 et 1 de taille model.input_size et renvoie la proba de ce vecteur\n",
    "    optimizer = torch.optim.Adam(model.parameters(), lr=lr)\n",
    "    losses = []\n",
    "\n",
    "    # à cette étape, on a un train set, on peut entraîner le modèle\n",
    "    for epoch in range(n_iter):\n",
    "        optimizer.zero_grad() # What is this step? IMPORTANT LINE\n",
    "\n",
    "\n",
    "        \n",
    "        # il faut tirer un train_set grâce au modèle pour s'entraîner dessus\n",
    "        train_set=torch.zeros((train_size, model.input_size))\n",
    "        for i in range(train_size):\n",
    "            # pour tirer un x dans x_train, on tire une bernoulli de paramètre 0.5 : c'est s_1\n",
    "            # comment avoir s_2 ? ON fait passer le vecteur [s_1, 0, 0, 0] dans le réseau de neurones\n",
    "            # en sortie du réseau de neurones, on a y =[ s1 randomn, p(s2|s1), p(s3|s1), p(s4|s1)...]\n",
    "            # la deuxième coordonnée de y est p(s2|s1), donc on tire une bernoulli de paramètre p(s2|s1)\n",
    "            # puis on recommence !\n",
    "            # on fait ça train_size fois\n",
    "            train_set[i][0]=torch.bernoulli(torch.tensor(0.5).detach())\n",
    "\n",
    "            for j in range(1, model.input_size):\n",
    "                y_pred=model(train_set[i])\n",
    "                p_j = y_pred[j] # c'est p(s_j|s_{i<j})\n",
    "                if p_j > 1 or p_j < 0: # c'est pas censé arriver mais ça arrive: à fixeer\n",
    "                    p_j = torch.sigmoid(p_j)\n",
    "                    print('1')\n",
    "                if p_j!=p_j: # test pour ne pas avoir de p_j qui valent nan \n",
    "                    p_j=torch.tensor(0.5)\n",
    "                    print('2')\n",
    "                train_set[i][j] = torch.bernoulli(p_j).item() # on tire une bernoulli de paramètre p(s_j|s_{i<j}) pour la j-ème variable\n",
    "        \n",
    "        print(type(train_set))\n",
    "        y_train=torch.tensor([p_obj(s) for s in train_set], requires_grad=True)\n",
    "        \n",
    "        # on a notre train set pour cette époque\n",
    "\n",
    "        listes_de_probas_conditionelles=model(train_set) # on récupère les probas conditionelles, il faut les multiplier pour avoir les probas tout court\n",
    "        # print(listes_de_probas_conditionelles)\n",
    "        q_theta_predit=torch.zeros(len(listes_de_probas_conditionelles))\n",
    "        for j, proba_conditionelle in enumerate(listes_de_probas_conditionelles):\n",
    "            res = 1.0\n",
    "            for i,  proba in  enumerate(proba_conditionelle):\n",
    "                res *= prob(proba_conditionelle[i], train_set[j][i])\n",
    "                if (prob(proba_conditionelle[i], train_set[j][i])<0):\n",
    "                    print('proba conditionelle', proba_conditionelle[i])\n",
    "                    print('train_set[j][i]', train_set[j][i])\n",
    "                \n",
    "\n",
    "            q_theta_predit[j] = res\n",
    "            # print(res)\n",
    "        # c'est bon on a les probas, on peut appliquer DKL\n",
    "        loss = Kulback_Leibler(q_theta_predit, y_train)\n",
    "        \n",
    "        # loss=loss_bis(q_theta_predit, y_train) #test avec une autre loss\n",
    "        loss.backward()\n",
    "        torch.nn.utils.clip_grad_norm_(model.parameters(), max_norm=1)#conseillé par copilot, évite l'explosion du gradient qui conduit à des nan\n",
    "\n",
    "        optimizer.step()\n",
    "        losses.append(loss.item())\n",
    "        if epoch % (n_iter/10) == 0:\n",
    "            print(f'Epoch {epoch}: {loss.item()}')\n",
    "            # for param in model.parameters():\n",
    "            #     print(param)\n",
    "           \n",
    "           \n",
    "    return losses\n",
    "# on garde ça dans un coin"
   ]
  }
 ],
 "metadata": {
  "kernelspec": {
   "display_name": "map588",
   "language": "python",
   "name": "python3"
  },
  "language_info": {
   "codemirror_mode": {
    "name": "ipython",
    "version": 3
   },
   "file_extension": ".py",
   "mimetype": "text/x-python",
   "name": "python",
   "nbconvert_exporter": "python",
   "pygments_lexer": "ipython3",
   "version": "3.9.18"
  }
 },
 "nbformat": 4,
 "nbformat_minor": 2
}
