{
 "cells": [
  {
   "cell_type": "code",
   "execution_count": 52,
   "metadata": {},
   "outputs": [],
   "source": [
    "import torch \n",
    "import torch.nn as nn\n",
    "import numpy as np\n",
    "import matplotlib.pyplot as plt\n"
   ]
  },
  {
   "cell_type": "code",
   "execution_count": null,
   "metadata": {},
   "outputs": [],
   "source": [
    "# # p et q sont deux listes de vecteru de taille n représentant les probas conditionelles\n",
    "#     # ATTENTION en sortie du réseau de neurones, on a un vecteur de taille n\n",
    "#     # en effet, on  a besoin des probas conditionelles pour chaque i. Donc, on ne peut pas demander au réseau de \n",
    "#     # sortir direct la proba q_theta(s)\n",
    "#     # Donc, c'est dans la fonction loss qu'on va convertir ces probas conditionelles en proba d'observer s (par une simple multiplication)\n",
    "#     probasp=[]\n",
    "#     probasq=[]\n",
    "#     for pi in p:\n",
    "#         res=1\n",
    "#         for i in pi:\n",
    "#             res*=i\n",
    "#         probasp.append(res)\n",
    "#     for qi in q:\n",
    "#         res=1\n",
    "#         for i in qi:\n",
    "#             res*=i\n",
    "#         probasq.append(res)"
   ]
  },
  {
   "cell_type": "code",
   "execution_count": 118,
   "metadata": {},
   "outputs": [],
   "source": [
    "def Kulback_Leibler(q,p): # p et q sont des listes de probas d'observation des mêmes s\n",
    "    for i in range(len(p)):\n",
    "        if p[i] == 0:\n",
    "            p[i] = 1e-10\n",
    "    result = 0 \n",
    "    for i in range(len(p)):\n",
    "        result += q[i]*np.log(q[i]/p[i])\n",
    "    return result"
   ]
  },
  {
   "cell_type": "code",
   "execution_count": 120,
   "metadata": {},
   "outputs": [
    {
     "data": {
      "text/plain": [
       "tensor(0.)"
      ]
     },
     "execution_count": 120,
     "metadata": {},
     "output_type": "execute_result"
    }
   ],
   "source": [
    "a=torch.tensor([0.1,0.2,0.3,0.4])\n",
    "b=torch.tensor([0.25,0.25,0.25,0.25])\n",
    "Kulback_Leibler(b,b)"
   ]
  },
  {
   "cell_type": "code",
   "execution_count": 6,
   "metadata": {},
   "outputs": [],
   "source": [
    "\n",
    "\n",
    "def train(models, q , p_0,   n_iter=100, lr=1e-2):\n",
    "    nombre_de_neurones=len(models)\n",
    "    optimizers=[torch.optim.Adam(models[i].parameters(), lr=lr) for i in range(nombre_de_neurones)]\n",
    "    p=p_0\n",
    "    for epoch in range(n_iter):\n",
    "        p='...'# à compléter\n",
    "        for i in range(nombre_de_neurones):\n",
    "            optimizers[i].zero_grad()\n",
    "            loss=Kulback_Leibler(p, q)\n",
    "            loss.backward()\n",
    "            optimizers[i]\n",
    "           \n"
   ]
  },
  {
   "cell_type": "code",
   "execution_count": null,
   "metadata": {},
   "outputs": [],
   "source": [
    "\n",
    "def train(model, n_iter=100, lr=1e-2):\n",
    "    plt.figure(figsize=(20, 8))\n",
    "    axs = [plt.subplot(2, 5, i) for i in range(1, 11)]\n",
    "    losses = []\n",
    "    \n",
    "    optimizer = torch.optim.Adam(model.parameters(), lr=lr)\n",
    "    # What is Adam? Which other simpler optimizers can you use?\n",
    "\n",
    "    for epoch in range(n_iter):\n",
    "        optimizer.zero_grad() # What is this step? IMPORTANT LINE\n",
    "        loss = loss_fn(model(x_train), y_train)\n",
    "        loss.backward()\n",
    "        optimizer.step()\n",
    "        losses.append(loss.item())\n",
    "       \n",
    "        if epoch % (n_iter/10) == 0:\n",
    "            print(f'Epoch {epoch}: {loss.item()}')\n",
    "\n",
    "            # plot progress\n",
    "            ax_index = int(epoch // (n_iter/10))\n",
    "            plt.sca(axs[ax_index])\n",
    "            plt.plot(x_grid, target(x_grid), label='target')\n",
    "            plt.plot(x_grid, grab(model(x_grid)).squeeze(), label='model init')\n",
    "            \n",
    "    return losses\n",
    "\n",
    "\n",
    "\n",
    "\n",
    "def loss_fn(y_pred, y_true):\n",
    "    return torch.mean((y_pred - y_true) ** 2)"
   ]
  },
  {
   "cell_type": "code",
   "execution_count": 39,
   "metadata": {},
   "outputs": [],
   "source": [
    "n=4\n",
    "M = torch.zeros((n, n), dtype=torch.int)  # Crée une matrice de zéros de taille n x n\n",
    "        \n",
    "for i in range(n):\n",
    "    for j in range(i, n):\n",
    "        M[i][j] = 0\n",
    "\n",
    "# Remplit la partie inférieure de la diagonale avec des uns\n",
    "for i in range(1, n):\n",
    "        for j in range(i):\n",
    "                M[i][j] = 1"
   ]
  },
  {
   "cell_type": "code",
   "execution_count": 44,
   "metadata": {},
   "outputs": [],
   "source": [
    "A=torch.tensor([[1, 2], [3, 4]])"
   ]
  },
  {
   "cell_type": "code",
   "execution_count": 48,
   "metadata": {},
   "outputs": [],
   "source": [
    "class MaskedLinear(nn.Linear):\n",
    "    def __init__(self, in_features, out_features, mask, bias=True):\n",
    "        super(MaskedLinear, self).__init__(in_features, out_features, bias)\n",
    "        self.mask = mask\n",
    "\n",
    "    def forward(self, input):\n",
    "        return nn.functional.linear(input, self.weight * self.mask, self.bias)"
   ]
  },
  {
   "cell_type": "code",
   "execution_count": 54,
   "metadata": {},
   "outputs": [
    {
     "data": {
      "text/plain": [
       "tensor([0.5000, 0.8808])"
      ]
     },
     "execution_count": 54,
     "metadata": {},
     "output_type": "execute_result"
    }
   ],
   "source": [
    "torch.sigmoid(torch.tensor([0.0, 2.0]))"
   ]
  },
  {
   "cell_type": "code",
   "execution_count": 50,
   "metadata": {},
   "outputs": [],
   "source": [
    "class VAN(nn.Module):\n",
    "    def __init__(self, input_size, activation=torch.sigmoid):\n",
    "        super(VAN, self).__init__() #initialisation obligatoire\n",
    "        self.input_size = input_size\n",
    "\n",
    "        # Création de la matrice de masque : que des 0 sur et au dessus de la diagonale et que des 1 dessous\n",
    "        M = torch.zeros((input_size, input_size), dtype=torch.int)\n",
    "        for i in range(input_size):\n",
    "            for j in range(i, input_size):\n",
    "                M[i][j] = 0\n",
    "        for i in range(1, input_size):\n",
    "            for j in range(i):\n",
    "                M[i][j] = 1\n",
    "\n",
    "        self.fc1 = MaskedLinear(input_size, input_size, mask=M)\n",
    "        self.activation = activation\n",
    "\n",
    "    def forward(self, x):\n",
    "        x = self.fc1(x)\n",
    "        x = self.activation(x)\n",
    "        # à cette ligne on a multiplié x par la matrice de masque (triangulaire inférieure), puis appliqué la fonction d'activation\n",
    "        # donc la première coordonnée de x vaut activation(0) (normal, s^_1 ne dépend de personne)\n",
    "        # il faut donc ajouter 0.5 à la première coordonnée pour montrer qu'elle vaut 0 et 1 avec proba 0.5\n",
    "        x[0] = 0.5\n",
    "        return x\n"
   ]
  },
  {
   "cell_type": "code",
   "execution_count": 113,
   "metadata": {},
   "outputs": [
    {
     "name": "stdout",
     "output_type": "stream",
     "text": [
      "tensor([[0., 0.],\n",
      "        [0., 0.],\n",
      "        [0., 0.],\n",
      "        [0., 0.],\n",
      "        [0., 0.]])\n",
      "tensor([[1., 0.],\n",
      "        [0., 0.],\n",
      "        [0., 0.],\n",
      "        [0., 0.],\n",
      "        [0., 0.]])\n"
     ]
    }
   ],
   "source": [
    "train_set=torch.zeros((5, 2))\n",
    "# 5 points de taille 2\n",
    "print(train_set)\n",
    "train_set[0][0]=torch.bernoulli(torch.tensor(0.5))\n",
    "print(train_set)"
   ]
  },
  {
   "cell_type": "code",
   "execution_count": 114,
   "metadata": {},
   "outputs": [
    {
     "data": {
      "text/plain": [
       "tensor([1, 2, 3, 4, 5])"
      ]
     },
     "execution_count": 114,
     "metadata": {},
     "output_type": "execute_result"
    }
   ],
   "source": [
    "torch.tensor([1, 2, 3, 4, 5])"
   ]
  },
  {
   "cell_type": "code",
   "execution_count": null,
   "metadata": {},
   "outputs": [],
   "source": [
    "def train(model, p_obj,  n_iter=100, lr=1e-2, train_size=100):\n",
    "\n",
    "    losses = []\n",
    "\n",
    "    # p_obj est la distribution à approximer\n",
    "    optimizer = torch.optim.Adam(model.parameters(), lr=lr)\n",
    "    losses = []\n",
    "    # il faut tirer un train_set grâce au modèle pour s'entraîner dessus\n",
    "    train_set=torch.zeros((train_size, model.input_size))\n",
    "    for i in range(train_size):\n",
    "        # pour tirer un x dans x_train, on tire une bernoulli de paramètre 0.5 : c'est s_1\n",
    "        # comment avoir s_2 ? ON fait passer le vecteur [s_1, 0, 0, 0] dans le réseau de neurones\n",
    "        # en sortie du réseau de neurones, on a y =[ s1 randomn, p(s2|s1), p(s3|s1), p(s4|s1)...]\n",
    "        # la deuxième coordonnée de y est p(s2|s1), donc on tire une bernoulli de paramètre p(s2|s1)\n",
    "        # puis on recommence !\n",
    "        # on fait ça train_size fois\n",
    "        train_set[i][0]=torch.bernoulli(torch.tensor(0.5))\n",
    "        for j in range(1, model.input_size):\n",
    "            y_pred=model(train_set[i])\n",
    "            p_j= y_pred[j] # c'est p(s_j|s_{i<j})\n",
    "            train_set[i][j]=torch.bernoulli(torch.tensor(p_j)) # on tire une bernoulli de paramètre p(s_j|s_{i<j}) pour la j-ème variable\n",
    "    \n",
    "    y_train=torch.tensor([p_obj(s) for s in train_set])\n",
    "    # à cette étape, on a un train set, on peut entraîner le modèle\n",
    "    for epoch in range(n_iter):\n",
    "        optimizer.zero_grad() # What is this step? IMPORTANT LINE\n",
    "        listes_de_probas_conditionelles=model(train_set) # on récupère les probas conditionelles, il faut les multiplier pour avoir les probas tout court\n",
    "        q_theta_predit=[]\n",
    "        for proba_conditionelle in listes_de_probas_conditionelles:\n",
    "            res=1\n",
    "            for i in proba_conditionelle:\n",
    "                res*=i\n",
    "            q_theta_predit.append(res)\n",
    "        # c'est bon on a les probas, on peut appliquer DKL\n",
    "        loss = Kulback_Leibler(torch.tensor(q_theta_predit), y_train)\n",
    "        loss.backward()\n",
    "        optimizer.step()\n",
    "        losses.append(loss.item())\n",
    "        if epoch % (n_iter/10) == 0:\n",
    "            print(f'Epoch {epoch}: {loss.item()}')\n",
    "    return losses\n",
    "\n",
    "            \n",
    "            \n"
   ]
  },
  {
   "cell_type": "code",
   "execution_count": 81,
   "metadata": {},
   "outputs": [
    {
     "data": {
      "text/plain": [
       "tensor([0.6225, 0.8808])"
      ]
     },
     "execution_count": 81,
     "metadata": {},
     "output_type": "execute_result"
    }
   ],
   "source": [
    "torch.sigmoid(torch.tensor([0.5, 2.0]))\n"
   ]
  },
  {
   "cell_type": "code",
   "execution_count": 49,
   "metadata": {},
   "outputs": [],
   "source": [
    "n=7\n",
    "M = torch.zeros((n, n), dtype=torch.int)  # Crée une matrice de zéros de taille n x n\n",
    "\n",
    "for i in range(n):\n",
    "    for j in range(i, n):\n",
    "        M[i][j] = 0\n",
    "\n",
    "# Remplit la partie inférieure de la diagonale avec des uns\n",
    "for i in range(1, n):\n",
    "        for j in range(i):\n",
    "                M[i][j] = 1\n"
   ]
  },
  {
   "cell_type": "code",
   "execution_count": null,
   "metadata": {},
   "outputs": [],
   "source": [
    "\n",
    "class MLP(nn.Module):\n",
    "    \"\"\"\n",
    "    a MLP class inheriting from the parent class nn.Module. \n",
    "    nn.Module is the generic parent class of models in Pytorch.\n",
    "    It requires a method called forward. \n",
    "    \n",
    "    Pytorch will be able to recursively recover all parameters of the\n",
    "    attributes of a nn.Module object provided the attributes have themselves\n",
    "    type nn.Modules or nn.ModuleList.\n",
    "\n",
    "    In this implementation we explicitly specify the scale of initialization \n",
    "    of the weight matrices.\n",
    "    \"\"\"\n",
    "    def __init__(self, layerdims, activation=torch.relu, out_activation=None, init_scale=1):\n",
    "        super(MLP, self).__init__()\n",
    "\n",
    "        self.layerdims = layerdims\n",
    "        self.activation = activation\n",
    "        self.out_activation = out_activation\n",
    "\n",
    "        linears = [\n",
    "            nn.Linear(layerdims[i], layerdims[i + 1]) for i in range(len(layerdims) - 1)\n",
    "        ]\n",
    "\n",
    "        if init_scale is not None:\n",
    "            for l, layer in enumerate(linears):\n",
    "                torch.nn.init.normal_(\n",
    "                    layer.weight, std=init_scale / np.sqrt(layerdims[l])\n",
    "                )\n",
    "                torch.nn.init.zeros_(layer.bias)\n",
    "\n",
    "        self.linears = nn.ModuleList(linears)\n",
    "\n",
    "    def forward(self, x):\n",
    "        layers = list(enumerate(self.linears))\n",
    "        for _, l in layers[:-1]:\n",
    "            x = self.activation(l(x))\n",
    "        y = layers[-1][1](x)\n",
    "        if self.out_activation is not None:\n",
    "            y = self.out_activation(y)\n",
    "        return y\n",
    "\n"
   ]
  },
  {
   "cell_type": "code",
   "execution_count": 20,
   "metadata": {},
   "outputs": [
    {
     "data": {
      "text/plain": [
       "[1, 2, 3]"
      ]
     },
     "execution_count": 20,
     "metadata": {},
     "output_type": "execute_result"
    }
   ],
   "source": [
    "l=[1, 2, 3, 4]\n",
    "l[:-1]"
   ]
  },
  {
   "cell_type": "code",
   "execution_count": null,
   "metadata": {},
   "outputs": [
    {
     "data": {
      "text/plain": [
       "torch.Size([128, 30])"
      ]
     },
     "metadata": {},
     "output_type": "display_data"
    }
   ],
   "source": [
    "m = nn.Linear(20, 30)\n",
    "input = torch.randn(128, 20)\n",
    "output = m(input)\n",
    "output.shape"
   ]
  },
  {
   "cell_type": "code",
   "execution_count": null,
   "metadata": {},
   "outputs": [
    {
     "data": {
      "text/plain": [
       "tensor([ 0.0392,  0.0495, -0.1220, -0.0829, -0.1599, -0.1073,  0.1244, -0.0429,\n",
       "         0.2159, -0.1070,  0.1197,  0.0551, -0.1100,  0.1403, -0.2043, -0.0713,\n",
       "        -0.0352,  0.1676,  0.0583, -0.1296], grad_fn=<SelectBackward0>)"
      ]
     },
     "metadata": {},
     "output_type": "display_data"
    }
   ],
   "source": [
    "m.weight[0]"
   ]
  }
 ],
 "metadata": {
  "kernelspec": {
   "display_name": "map588",
   "language": "python",
   "name": "python3"
  },
  "language_info": {
   "codemirror_mode": {
    "name": "ipython",
    "version": 3
   },
   "file_extension": ".py",
   "mimetype": "text/x-python",
   "name": "python",
   "nbconvert_exporter": "python",
   "pygments_lexer": "ipython3",
   "version": "3.9.18"
  }
 },
 "nbformat": 4,
 "nbformat_minor": 2
}
