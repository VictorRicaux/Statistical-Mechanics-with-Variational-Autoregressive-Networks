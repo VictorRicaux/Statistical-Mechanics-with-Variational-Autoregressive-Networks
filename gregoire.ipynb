{
 "cells": [
  {
   "cell_type": "code",
   "execution_count": 52,
   "metadata": {},
   "outputs": [],
   "source": [
    "import torch \n",
    "import torch.nn as nn\n",
    "import numpy as np\n",
    "import matplotlib.pyplot as plt\n"
   ]
  },
  {
   "cell_type": "code",
   "execution_count": null,
   "metadata": {},
   "outputs": [],
   "source": [
    "# # p et q sont deux listes de vecteru de taille n représentant les probas conditionelles\n",
    "#     # ATTENTION en sortie du réseau de neurones, on a un vecteur de taille n\n",
    "#     # en effet, on  a besoin des probas conditionelles pour chaque i. Donc, on ne peut pas demander au réseau de \n",
    "#     # sortir direct la proba q_theta(s)\n",
    "#     # Donc, c'est dans la fonction loss qu'on va convertir ces probas conditionelles en proba d'observer s (par une simple multiplication)\n",
    "#     probasp=[]\n",
    "#     probasq=[]\n",
    "#     for pi in p:\n",
    "#         res=1\n",
    "#         for i in pi:\n",
    "#             res*=i\n",
    "#         probasp.append(res)\n",
    "#     for qi in q:\n",
    "#         res=1\n",
    "#         for i in qi:\n",
    "#             res*=i\n",
    "#         probasq.append(res)"
   ]
  },
  {
   "cell_type": "code",
   "execution_count": 118,
   "metadata": {},
   "outputs": [],
   "source": [
    "def Kulback_Leibler(q,p): # p et q sont des listes de probas d'observation des mêmes s\n",
    "    for i in range(len(p)):\n",
    "        if p[i] == 0:\n",
    "            p[i] = 1e-10\n",
    "    result = 0 \n",
    "    for i in range(len(p)):\n",
    "        result += q[i]*np.log(q[i]/p[i])\n",
    "    return result"
   ]
  },
  {
   "cell_type": "code",
   "execution_count": 120,
   "metadata": {},
   "outputs": [
    {
     "data": {
      "text/plain": [
       "tensor(0.)"
      ]
     },
     "execution_count": 120,
     "metadata": {},
     "output_type": "execute_result"
    }
   ],
   "source": [
    "a=torch.tensor([0.1,0.2,0.3,0.4])\n",
    "b=torch.tensor([0.25,0.25,0.25,0.25])\n",
    "Kulback_Leibler(b,b)"
   ]
  },
  {
   "cell_type": "code",
   "execution_count": 6,
   "metadata": {},
   "outputs": [],
   "source": [
    "\n",
    "\n",
    "def train(models, q , p_0,   n_iter=100, lr=1e-2):\n",
    "    nombre_de_neurones=len(models)\n",
    "    optimizers=[torch.optim.Adam(models[i].parameters(), lr=lr) for i in range(nombre_de_neurones)]\n",
    "    p=p_0\n",
    "    for epoch in range(n_iter):\n",
    "        p='...'# à compléter\n",
    "        for i in range(nombre_de_neurones):\n",
    "            optimizers[i].zero_grad()\n",
    "            loss=Kulback_Leibler(p, q)\n",
    "            loss.backward()\n",
    "            optimizers[i]\n",
    "           \n"
   ]
  },
  {
   "cell_type": "code",
   "execution_count": null,
   "metadata": {},
   "outputs": [],
   "source": [
    "\n",
    "def train(model, n_iter=100, lr=1e-2):\n",
    "    plt.figure(figsize=(20, 8))\n",
    "    axs = [plt.subplot(2, 5, i) for i in range(1, 11)]\n",
    "    losses = []\n",
    "    \n",
    "    optimizer = torch.optim.Adam(model.parameters(), lr=lr)\n",
    "    # What is Adam? Which other simpler optimizers can you use?\n",
    "\n",
    "    for epoch in range(n_iter):\n",
    "        optimizer.zero_grad() # What is this step? IMPORTANT LINE\n",
    "        loss = loss_fn(model(x_train), y_train)\n",
    "        loss.backward()\n",
    "        optimizer.step()\n",
    "        losses.append(loss.item())\n",
    "       \n",
    "        if epoch % (n_iter/10) == 0:\n",
    "            print(f'Epoch {epoch}: {loss.item()}')\n",
    "\n",
    "            # plot progress\n",
    "            ax_index = int(epoch // (n_iter/10))\n",
    "            plt.sca(axs[ax_index])\n",
    "            plt.plot(x_grid, target(x_grid), label='target')\n",
    "            plt.plot(x_grid, grab(model(x_grid)).squeeze(), label='model init')\n",
    "            \n",
    "    return losses\n",
    "\n",
    "\n",
    "\n",
    "\n",
    "def loss_fn(y_pred, y_true):\n",
    "    return torch.mean((y_pred - y_true) ** 2)"
   ]
  },
  {
   "cell_type": "code",
   "execution_count": 39,
   "metadata": {},
   "outputs": [],
   "source": [
    "n=4\n",
    "M = torch.zeros((n, n), dtype=torch.int)  # Crée une matrice de zéros de taille n x n\n",
    "        \n",
    "for i in range(n):\n",
    "    for j in range(i, n):\n",
    "        M[i][j] = 0\n",
    "\n",
    "# Remplit la partie inférieure de la diagonale avec des uns\n",
    "for i in range(1, n):\n",
    "        for j in range(i):\n",
    "                M[i][j] = 1"
   ]
  },
  {
   "cell_type": "code",
   "execution_count": 44,
   "metadata": {},
   "outputs": [],
   "source": [
    "A=torch.tensor([[1, 2], [3, 4]])"
   ]
  },
  {
   "cell_type": "code",
   "execution_count": 48,
   "metadata": {},
   "outputs": [],
   "source": [
    "class MaskedLinear(nn.Linear):\n",
    "    def __init__(self, in_features, out_features, mask, bias=True):\n",
    "        super(MaskedLinear, self).__init__(in_features, out_features, bias)\n",
    "        self.mask = mask\n",
    "\n",
    "    def forward(self, input):\n",
    "        return nn.functional.linear(input, self.weight * self.mask, self.bias)"
   ]
  },
  {
   "cell_type": "code",
   "execution_count": 54,
   "metadata": {},
   "outputs": [
    {
     "data": {
      "text/plain": [
       "tensor([0.5000, 0.8808])"
      ]
     },
     "execution_count": 54,
     "metadata": {},
     "output_type": "execute_result"
    }
   ],
   "source": [
    "torch.sigmoid(torch.tensor([0.0, 2.0]))"
   ]
  },
  {
   "cell_type": "code",
   "execution_count": 50,
   "metadata": {},
   "outputs": [],
   "source": [
    "class VAN(nn.Module):\n",
    "    def __init__(self, input_size, activation=torch.sigmoid):\n",
    "        super(VAN, self).__init__() #initialisation obligatoire\n",
    "        self.input_size = input_size\n",
    "\n",
    "        # Création de la matrice de masque : que des 0 sur et au dessus de la diagonale et que des 1 dessous\n",
    "        M = torch.zeros((input_size, input_size), dtype=torch.int)\n",
    "        for i in range(input_size):\n",
    "            for j in range(i, input_size):\n",
    "                M[i][j] = 0\n",
    "        for i in range(1, input_size):\n",
    "            for j in range(i):\n",
    "                M[i][j] = 1\n",
    "\n",
    "        self.fc1 = MaskedLinear(input_size, input_size, mask=M)\n",
    "        self.activation = activation\n",
    "\n",
    "    def forward(self, x):\n",
    "        x = self.fc1(x)\n",
    "        x = self.activation(x)\n",
    "        # à cette ligne on a multiplié x par la matrice de masque (triangulaire inférieure), puis appliqué la fonction d'activation\n",
    "        # donc la première coordonnée de x vaut activation(0) (normal, s^_1 ne dépend de personne)\n",
    "        # il faut donc ajouter 0.5 à la première coordonnée pour montrer qu'elle vaut 0 et 1 avec proba 0.5\n",
    "        x[0] = 0.5\n",
    "        return x\n"
   ]
  },
  {
   "cell_type": "code",
   "execution_count": 113,
   "metadata": {},
   "outputs": [
    {
     "name": "stdout",
     "output_type": "stream",
     "text": [
      "tensor([[0., 0.],\n",
      "        [0., 0.],\n",
      "        [0., 0.],\n",
      "        [0., 0.],\n",
      "        [0., 0.]])\n",
      "tensor([[1., 0.],\n",
      "        [0., 0.],\n",
      "        [0., 0.],\n",
      "        [0., 0.],\n",
      "        [0., 0.]])\n"
     ]
    }
   ],
   "source": [
    "train_set=torch.zeros((5, 2))\n",
    "# 5 points de taille 2\n",
    "print(train_set)\n",
    "train_set[0][0]=torch.bernoulli(torch.tensor(0.5))\n",
    "print(train_set)"
   ]
  },
  {
   "cell_type": "code",
   "execution_count": 114,
   "metadata": {},
   "outputs": [
    {
     "data": {
      "text/plain": [
       "tensor([1, 2, 3, 4, 5])"
      ]
     },
     "execution_count": 114,
     "metadata": {},
     "output_type": "execute_result"
    }
   ],
   "source": [
    "torch.tensor([1, 2, 3, 4, 5])"
   ]
  },
  {
   "cell_type": "code",
   "execution_count": null,
   "metadata": {},
   "outputs": [],
   "source": [
    "def train(model, p_obj,  n_iter=100, lr=1e-2, train_size=100):\n",
    "\n",
    "    losses = []\n",
    "\n",
    "    # p_obj est la distribution à approximer\n",
    "    optimizer = torch.optim.Adam(model.parameters(), lr=lr)\n",
    "    losses = []\n",
    "    # il faut tirer un train_set grâce au modèle pour s'entraîner dessus\n",
    "    train_set=torch.zeros((train_size, model.input_size))\n",
    "    for i in range(train_size):\n",
    "        # pour tirer un x dans x_train, on tire une bernoulli de paramètre 0.5 : c'est s_1\n",
    "        # comment avoir s_2 ? ON fait passer le vecteur [s_1, 0, 0, 0] dans le réseau de neurones\n",
    "        # en sortie du réseau de neurones, on a y =[ s1 randomn, p(s2|s1), p(s3|s1), p(s4|s1)...]\n",
    "        # la deuxième coordonnée de y est p(s2|s1), donc on tire une bernoulli de paramètre p(s2|s1)\n",
    "        # puis on recommence !\n",
    "        # on fait ça train_size fois\n",
    "        train_set[i][0]=torch.bernoulli(torch.tensor(0.5))\n",
    "        for j in range(1, model.input_size):\n",
    "            y_pred=model(train_set[i])\n",
    "            p_j= y_pred[j] # c'est p(s_j|s_{i<j})\n",
    "            train_set[i][j]=torch.bernoulli(torch.tensor(p_j)) # on tire une bernoulli de paramètre p(s_j|s_{i<j}) pour la j-ème variable\n",
    "    \n",
    "    y_train=torch.tensor([p_obj(s) for s in train_set])\n",
    "    # à cette étape, on a un train set, on peut entraîner le modèle\n",
    "    for epoch in range(n_iter):\n",
    "        optimizer.zero_grad() # What is this step? IMPORTANT LINE\n",
    "        listes_de_probas_conditionelles=model(train_set) # on récupère les probas conditionelles, il faut les multiplier pour avoir les probas tout court\n",
    "        q_theta_predit=[]\n",
    "        for proba_conditionelle in listes_de_probas_conditionelles:\n",
    "            res=1\n",
    "            for i in proba_conditionelle:\n",
    "                res*=i\n",
    "            q_theta_predit.append(res)\n",
    "        # c'est bon on a les probas, on peut appliquer DKL\n",
    "        loss = Kulback_Leibler(torch.tensor(q_theta_predit), y_train)\n",
    "        loss.backward()\n",
    "        optimizer.step()\n",
    "        losses.append(loss.item())\n",
    "        if epoch % (n_iter/10) == 0:\n",
    "            print(f'Epoch {epoch}: {loss.item()}')\n",
    "    return losses\n",
    "\n",
    "            \n",
    "            \n"
   ]
  },
  {
   "cell_type": "code",
   "execution_count": 81,
   "metadata": {},
   "outputs": [
    {
     "data": {
      "text/plain": [
       "tensor([0.6225, 0.8808])"
      ]
     },
     "execution_count": 81,
     "metadata": {},
     "output_type": "execute_result"
    }
   ],
   "source": [
    "torch.sigmoid(torch.tensor([0.5, 2.0]))\n"
   ]
  },
  {
   "cell_type": "code",
   "execution_count": 49,
   "metadata": {},
   "outputs": [],
   "source": [
    "n=7\n",
    "M = torch.zeros((n, n), dtype=torch.int)  # Crée une matrice de zéros de taille n x n\n",
    "\n",
    "for i in range(n):\n",
    "    for j in range(i, n):\n",
    "        M[i][j] = 0\n",
    "\n",
    "# Remplit la partie inférieure de la diagonale avec des uns\n",
    "for i in range(1, n):\n",
    "        for j in range(i):\n",
    "                M[i][j] = 1\n"
   ]
  },
  {
   "cell_type": "code",
   "execution_count": null,
   "metadata": {},
   "outputs": [],
   "source": [
    "\n",
    "class MLP(nn.Module):\n",
    "    \"\"\"\n",
    "    a MLP class inheriting from the parent class nn.Module. \n",
    "    nn.Module is the generic parent class of models in Pytorch.\n",
    "    It requires a method called forward. \n",
    "    \n",
    "    Pytorch will be able to recursively recover all parameters of the\n",
    "    attributes of a nn.Module object provided the attributes have themselves\n",
    "    type nn.Modules or nn.ModuleList.\n",
    "\n",
    "    In this implementation we explicitly specify the scale of initialization \n",
    "    of the weight matrices.\n",
    "    \"\"\"\n",
    "    def __init__(self, layerdims, activation=torch.relu, out_activation=None, init_scale=1):\n",
    "        super(MLP, self).__init__()\n",
    "\n",
    "        self.layerdims = layerdims\n",
    "        self.activation = activation\n",
    "        self.out_activation = out_activation\n",
    "\n",
    "        linears = [\n",
    "            nn.Linear(layerdims[i], layerdims[i + 1]) for i in range(len(layerdims) - 1)\n",
    "        ]\n",
    "\n",
    "        if init_scale is not None:\n",
    "            for l, layer in enumerate(linears):\n",
    "                torch.nn.init.normal_(\n",
    "                    layer.weight, std=init_scale / np.sqrt(layerdims[l])\n",
    "                )\n",
    "                torch.nn.init.zeros_(layer.bias)\n",
    "\n",
    "        self.linears = nn.ModuleList(linears)\n",
    "\n",
    "    def forward(self, x):\n",
    "        layers = list(enumerate(self.linears))\n",
    "        for _, l in layers[:-1]:\n",
    "            x = self.activation(l(x))\n",
    "        y = layers[-1][1](x)\n",
    "        if self.out_activation is not None:\n",
    "            y = self.out_activation(y)\n",
    "        return y\n",
    "\n"
   ]
  },
  {
   "cell_type": "code",
   "execution_count": 126,
   "metadata": {},
   "outputs": [
    {
     "data": {
      "text/plain": [
       "False"
      ]
     },
     "execution_count": 126,
     "metadata": {},
     "output_type": "execute_result"
    }
   ],
   "source": [
    "False in torch.tensor([1, 2, 3, 4, 5])==torch.tensor([1, 2, 3, 4, 5])"
   ]
  },
  {
   "cell_type": "code",
   "execution_count": 5,
   "metadata": {},
   "outputs": [
    {
     "ename": "ValueError",
     "evalue": "only one element tensors can be converted to Python scalars",
     "output_type": "error",
     "traceback": [
      "\u001b[1;31m---------------------------------------------------------------------------\u001b[0m",
      "\u001b[1;31mValueError\u001b[0m                                Traceback (most recent call last)",
      "Cell \u001b[1;32mIn[5], line 1\u001b[0m\n\u001b[1;32m----> 1\u001b[0m \u001b[38;5;28;43mfloat\u001b[39;49m\u001b[43m(\u001b[49m\u001b[43mtorch\u001b[49m\u001b[38;5;241;43m.\u001b[39;49m\u001b[43mtensor\u001b[49m\u001b[43m(\u001b[49m\u001b[43m[\u001b[49m\u001b[38;5;241;43m0\u001b[39;49m\u001b[43m,\u001b[49m\u001b[43m \u001b[49m\u001b[38;5;241;43m0\u001b[39;49m\u001b[43m,\u001b[49m\u001b[43m \u001b[49m\u001b[38;5;241;43m0\u001b[39;49m\u001b[43m,\u001b[49m\u001b[43m \u001b[49m\u001b[38;5;241;43m1\u001b[39;49m\u001b[43m,\u001b[49m\u001b[43m \u001b[49m\u001b[38;5;241;43m1\u001b[39;49m\u001b[43m,\u001b[49m\u001b[43m \u001b[49m\u001b[38;5;241;43m1\u001b[39;49m\u001b[43m]\u001b[49m\u001b[43m)\u001b[49m\u001b[43m)\u001b[49m \u001b[38;5;66;03m# in float\u001b[39;00m\n",
      "\u001b[1;31mValueError\u001b[0m: only one element tensors can be converted to Python scalars"
     ]
    }
   ],
   "source": []
  },
  {
   "cell_type": "code",
   "execution_count": 11,
   "metadata": {},
   "outputs": [
    {
     "data": {
      "text/plain": [
       "True"
      ]
     },
     "execution_count": 11,
     "metadata": {},
     "output_type": "execute_result"
    }
   ],
   "source": [
    "torch.eq(torch.tensor([1, 2, 3, 4, 5]), torch.tensor([1, 2, 3, 4, 5])).all().item()"
   ]
  },
  {
   "cell_type": "code",
   "execution_count": 9,
   "metadata": {},
   "outputs": [
    {
     "data": {
      "text/plain": [
       "tensor(0.)"
      ]
     },
     "execution_count": 9,
     "metadata": {},
     "output_type": "execute_result"
    }
   ],
   "source": [
    "p= torch.tensor([0.1, 0.2, 0.3, 0.4])\n",
    "q= torch.tensor([0.25, 0.25, 0.25, 0.25])\n",
    "Kulback_Leibler(p, p)\n",
    "\n"
   ]
  },
  {
   "cell_type": "code",
   "execution_count": 6,
   "metadata": {},
   "outputs": [
    {
     "name": "stdout",
     "output_type": "stream",
     "text": [
      "Epoch 0: 686.890869140625\n",
      "Epoch 10: 593.0250854492188\n",
      "Epoch 20: 554.5116577148438\n",
      "Epoch 30: 475.85174560546875\n",
      "Epoch 40: 389.94549560546875\n",
      "Epoch 50: 305.19140625\n",
      "Epoch 60: 247.14739990234375\n",
      "Epoch 70: 148.8262939453125\n",
      "Epoch 80: 87.33058166503906\n",
      "Epoch 90: -17.654346466064453\n"
     ]
    }
   ],
   "source": [
    "from VAN import *\n",
    "import matplotlib.pyplot as plt\n",
    "taille=6\n",
    "def p(s):\n",
    "    if torch.eq(s, torch.tensor([1.0, 1.0, 1.0, 0.0, 0.0, 0.0])).all().item():\n",
    "        return 0.5\n",
    "    elif torch.eq(s, torch.tensor([0.0, 0.0, 0.0, 1.0, 1.0, 1.0])).all().item():\n",
    "        return 0.5\n",
    "    else:\n",
    "        return 0.00001\n",
    "    \n",
    "def p2(s):\n",
    "    return 1/(2**6)\n",
    "\n",
    "mymodel=VAN(taille, torch.sigmoid)\n",
    "\n",
    "l=train(mymodel, p, n_iter=100, lr=1e-2, train_size=100)"
   ]
  },
  {
   "cell_type": "code",
   "execution_count": 7,
   "metadata": {},
   "outputs": [
    {
     "name": "stdout",
     "output_type": "stream",
     "text": [
      "tensor([0.7684, 0.1117, 0.0257, 0.0168, 0.0080, 0.0086], grad_fn=<CopySlices>)\n",
      "tensor([0.7684, 0.2989, 0.2419, 0.1928, 0.2580, 0.0797], grad_fn=<CopySlices>)\n"
     ]
    }
   ],
   "source": [
    "print(mymodel(torch.tensor([1.0, 1.0, 1.0, 1.0, 0.0, 0.0])))\n",
    "print(mymodel(torch.tensor([0.0, 0.0, 0.0, 0.0, 1.0, 1.0])))"
   ]
  },
  {
   "cell_type": "code",
   "execution_count": 17,
   "metadata": {},
   "outputs": [
    {
     "data": {
      "text/plain": [
       "[<matplotlib.lines.Line2D at 0x189118216d0>]"
      ]
     },
     "execution_count": 17,
     "metadata": {},
     "output_type": "execute_result"
    },
    {
     "data": {
      "image/png": "[encoded data removed]",
      "text/plain": [
       "<Figure size 640x480 with 1 Axes>"
      ]
     },
     "metadata": {},
     "output_type": "display_data"
    }
   ],
   "source": [
    "plt.plot(l)"
   ]
  },
  {
   "cell_type": "code",
   "execution_count": 3,
   "metadata": {},
   "outputs": [
    {
     "data": {
      "text/plain": [
       "[<matplotlib.lines.Line2D at 0x1890d20b3d0>]"
      ]
     },
     "execution_count": 3,
     "metadata": {},
     "output_type": "execute_result"
    },
    {
     "data": {
      "image/png": "[encoded data removed]",
      "text/plain": [
       "<Figure size 640x480 with 1 Axes>"
      ]
     },
     "metadata": {},
     "output_type": "display_data"
    }
   ],
   "source": [
    "plt.plot(l)"
   ]
  },
  {
   "cell_type": "markdown",
   "metadata": {},
   "source": [
    "The code you provided is a PyTorch implementation of a Variable Auto-regressive Network (VAN). There are a few potential issues that could be causing the code to not work as expected:\n",
    "\n",
    "In-place operations on Variables that require grad: In the forward method of the VAN class, you are modifying x[0] in-place. This could potentially cause issues with PyTorch's autograd system. Instead of modifying x in-place, consider creating a new tensor with the modified values.\n",
    "\n",
    "Potential division by zero in Kulback_Leibler function: If any value in p is zero, torch.log(q/p) will throw an error because division by zero is undefined. You should add a small constant to p to prevent division by zero.\n",
    "\n",
    "Use of numpy functions on PyTorch tensors: In the train function, you are using np.random.binomial on a PyTorch tensor. This could cause issues because numpy functions do not support PyTorch's autograd system. Consider using PyTorch's random functions instead.\n",
    "\n",
    "Creating new tensors in a loop: In the train function, you are creating new tensors in a loop. This could potentially cause memory issues. Consider pre-allocating the tensor outside the loop and then filling in the values inside the loop.\n",
    "\n",
    "Calling .detach() on tensors: In the train function, you are calling .detach() on tensors before using them in computations. This will prevent PyTorch's autograd system from tracking computations on these tensors, which could cause issues with backpropagation.\n",
    "\n",
    "Printing gradients: In the train function, you are trying to print the gradients of q_theta_predit and y_train. However, these tensors may not have gradients because they are not involved in the computation of loss. Only tensors that are involved in the computation of loss and have requires_grad=True will have gradients.\n",
    "\n",
    "Please provide more specific details about the error messages you are encountering for a more accurate diagnosis."
   ]
  },
  {
   "cell_type": "code",
   "execution_count": 5,
   "metadata": {},
   "outputs": [
    {
     "name": "stdout",
     "output_type": "stream",
     "text": [
      "None\n",
      "None\n"
     ]
    }
   ],
   "source": [
    "\n",
    "for param in mymodel.parameters():\n",
    "    print(param.grad)"
   ]
  },
  {
   "cell_type": "code",
   "execution_count": 8,
   "metadata": {},
   "outputs": [
    {
     "name": "stdout",
     "output_type": "stream",
     "text": [
      "tensor([5.])\n",
      "tensor([4.])\n"
     ]
    }
   ],
   "source": [
    "# exemple d'utilisation de torch.backward()\n",
    "x = torch.tensor([2.0], requires_grad=True)\n",
    "z = torch.tensor([1.0], requires_grad=True)\n",
    "y = x ** 2 + 2 * z + x*z\n",
    "y.backward()\n",
    "print(x.grad)\n",
    "print(z.grad)\n",
    "# x.grad est égal à 4.0 car y = x^2 et dy/dx = 2x donc dy/dx=4 en x=2\n",
    "\n"
   ]
  },
  {
   "cell_type": "code",
   "execution_count": 19,
   "metadata": {},
   "outputs": [
    {
     "name": "stdout",
     "output_type": "stream",
     "text": [
      "None\n"
     ]
    },
    {
     "name": "stderr",
     "output_type": "stream",
     "text": [
      "C:\\Users\\grego\\AppData\\Local\\Temp\\ipykernel_22400\\921216634.py:5: UserWarning: The .grad attribute of a Tensor that is not a leaf Tensor is being accessed. Its .grad attribute won't be populated during autograd.backward(). If you indeed want the .grad field to be populated for a non-leaf Tensor, use .retain_grad() on the non-leaf Tensor. If you access the non-leaf Tensor by mistake, make sure you access the leaf Tensor instead. See github.com/pytorch/pytorch/pull/30531 for more informations. (Triggered internally at C:\\cb\\pytorch_1000000000000\\work\\build\\aten\\src\\ATen/core/TensorBody.h:494.)\n",
      "  print(loss.grad)\n"
     ]
    }
   ],
   "source": [
    "y_1=torch.tensor([[1.0], [2.0], [3.0], [4.0]], requires_grad=True)\n",
    "y_2=torch.tensor([[5.0], [2.0], [3.0], [4.0]], requires_grad=True)\n",
    "loss=loss_fn(y_1, y_2)\n",
    "loss.backward()\n",
    "print(loss.grad)"
   ]
  },
  {
   "cell_type": "code",
   "execution_count": 13,
   "metadata": {},
   "outputs": [],
   "source": [
    "\n",
    "\n",
    "def loss_fn(y_pred, y_true):\n",
    "    return torch.mean((y_pred - y_true) ** 2)"
   ]
  },
  {
   "cell_type": "code",
   "execution_count": 22,
   "metadata": {},
   "outputs": [
    {
     "data": {
      "text/plain": [
       "torch.Tensor"
      ]
     },
     "execution_count": 22,
     "metadata": {},
     "output_type": "execute_result"
    }
   ],
   "source": [
    "type(torch.tensor(float(np.random.binomial(1, 0.5))))"
   ]
  },
  {
   "cell_type": "code",
   "execution_count": 13,
   "metadata": {},
   "outputs": [
    {
     "name": "stdout",
     "output_type": "stream",
     "text": [
      "tensor([1.])\n",
      "tensor([5.], grad_fn=<MulBackward0>)\n",
      "tensor([5.], grad_fn=<MulBackward0>)\n"
     ]
    },
    {
     "data": {
      "text/plain": [
       "tensor([5.])"
      ]
     },
     "execution_count": 13,
     "metadata": {},
     "output_type": "execute_result"
    }
   ],
   "source": [
    "a=torch.tensor([1.0])\n",
    "print(a)\n",
    "a.requires_grad=True\n",
    "b=a*5\n",
    "print(b)\n",
    "b.backward()\n",
    "print(b)\n",
    "a.grad\n"
   ]
  },
  {
   "cell_type": "code",
   "execution_count": 9,
   "metadata": {},
   "outputs": [],
   "source": [
    "def KL(q,p):\n",
    "    return torch.sum(torch.log(q/p))"
   ]
  },
  {
   "cell_type": "code",
   "execution_count": 10,
   "metadata": {},
   "outputs": [
    {
     "name": "stdout",
     "output_type": "stream",
     "text": [
      "tensor(0.4871)\n",
      "tensor(0.4871)\n"
     ]
    }
   ],
   "source": [
    "p=torch.tensor([0.1, 0.2, 0.3, 0.4])\n",
    "q=torch.tensor([0.25, 0.25, 0.25, 0.25])\n",
    "print(KL(q,p))\n",
    "print(Kulback_Leibler(q,p))"
   ]
  },
  {
   "cell_type": "code",
   "execution_count": null,
   "metadata": {},
   "outputs": [],
   "source": [
    "# il me faut un loss(y1, y2) pour pouvoir écrire loss(model(x_train), y_train)"
   ]
  },
  {
   "cell_type": "code",
   "execution_count": 6,
   "metadata": {},
   "outputs": [
    {
     "data": {
      "text/plain": [
       "tensor([0.5000, 2.0000, 3.0000, 4.0000, 5.0000])"
      ]
     },
     "execution_count": 6,
     "metadata": {},
     "output_type": "execute_result"
    }
   ],
   "source": [
    "x=torch.tensor([1, 2, 3, 4, 5]).float()\n",
    "modified_x = x.clone()  # Create a copy of x to avoid modifying the original tensor\n",
    "modified_x[0] = 0.5 \n",
    "modified_x"
   ]
  },
  {
   "cell_type": "code",
   "execution_count": 4,
   "metadata": {},
   "outputs": [
    {
     "data": {
      "text/plain": [
       "tensor(15.)"
      ]
     },
     "execution_count": 4,
     "metadata": {},
     "output_type": "execute_result"
    }
   ],
   "source": [
    "torch.sum(torch.tensor([1, 2, 3, 4, 5]).float())"
   ]
  },
  {
   "cell_type": "code",
   "execution_count": 4,
   "metadata": {},
   "outputs": [
    {
     "data": {
      "text/plain": [
       "[<matplotlib.lines.Line2D at 0x2086746e160>]"
      ]
     },
     "execution_count": 4,
     "metadata": {},
     "output_type": "execute_result"
    },
    {
     "data": {
      "image/png": "[encoded data removed]",
      "text/plain": [
       "<Figure size 640x480 with 1 Axes>"
      ]
     },
     "metadata": {},
     "output_type": "display_data"
    }
   ],
   "source": [
    "plt.plot(l, 'o')"
   ]
  },
  {
   "cell_type": "code",
   "execution_count": 22,
   "metadata": {},
   "outputs": [
    {
     "name": "stdout",
     "output_type": "stream",
     "text": [
      "Epoch [10/100], Loss: 10.4826\n",
      "Epoch [20/100], Loss: 7.7014\n",
      "Epoch [30/100], Loss: 4.5211\n",
      "Epoch [40/100], Loss: 1.8772\n",
      "Epoch [50/100], Loss: 0.6904\n",
      "Epoch [60/100], Loss: 0.3596\n",
      "Epoch [70/100], Loss: 0.2629\n",
      "Epoch [80/100], Loss: 0.2197\n",
      "Epoch [90/100], Loss: 0.1920\n",
      "Epoch [100/100], Loss: 0.1706\n"
     ]
    },
    {
     "data": {
      "image/png": "[encoded data removed]",
      "text/plain": [
       "<Figure size 640x480 with 1 Axes>"
      ]
     },
     "metadata": {},
     "output_type": "display_data"
    }
   ],
   "source": [
    "import torch\n",
    "import torch.nn as nn\n",
    "import torch.optim as optim\n",
    "import matplotlib.pyplot as plt\n",
    "\n",
    "# Define a simple multilayer perceptron for regression\n",
    "class MLP(nn.Module):\n",
    "    def __init__(self, input_size, hidden_size, output_size):\n",
    "        super(MLP, self).__init__()\n",
    "        self.fc1 = nn.Linear(input_size, hidden_size)\n",
    "        self.fc2 = nn.Linear(hidden_size, output_size)\n",
    "\n",
    "    def forward(self, x):\n",
    "        x = torch.relu(self.fc1(x))\n",
    "        x = self.fc2(x)\n",
    "        return x\n",
    "\n",
    "# Generate synthetic dataset for regression\n",
    "def generate_dataset(num_samples=100, input_size=1):\n",
    "    # Generate random input data\n",
    "    inputs = torch.randn(num_samples, input_size)\n",
    "    # Generate target labels as a function of inputs\n",
    "    targets = 3 * inputs + 2 + 0.2 * torch.randn(num_samples, 1)  # Linear relation with some noise\n",
    "    return inputs, targets\n",
    "\n",
    "# Define training function\n",
    "def train(model, optimizer, criterion, inputs, targets, num_epochs=100):\n",
    "    losses = []\n",
    "    for epoch in range(num_epochs):\n",
    "        optimizer.zero_grad()\n",
    "        outputs = model(inputs)\n",
    "        loss = criterion(outputs, targets)\n",
    "        loss.backward()\n",
    "        optimizer.step()\n",
    "        losses.append(loss.item())\n",
    "\n",
    "        if (epoch + 1) % 10 == 0:\n",
    "            print(f\"Epoch [{epoch+1}/{num_epochs}], Loss: {loss.item():.4f}\")\n",
    "\n",
    "    return losses\n",
    "\n",
    "# Set random seed for reproducibility\n",
    "torch.manual_seed(42)\n",
    "\n",
    "# Hyperparameters\n",
    "input_size = 1\n",
    "hidden_size = 10\n",
    "output_size = 1\n",
    "learning_rate = 0.01\n",
    "num_epochs = 100\n",
    "\n",
    "# Generate dataset\n",
    "inputs, targets = generate_dataset()\n",
    "\n",
    "# Initialize model, optimizer, and loss function\n",
    "model = MLP(input_size, hidden_size, output_size)\n",
    "optimizer = optim.SGD(model.parameters(), lr=learning_rate)\n",
    "criterion = nn.MSELoss()\n",
    "\n",
    "# Train the model\n",
    "losses = train(model, optimizer, criterion, inputs, targets, num_epochs)\n",
    "\n",
    "# Plot the loss curve\n",
    "plt.plot(losses)\n",
    "plt.xlabel('Epoch')\n",
    "plt.ylabel('Loss')\n",
    "plt.title('Training Loss Curve')\n",
    "plt.show()\n"
   ]
  },
  {
   "cell_type": "code",
   "execution_count": 1,
   "metadata": {},
   "outputs": [],
   "source": [
    "\n",
    "def train(model, p_obj,  n_iter=100, lr=1e-2, train_size=100):\n",
    "    losses = []\n",
    "    # p_obj est la distribution à approximer. \n",
    "    # elle prend en input un vecteur de 0 et 1 de taille model.input_size et renvoie la proba de ce vecteur\n",
    "    optimizer = torch.optim.Adam(model.parameters(), lr=lr)\n",
    "    losses = []\n",
    "\n",
    "    # à cette étape, on a un train set, on peut entraîner le modèle\n",
    "    for epoch in range(n_iter):\n",
    "        optimizer.zero_grad() # What is this step? IMPORTANT LINE\n",
    "\n",
    "\n",
    "        \n",
    "        # il faut tirer un train_set grâce au modèle pour s'entraîner dessus\n",
    "        train_set=torch.zeros((train_size, model.input_size))\n",
    "        for i in range(train_size):\n",
    "            # pour tirer un x dans x_train, on tire une bernoulli de paramètre 0.5 : c'est s_1\n",
    "            # comment avoir s_2 ? ON fait passer le vecteur [s_1, 0, 0, 0] dans le réseau de neurones\n",
    "            # en sortie du réseau de neurones, on a y =[ s1 randomn, p(s2|s1), p(s3|s1), p(s4|s1)...]\n",
    "            # la deuxième coordonnée de y est p(s2|s1), donc on tire une bernoulli de paramètre p(s2|s1)\n",
    "            # puis on recommence !\n",
    "            # on fait ça train_size fois\n",
    "            train_set[i][0]=torch.bernoulli(torch.tensor(0.5).detach())\n",
    "\n",
    "            for j in range(1, model.input_size):\n",
    "                y_pred=model(train_set[i])\n",
    "                p_j= y_pred[j] # c'est p(s_j|s_{i<j})\n",
    "                # train_set[i][j] = torch.tensor(float(np.random.binomial(1, p_j.detach().numpy()))) # on tire une bernoulli de paramètre p(s_j|s_{i<j}) pour la j-ème variable\n",
    "                train_set[i][j] = torch.bernoulli(p_j).item() # on tire une bernoulli de paramètre p(s_j|s_{i<j}) pour la j-ème variable\n",
    "        y_train=torch.tensor([p_obj(s) for s in train_set], requires_grad=True)\n",
    "        \n",
    "        # on a notre train set pour cette époque\n",
    "\n",
    "\n",
    "        listes_de_probas_conditionelles=model(train_set) # on récupère les probas conditionelles, il faut les multiplier pour avoir les probas tout court\n",
    "\n",
    "        q_theta_predit=torch.zeros(len(listes_de_probas_conditionelles))\n",
    "        for j, proba_conditionelle in enumerate( listes_de_probas_conditionelles):\n",
    "            res=torch.tensor(1.0)\n",
    "            for i in proba_conditionelle:\n",
    "                res*=torch.tensor(i, requires_grad=True)\n",
    "            q_theta_predit[j]=res\n",
    "        # c'est bon on a les probas, on peut appliquer DKL\n",
    "        loss = Kulback_Leibler(q_theta_predit, y_train)\n",
    "        loss.backward()\n",
    "        \n",
    "        optimizer.step()\n",
    "        losses.append(loss.item())\n",
    "        if epoch % (n_iter/10) == 0:\n",
    "            print(f'Epoch {epoch}: {loss.item()}')\n",
    "            for param in model.parameters():\n",
    "                print(param)\n",
    "    return losses\n",
    "# on garde train dans un coin"
   ]
  }
 ],
 "metadata": {
  "kernelspec": {
   "display_name": "map588",
   "language": "python",
   "name": "python3"
  },
  "language_info": {
   "codemirror_mode": {
    "name": "ipython",
    "version": 3
   },
   "file_extension": ".py",
   "mimetype": "text/x-python",
   "name": "python",
   "nbconvert_exporter": "python",
   "pygments_lexer": "ipython3",
   "version": "3.9.18"
  }
 },
 "nbformat": 4,
 "nbformat_minor": 2
}
