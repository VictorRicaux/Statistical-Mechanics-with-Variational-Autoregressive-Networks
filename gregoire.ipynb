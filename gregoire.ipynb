{
 "cells": [
  {
   "cell_type": "code",
   "execution_count": 1,
   "metadata": {},
   "outputs": [],
   "source": [
    "import torch \n",
    "import torch.nn as nn\n",
    "import numpy as np\n"
   ]
  },
  {
   "cell_type": "code",
   "execution_count": 2,
   "metadata": {},
   "outputs": [],
   "source": [
    "def bernoulli(p):\n",
    "    return(np.random.binomial(1, p))"
   ]
  },
  {
   "cell_type": "code",
   "execution_count": 5,
   "metadata": {},
   "outputs": [],
   "source": [
    "s1=bernoulli(0.5)\n",
    "\n"
   ]
  },
  {
   "cell_type": "code",
   "execution_count": null,
   "metadata": {},
   "outputs": [],
   "source": [
    "class NN(nn.Module):\n",
    "    def __init__(self, input_size, activation=nn.sigmoid()):\n",
    "        super(NN, self).__init__()\n",
    "        self.fc1 = nn.Linear(input_size, 1)\n",
    "        self.activation = activation\n",
    "\n",
    "    def forward(self, x):\n",
    "        x = self.fc1(x)\n",
    "        x = self.activation(x)\n",
    "        return x\n",
    "\n",
    "        \n"
   ]
  },
  {
   "cell_type": "code",
   "execution_count": null,
   "metadata": {},
   "outputs": [],
   "source": [
    "\n",
    "class MLP(nn.Module):\n",
    "    \"\"\"\n",
    "    a MLP class inheriting from the parent class nn.Module. \n",
    "    nn.Module is the generic parent class of models in Pytorch.\n",
    "    It requires a method called forward. \n",
    "    \n",
    "    Pytorch will be able to recursively recover all parameters of the\n",
    "    attributes of a nn.Module object provided the attributes have themselves\n",
    "    type nn.Modules or nn.ModuleList.\n",
    "\n",
    "    In this implementation we explicitly specify the scale of initialization \n",
    "    of the weight matrices.\n",
    "    \"\"\"\n",
    "    def __init__(self, layerdims, activation=torch.relu, out_activation=None, init_scale=1):\n",
    "        super(MLP, self).__init__()\n",
    "\n",
    "        self.layerdims = layerdims\n",
    "        self.activation = activation\n",
    "        self.out_activation = out_activation\n",
    "\n",
    "        linears = [\n",
    "            nn.Linear(layerdims[i], layerdims[i + 1]) for i in range(len(layerdims) - 1)\n",
    "        ]\n",
    "\n",
    "        if init_scale is not None:\n",
    "            for l, layer in enumerate(linears):\n",
    "                torch.nn.init.normal_(\n",
    "                    layer.weight, std=init_scale / np.sqrt(layerdims[l])\n",
    "                )\n",
    "                torch.nn.init.zeros_(layer.bias)\n",
    "\n",
    "        self.linears = nn.ModuleList(linears)\n",
    "\n",
    "    def forward(self, x):\n",
    "        layers = list(enumerate(self.linears))\n",
    "        for _, l in layers[:-1]:\n",
    "            x = self.activation(l(x))\n",
    "        y = layers[-1][1](x)\n",
    "        if self.out_activation is not None:\n",
    "            y = self.out_activation(y)\n",
    "        return y\n",
    "\n",
    "\n",
    "def train(model, n_iter=100, lr=1e-2):\n",
    "    plt.figure(figsize=(20, 8))\n",
    "    axs = [plt.subplot(2, 5, i) for i in range(1, 11)]\n",
    "    losses = []\n",
    "    \n",
    "    optimizer = torch.optim.Adam(model.parameters(), lr=lr)\n",
    "    # What is Adam? Which other simpler optimizers can you use?\n",
    "\n",
    "    for epoch in range(n_iter):\n",
    "        optimizer.zero_grad() # What is this step? IMPORTANT LINE\n",
    "        loss = loss_fn(model(x_train), y_train)\n",
    "        loss.backward()\n",
    "        optimizer.step()\n",
    "        losses.append(loss.item())\n",
    "       \n",
    "        if epoch % (n_iter/10) == 0:\n",
    "            print(f'Epoch {epoch}: {loss.item()}')\n",
    "\n",
    "            # plot progress\n",
    "            ax_index = int(epoch // (n_iter/10))\n",
    "            plt.sca(axs[ax_index])\n",
    "            plt.plot(x_grid, target(x_grid), label='target')\n",
    "            plt.plot(x_grid, grab(model(x_grid)).squeeze(), label='model init')\n",
    "            \n",
    "    return losses\n",
    "\n",
    "\n",
    "\n",
    "\n",
    "def loss_fn(y_pred, y_true):\n",
    "    return torch.mean((y_pred - y_true) ** 2)"
   ]
  }
 ],
 "metadata": {
  "kernelspec": {
   "display_name": "map588",
   "language": "python",
   "name": "python3"
  },
  "language_info": {
   "codemirror_mode": {
    "name": "ipython",
    "version": 3
   },
   "file_extension": ".py",
   "mimetype": "text/x-python",
   "name": "python",
   "nbconvert_exporter": "python",
   "pygments_lexer": "ipython3",
   "version": "3.9.18"
  }
 },
 "nbformat": 4,
 "nbformat_minor": 2
}
