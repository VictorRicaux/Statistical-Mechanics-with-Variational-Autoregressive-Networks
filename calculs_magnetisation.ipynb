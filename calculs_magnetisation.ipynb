{
 "cells": [
  {
   "cell_type": "code",
   "execution_count": 9,
   "metadata": {},
   "outputs": [
    {
     "name": "stdout",
     "output_type": "stream",
     "text": [
      "0.1 0\n",
      "Epoch 0: 19.860580444335938\n"
     ]
    }
   ],
   "source": [
    "import torch \n",
    "import torch.nn as nn\n",
    "import numpy as np\n",
    "import matplotlib.pyplot as plt\n",
    "from VAN_new import *\n",
    "import pandas as pd\n",
    "\n",
    "def get_column(matrix, i):\n",
    "    return torch.tensor([matrix[j][i] for j in range(len(matrix))])\n",
    "\n",
    "def energie1D(spin): \n",
    "    spin_copie=spin.clone()\n",
    "    spin_copie[spin_copie==0]=-1\n",
    "    spin_copie_1 = torch.roll(spin_copie, -1)\n",
    "    spin_copie_2 = torch.roll(spin_copie, 1)    \n",
    "    energie=- torch.sum(spin_copie_1*spin_copie+spin_copie_2*spin_copie)\n",
    "    return energie\n",
    "\n",
    "def energie2D(lattice):\n",
    "    energie = 0 \n",
    "    for i in range(len(lattice)):\n",
    "        energie+=energie1D(lattice[0])\n",
    "    for j in range(len(lattice[0])):\n",
    "        column = get_column(lattice, j)\n",
    "        energie+=energie1D(column)\n",
    "    return energie\n",
    "\n",
    "\n",
    "def log_prob_energie(beta, energie):\n",
    "    return -beta*energie\n",
    "\n",
    "\n",
    "def log_prob_target_energie(spins, beta):\n",
    "    \n",
    "    log_probs = torch.ones(spins.shape[0]) * np.log(0.001)\n",
    "    for i in range(len(log_probs)):\n",
    "        racine=spins[i].shape[0]\n",
    "        racine=(int(np.sqrt(racine)))\n",
    "        lattice = spins[i].reshape(racine, racine)\n",
    "        log_probs[i] = log_prob_energie(beta, energie2D(lattice))\n",
    "    return log_probs \n",
    "\n",
    "\n",
    "\n",
    "taille=100\n",
    "betas = np.linspace(0.35, 0.55, 5)\n",
    "for beta in betas: \n",
    "    magnetisations_list=[]\n",
    "    for i in range(10): \n",
    "        print(beta, i)\n",
    "        mymodel1 = VAN(taille)\n",
    "        losses = train(mymodel1, lambda x:  log_prob_target_energie(x, beta), batch_size=200, n_iter=1000, lr=0.01)\n",
    "        mysample=mymodel1.sample(1000)\n",
    "        magnetisations=[]\n",
    "        for spin in mysample:\n",
    "            magnetisations.append(torch.mean(spin))\n",
    "        plt.hist(magnetisations, bins=20, edgecolor='black') \n",
    "        plt.xlabel('Magnetisation du spin')\n",
    "        plt.ylabel('Nombre de spins')\n",
    "        plt.title('Magnetisation des spins pour beta =' + str(beta))\n",
    "        plt.savefig('./figures/magnetisation for beta= '+str(beta)+' test n° ' + str(i) + '.png')\n",
    "        magnetisations_list.append(magnetisations)\n",
    "        plt.show()\n",
    "    pd.DataFrame(magnetisations_list).to_csv('./magnetisations/magnetisations for beta= '+str(beta)+'.csv')\n",
    "        \n"
   ]
  }
 ],
 "metadata": {
  "kernelspec": {
   "display_name": ".venv",
   "language": "python",
   "name": "python3"
  },
  "language_info": {
   "codemirror_mode": {
    "name": "ipython",
    "version": 3
   },
   "file_extension": ".py",
   "mimetype": "text/x-python",
   "name": "python",
   "nbconvert_exporter": "python",
   "pygments_lexer": "ipython3",
   "version": "3.9.18"
  }
 },
 "nbformat": 4,
 "nbformat_minor": 2
}
