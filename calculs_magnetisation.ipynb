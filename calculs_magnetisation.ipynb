{
 "cells": [
  {
   "cell_type": "code",
   "execution_count": 1,
   "metadata": {},
   "outputs": [],
   "source": [
    "import torch \n",
    "import torch.nn as nn\n",
    "import numpy as np\n",
    "import matplotlib.pyplot as plt\n",
    "\n",
    "from VAN_new import *\n",
    "import pandas as pd\n",
    "\n",
    "\n",
    "    \n",
    "def get_column(matrix, i):\n",
    "    return torch.tensor([matrix[j][i] for j in range(len(matrix))])\n",
    "\n",
    "def energie1D(spin): \n",
    "    spin_copie=spin.clone()\n",
    "    spin_copie[spin_copie==0]=-1\n",
    "    spin_copie_1 = torch.roll(spin_copie, -1)\n",
    "    spin_copie_2 = torch.roll(spin_copie, 1)    \n",
    "    energie=- torch.sum(spin_copie_1*spin_copie+spin_copie_2*spin_copie)\n",
    "    return energie\n",
    "\n",
    "def energie2D(lattice):\n",
    "    energie = 0 \n",
    "    for i in range(len(lattice)):\n",
    "        energie+=energie1D(lattice[0])\n",
    "    for j in range(len(lattice[0])):\n",
    "        column = get_column(lattice, j)\n",
    "        energie+=energie1D(column)\n",
    "    return energie\n",
    "\n",
    "\n",
    "def log_prob_energie(beta, energie):\n",
    "    return -beta*energie\n",
    "\n",
    "\n",
    "def log_prob_target_energie(spins, beta):\n",
    "    \n",
    "    log_probs = torch.ones(spins.shape[0]) * np.log(0.001)\n",
    "    for i in range(len(log_probs)):\n",
    "        racine=spins[i].shape[0]\n",
    "        racine=(int(np.sqrt(racine)))\n",
    "        lattice = spins[i].reshape(racine, racine)\n",
    "        log_probs[i] = log_prob_energie(beta, energie2D(lattice))\n",
    "    return log_probs \n",
    "\n"
   ]
  },
  {
   "cell_type": "code",
   "execution_count": 2,
   "metadata": {},
   "outputs": [
    {
     "name": "stdout",
     "output_type": "stream",
     "text": [
      "144 0.005\n",
      "Epoch 0: 43.459476470947266\n",
      "Epoch 100: 40.995872497558594\n",
      "Epoch 200: 37.22169494628906\n"
     ]
    },
    {
     "ename": "ValueError",
     "evalue": "Expected parameter probs (Tensor of shape (200,)) of distribution Bernoulli(probs: torch.Size([200])) to satisfy the constraint Interval(lower_bound=0.0, upper_bound=1.0), but found invalid values:\ntensor([nan, nan, nan, nan, nan, nan, nan, nan, nan, nan, nan, nan, nan, nan, nan, nan, nan, nan, nan, nan, nan, nan, nan, nan,\n        nan, nan, nan, nan, nan, nan, nan, nan, nan, nan, nan, nan, nan, nan, nan, nan, nan, nan, nan, nan, nan, nan, nan, nan,\n        nan, nan, nan, nan, nan, nan, nan, nan, nan, nan, nan, nan, nan, nan, nan, nan, nan, nan, nan, nan, nan, nan, nan, nan,\n        nan, nan, nan, nan, nan, nan, nan, nan, nan, nan, nan, nan, nan, nan, nan, nan, nan, nan, nan, nan, nan, nan, nan, nan,\n        nan, nan, nan, nan, nan, nan, nan, nan, nan, nan, nan, nan, nan, nan, nan, nan, nan, nan, nan, nan, nan, nan, nan, nan,\n        nan, nan, nan, nan, nan, nan, nan, nan, nan, nan, nan, nan, nan, nan, nan, nan, nan, nan, nan, nan, nan, nan, nan, nan,\n        nan, nan, nan, nan, nan, nan, nan, nan, nan, nan, nan, nan, nan, nan, nan, nan, nan, nan, nan, nan, nan, nan, nan, nan,\n        nan, nan, nan, nan, nan, nan, nan, nan, nan, nan, nan, nan, nan, nan, nan, nan, nan, nan, nan, nan, nan, nan, nan, nan,\n        nan, nan, nan, nan, nan, nan, nan, nan])",
     "output_type": "error",
     "traceback": [
      "\u001b[0;31m---------------------------------------------------------------------------\u001b[0m",
      "\u001b[0;31mValueError\u001b[0m                                Traceback (most recent call last)",
      "Cell \u001b[0;32mIn[2], line 12\u001b[0m\n\u001b[1;32m     10\u001b[0m \u001b[38;5;28mprint\u001b[39m( taille, beta)\n\u001b[1;32m     11\u001b[0m magnetisations_list\u001b[38;5;241m=\u001b[39m[]\n\u001b[0;32m---> 12\u001b[0m losses \u001b[38;5;241m=\u001b[39m \u001b[43mtrain\u001b[49m\u001b[43m(\u001b[49m\u001b[43mmymodel1\u001b[49m\u001b[43m,\u001b[49m\u001b[43m \u001b[49m\u001b[38;5;28;43;01mlambda\u001b[39;49;00m\u001b[43m \u001b[49m\u001b[43mx\u001b[49m\u001b[43m:\u001b[49m\u001b[43m  \u001b[49m\u001b[43mlog_prob_target_energie\u001b[49m\u001b[43m(\u001b[49m\u001b[43mx\u001b[49m\u001b[43m,\u001b[49m\u001b[43m \u001b[49m\u001b[43mbeta\u001b[49m\u001b[43m)\u001b[49m\u001b[43m,\u001b[49m\u001b[43m \u001b[49m\u001b[43mbatch_size\u001b[49m\u001b[38;5;241;43m=\u001b[39;49m\u001b[38;5;241;43m200\u001b[39;49m\u001b[43m,\u001b[49m\u001b[43m \u001b[49m\u001b[43mn_iter\u001b[49m\u001b[38;5;241;43m=\u001b[39;49m\u001b[38;5;241;43m1000\u001b[39;49m\u001b[43m,\u001b[49m\u001b[43m \u001b[49m\u001b[43mlr\u001b[49m\u001b[38;5;241;43m=\u001b[39;49m\u001b[38;5;241;43m0.001\u001b[39;49m\u001b[43m)\u001b[49m\n\u001b[1;32m     13\u001b[0m mysample\u001b[38;5;241m=\u001b[39mmymodel1\u001b[38;5;241m.\u001b[39msample(\u001b[38;5;241m1000\u001b[39m)\n\u001b[1;32m     14\u001b[0m magnetisations\u001b[38;5;241m=\u001b[39m[]\n",
      "File \u001b[0;32m~/code_remote/Statistical-Mechanics-with-Variational-Autoregressive-Networks/VAN_new.py:105\u001b[0m, in \u001b[0;36mtrain\u001b[0;34m(model, log_prob_target, n_iter, lr, batch_size, clip_grad)\u001b[0m\n\u001b[1;32m    102\u001b[0m optimizer\u001b[38;5;241m.\u001b[39mzero_grad() \u001b[38;5;66;03m# What is this step? IMPORTANT LINE, c'est la prof qui l'a dit\u001b[39;00m\n\u001b[1;32m    104\u001b[0m \u001b[38;5;28;01mwith\u001b[39;00m torch\u001b[38;5;241m.\u001b[39mno_grad():\n\u001b[0;32m--> 105\u001b[0m     sample \u001b[38;5;241m=\u001b[39m  \u001b[43mmodel\u001b[49m\u001b[38;5;241;43m.\u001b[39;49m\u001b[43msample\u001b[49m\u001b[43m(\u001b[49m\u001b[43mbatch_size\u001b[49m\u001b[43m)\u001b[49m\n\u001b[1;32m    108\u001b[0m \u001b[38;5;28;01massert\u001b[39;00m \u001b[38;5;129;01mnot\u001b[39;00m sample\u001b[38;5;241m.\u001b[39mrequires_grad\n\u001b[1;32m    110\u001b[0m log_prob \u001b[38;5;241m=\u001b[39m model\u001b[38;5;241m.\u001b[39mlog_prob_of_spins(sample)\n",
      "File \u001b[0;32m~/code_remote/Statistical-Mechanics-with-Variational-Autoregressive-Networks/VAN_new.py:74\u001b[0m, in \u001b[0;36mVAN.sample\u001b[0;34m(self, n_samples)\u001b[0m\n\u001b[1;32m     72\u001b[0m \u001b[38;5;28;01mfor\u001b[39;00m spin_site \u001b[38;5;129;01min\u001b[39;00m \u001b[38;5;28mrange\u001b[39m(\u001b[38;5;28mself\u001b[39m\u001b[38;5;241m.\u001b[39minput_size):\n\u001b[1;32m     73\u001b[0m     params_Bernoulli \u001b[38;5;241m=\u001b[39m \u001b[38;5;28mself\u001b[39m(spins)                \n\u001b[0;32m---> 74\u001b[0m     spins_at_site \u001b[38;5;241m=\u001b[39m \u001b[43mBernoulli\u001b[49m\u001b[43m(\u001b[49m\u001b[43mparams_Bernoulli\u001b[49m\u001b[43m[\u001b[49m\u001b[43m:\u001b[49m\u001b[43m,\u001b[49m\u001b[43m \u001b[49m\u001b[43mspin_site\u001b[49m\u001b[43m]\u001b[49m\u001b[43m)\u001b[49m\u001b[38;5;241m.\u001b[39msample()\n\u001b[1;32m     75\u001b[0m     spins[:, spin_site] \u001b[38;5;241m=\u001b[39m spins_at_site\n\u001b[1;32m     76\u001b[0m \u001b[38;5;28;01mreturn\u001b[39;00m spins\n",
      "File \u001b[0;32m~/code_remote/Statistical-Mechanics-with-Variational-Autoregressive-Networks/.venv/lib64/python3.9/site-packages/torch/distributions/bernoulli.py:58\u001b[0m, in \u001b[0;36mBernoulli.__init__\u001b[0;34m(self, probs, logits, validate_args)\u001b[0m\n\u001b[1;32m     56\u001b[0m \u001b[38;5;28;01melse\u001b[39;00m:\n\u001b[1;32m     57\u001b[0m     batch_shape \u001b[38;5;241m=\u001b[39m \u001b[38;5;28mself\u001b[39m\u001b[38;5;241m.\u001b[39m_param\u001b[38;5;241m.\u001b[39msize()\n\u001b[0;32m---> 58\u001b[0m \u001b[38;5;28;43msuper\u001b[39;49m\u001b[43m(\u001b[49m\u001b[43m)\u001b[49m\u001b[38;5;241;43m.\u001b[39;49m\u001b[38;5;21;43m__init__\u001b[39;49m\u001b[43m(\u001b[49m\u001b[43mbatch_shape\u001b[49m\u001b[43m,\u001b[49m\u001b[43m \u001b[49m\u001b[43mvalidate_args\u001b[49m\u001b[38;5;241;43m=\u001b[39;49m\u001b[43mvalidate_args\u001b[49m\u001b[43m)\u001b[49m\n",
      "File \u001b[0;32m~/code_remote/Statistical-Mechanics-with-Variational-Autoregressive-Networks/.venv/lib64/python3.9/site-packages/torch/distributions/distribution.py:68\u001b[0m, in \u001b[0;36mDistribution.__init__\u001b[0;34m(self, batch_shape, event_shape, validate_args)\u001b[0m\n\u001b[1;32m     66\u001b[0m         valid \u001b[38;5;241m=\u001b[39m constraint\u001b[38;5;241m.\u001b[39mcheck(value)\n\u001b[1;32m     67\u001b[0m         \u001b[38;5;28;01mif\u001b[39;00m \u001b[38;5;129;01mnot\u001b[39;00m valid\u001b[38;5;241m.\u001b[39mall():\n\u001b[0;32m---> 68\u001b[0m             \u001b[38;5;28;01mraise\u001b[39;00m \u001b[38;5;167;01mValueError\u001b[39;00m(\n\u001b[1;32m     69\u001b[0m                 \u001b[38;5;124mf\u001b[39m\u001b[38;5;124m\"\u001b[39m\u001b[38;5;124mExpected parameter \u001b[39m\u001b[38;5;132;01m{\u001b[39;00mparam\u001b[38;5;132;01m}\u001b[39;00m\u001b[38;5;124m \u001b[39m\u001b[38;5;124m\"\u001b[39m\n\u001b[1;32m     70\u001b[0m                 \u001b[38;5;124mf\u001b[39m\u001b[38;5;124m\"\u001b[39m\u001b[38;5;124m(\u001b[39m\u001b[38;5;132;01m{\u001b[39;00m\u001b[38;5;28mtype\u001b[39m(value)\u001b[38;5;241m.\u001b[39m\u001b[38;5;18m__name__\u001b[39m\u001b[38;5;132;01m}\u001b[39;00m\u001b[38;5;124m of shape \u001b[39m\u001b[38;5;132;01m{\u001b[39;00m\u001b[38;5;28mtuple\u001b[39m(value\u001b[38;5;241m.\u001b[39mshape)\u001b[38;5;132;01m}\u001b[39;00m\u001b[38;5;124m) \u001b[39m\u001b[38;5;124m\"\u001b[39m\n\u001b[1;32m     71\u001b[0m                 \u001b[38;5;124mf\u001b[39m\u001b[38;5;124m\"\u001b[39m\u001b[38;5;124mof distribution \u001b[39m\u001b[38;5;132;01m{\u001b[39;00m\u001b[38;5;28mrepr\u001b[39m(\u001b[38;5;28mself\u001b[39m)\u001b[38;5;132;01m}\u001b[39;00m\u001b[38;5;124m \u001b[39m\u001b[38;5;124m\"\u001b[39m\n\u001b[1;32m     72\u001b[0m                 \u001b[38;5;124mf\u001b[39m\u001b[38;5;124m\"\u001b[39m\u001b[38;5;124mto satisfy the constraint \u001b[39m\u001b[38;5;132;01m{\u001b[39;00m\u001b[38;5;28mrepr\u001b[39m(constraint)\u001b[38;5;132;01m}\u001b[39;00m\u001b[38;5;124m, \u001b[39m\u001b[38;5;124m\"\u001b[39m\n\u001b[1;32m     73\u001b[0m                 \u001b[38;5;124mf\u001b[39m\u001b[38;5;124m\"\u001b[39m\u001b[38;5;124mbut found invalid values:\u001b[39m\u001b[38;5;130;01m\\n\u001b[39;00m\u001b[38;5;132;01m{\u001b[39;00mvalue\u001b[38;5;132;01m}\u001b[39;00m\u001b[38;5;124m\"\u001b[39m\n\u001b[1;32m     74\u001b[0m             )\n\u001b[1;32m     75\u001b[0m \u001b[38;5;28msuper\u001b[39m()\u001b[38;5;241m.\u001b[39m\u001b[38;5;21m__init__\u001b[39m()\n",
      "\u001b[0;31mValueError\u001b[0m: Expected parameter probs (Tensor of shape (200,)) of distribution Bernoulli(probs: torch.Size([200])) to satisfy the constraint Interval(lower_bound=0.0, upper_bound=1.0), but found invalid values:\ntensor([nan, nan, nan, nan, nan, nan, nan, nan, nan, nan, nan, nan, nan, nan, nan, nan, nan, nan, nan, nan, nan, nan, nan, nan,\n        nan, nan, nan, nan, nan, nan, nan, nan, nan, nan, nan, nan, nan, nan, nan, nan, nan, nan, nan, nan, nan, nan, nan, nan,\n        nan, nan, nan, nan, nan, nan, nan, nan, nan, nan, nan, nan, nan, nan, nan, nan, nan, nan, nan, nan, nan, nan, nan, nan,\n        nan, nan, nan, nan, nan, nan, nan, nan, nan, nan, nan, nan, nan, nan, nan, nan, nan, nan, nan, nan, nan, nan, nan, nan,\n        nan, nan, nan, nan, nan, nan, nan, nan, nan, nan, nan, nan, nan, nan, nan, nan, nan, nan, nan, nan, nan, nan, nan, nan,\n        nan, nan, nan, nan, nan, nan, nan, nan, nan, nan, nan, nan, nan, nan, nan, nan, nan, nan, nan, nan, nan, nan, nan, nan,\n        nan, nan, nan, nan, nan, nan, nan, nan, nan, nan, nan, nan, nan, nan, nan, nan, nan, nan, nan, nan, nan, nan, nan, nan,\n        nan, nan, nan, nan, nan, nan, nan, nan, nan, nan, nan, nan, nan, nan, nan, nan, nan, nan, nan, nan, nan, nan, nan, nan,\n        nan, nan, nan, nan, nan, nan, nan, nan])"
     ]
    }
   ],
   "source": [
    "\n",
    "### WITH ANNEALING\n",
    "for taille in  [    144, 169, 14*14, 15*15, 16*16, 17*17, 18*18, 19*19, 20*20 ]: \n",
    "\n",
    "    mymodel1 = VAN(taille)\n",
    "    racine=int(np.sqrt(taille))\n",
    "\n",
    "    betas=[0.005, 0.01, 0.05, 0.1, 0.2, 0.3, 0.4, 0.5, 0.6, 0.7, 0.8, 0.9, 1, 1.1]\n",
    "\n",
    "    for beta in betas: \n",
    "        print( taille, beta)\n",
    "        magnetisations_list=[]\n",
    "        losses = train(mymodel1, lambda x:  log_prob_target_energie(x, beta), batch_size=200, n_iter=1000, lr=0.001)\n",
    "        mysample=mymodel1.sample(1000)\n",
    "        magnetisations=[]\n",
    "        for spin in mysample:\n",
    "            \n",
    "            magnetisations.append(torch.mean(spin))\n",
    "        plt.hist(magnetisations, bins=20, edgecolor='black') \n",
    "        plt.xlabel('Magnetisation of the spin')\n",
    "        plt.ylabel('Number of spins')\n",
    "        plt.title('Magnetisation of the spins for beta =' + str(beta) + ' on a ' + str(racine) + 'x' + str(racine) + ' lattice')\n",
    "        plt.savefig('./figures/magnetisation_test_annealing for beta= '+str(beta)+ ', racine=' +str(racine) + '.png')\n",
    "        magnetisations_list.append(magnetisations)\n",
    "        plt.show()\n",
    "        pd.DataFrame(magnetisations_list).to_csv('./magnetisations/magnetisations_test_annealing for beta= '+str(beta)+ ' and racine = ' + str(racine) + '.csv')\n"
   ]
  },
  {
   "cell_type": "code",
   "execution_count": null,
   "metadata": {},
   "outputs": [],
   "source": [
    "\n",
    "\n",
    "### WITHOUT ANNEALING\n",
    "\n",
    "\n",
    "betas=[ 0.6, 0.7, 0.8, 0.9, 1, 1.1]\n",
    "\n",
    "for beta in betas: \n",
    "    magnetisations_list=[]\n",
    "\n",
    "    for i in range(10):\n",
    "        my_model = VAN(taille)\n",
    "        losses = train(my_model, lambda x:  log_prob_target_energie(x, beta), batch_size=200, n_iter=1000, lr=0.01)\n",
    "        mysample=my_model.sample(1000)\n",
    "        magnetisations=[]\n",
    "        for spin in mysample:\n",
    "            magnetisations.append(torch.mean(spin))\n",
    "        plt.hist(magnetisations, bins=20, edgecolor='black') \n",
    "        plt.xlabel('Magnetisation of the spin')\n",
    "        plt.ylabel('Number of spins')\n",
    "        plt.title('Magnetisation of the spins for beta =' + str(beta))\n",
    "        plt.savefig('./figures/magnetisation_for beta= '+str(beta)+ 'test n° ' +str(i) + '.png')\n",
    "        magnetisations_list.append(magnetisations)\n",
    "        plt.show()\n",
    "    pd.DataFrame(magnetisations_list).to_csv('./magnetisations/magnetisations for beta= '+str(beta)+'.csv')\n"
   ]
  }
 ],
 "metadata": {
  "kernelspec": {
   "display_name": ".venv",
   "language": "python",
   "name": "python3"
  },
  "language_info": {
   "codemirror_mode": {
    "name": "ipython",
    "version": 3
   },
   "file_extension": ".py",
   "mimetype": "text/x-python",
   "name": "python",
   "nbconvert_exporter": "python",
   "pygments_lexer": "ipython3",
   "version": "3.9.18"
  }
 },
 "nbformat": 4,
 "nbformat_minor": 2
}
