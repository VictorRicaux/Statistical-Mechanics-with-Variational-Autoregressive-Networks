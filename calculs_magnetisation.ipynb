{
 "cells": [
  {
   "cell_type": "code",
   "execution_count": 2,
   "metadata": {},
   "outputs": [
    {
     "name": "stdout",
     "output_type": "stream",
     "text": [
      "Epoch 0: 31.569982528686523\n"
     ]
    },
    {
     "ename": "KeyboardInterrupt",
     "evalue": "",
     "output_type": "error",
     "traceback": [
      "\u001b[0;31m---------------------------------------------------------------------------\u001b[0m",
      "\u001b[0;31mKeyboardInterrupt\u001b[0m                         Traceback (most recent call last)",
      "Cell \u001b[0;32mIn[2], line 51\u001b[0m\n\u001b[1;32m     49\u001b[0m \u001b[38;5;28;01mfor\u001b[39;00m beta \u001b[38;5;129;01min\u001b[39;00m betas: \n\u001b[1;32m     50\u001b[0m     magnetisations_list\u001b[38;5;241m=\u001b[39m[]\n\u001b[0;32m---> 51\u001b[0m     losses \u001b[38;5;241m=\u001b[39m \u001b[43mtrain\u001b[49m\u001b[43m(\u001b[49m\u001b[43mmymodel1\u001b[49m\u001b[43m,\u001b[49m\u001b[43m \u001b[49m\u001b[38;5;28;43;01mlambda\u001b[39;49;00m\u001b[43m \u001b[49m\u001b[43mx\u001b[49m\u001b[43m:\u001b[49m\u001b[43m  \u001b[49m\u001b[43mlog_prob_target_energie\u001b[49m\u001b[43m(\u001b[49m\u001b[43mx\u001b[49m\u001b[43m,\u001b[49m\u001b[43m \u001b[49m\u001b[43mbeta\u001b[49m\u001b[43m)\u001b[49m\u001b[43m,\u001b[49m\u001b[43m \u001b[49m\u001b[43mbatch_size\u001b[49m\u001b[38;5;241;43m=\u001b[39;49m\u001b[38;5;241;43m200\u001b[39;49m\u001b[43m,\u001b[49m\u001b[43m \u001b[49m\u001b[43mn_iter\u001b[49m\u001b[38;5;241;43m=\u001b[39;49m\u001b[38;5;241;43m1000\u001b[39;49m\u001b[43m,\u001b[49m\u001b[43m \u001b[49m\u001b[43mlr\u001b[49m\u001b[38;5;241;43m=\u001b[39;49m\u001b[38;5;241;43m0.01\u001b[39;49m\u001b[43m)\u001b[49m\n\u001b[1;32m     52\u001b[0m     mysample\u001b[38;5;241m=\u001b[39mmymodel1\u001b[38;5;241m.\u001b[39msample(\u001b[38;5;241m1000\u001b[39m)\n\u001b[1;32m     53\u001b[0m     magnetisations\u001b[38;5;241m=\u001b[39m[]\n",
      "File \u001b[0;32m~/code_remote/Statistical-Mechanics-with-Variational-Autoregressive-Networks/VAN_new.py:120\u001b[0m, in \u001b[0;36mtrain\u001b[0;34m(model, log_prob_target, n_iter, lr, batch_size, clip_grad)\u001b[0m\n\u001b[1;32m    114\u001b[0m beta \u001b[38;5;241m=\u001b[39m beta \u001b[38;5;241m*\u001b[39m (\u001b[38;5;241m1\u001b[39m \u001b[38;5;241m+\u001b[39m \u001b[38;5;241m0.998\u001b[39m\u001b[38;5;241m*\u001b[39m\u001b[38;5;241m*\u001b[39m\u001b[38;5;241m9000\u001b[39m)\n\u001b[1;32m    119\u001b[0m \u001b[38;5;28;01mwith\u001b[39;00m torch\u001b[38;5;241m.\u001b[39mno_grad():\n\u001b[0;32m--> 120\u001b[0m     energy \u001b[38;5;241m=\u001b[39m \u001b[38;5;241m-\u001b[39m \u001b[43mlog_prob_target\u001b[49m\u001b[43m(\u001b[49m\u001b[43msample\u001b[49m\u001b[43m)\u001b[49m\n\u001b[1;32m    121\u001b[0m     loss \u001b[38;5;241m=\u001b[39m log_prob \u001b[38;5;241m+\u001b[39m beta \u001b[38;5;241m*\u001b[39m energy\n\u001b[1;32m    122\u001b[0m \u001b[38;5;28;01massert\u001b[39;00m \u001b[38;5;129;01mnot\u001b[39;00m energy\u001b[38;5;241m.\u001b[39mrequires_grad\n",
      "Cell \u001b[0;32mIn[2], line 51\u001b[0m, in \u001b[0;36m<lambda>\u001b[0;34m(x)\u001b[0m\n\u001b[1;32m     49\u001b[0m \u001b[38;5;28;01mfor\u001b[39;00m beta \u001b[38;5;129;01min\u001b[39;00m betas: \n\u001b[1;32m     50\u001b[0m     magnetisations_list\u001b[38;5;241m=\u001b[39m[]\n\u001b[0;32m---> 51\u001b[0m     losses \u001b[38;5;241m=\u001b[39m train(mymodel1, \u001b[38;5;28;01mlambda\u001b[39;00m x:  \u001b[43mlog_prob_target_energie\u001b[49m\u001b[43m(\u001b[49m\u001b[43mx\u001b[49m\u001b[43m,\u001b[49m\u001b[43m \u001b[49m\u001b[43mbeta\u001b[49m\u001b[43m)\u001b[49m, batch_size\u001b[38;5;241m=\u001b[39m\u001b[38;5;241m200\u001b[39m, n_iter\u001b[38;5;241m=\u001b[39m\u001b[38;5;241m1000\u001b[39m, lr\u001b[38;5;241m=\u001b[39m\u001b[38;5;241m0.01\u001b[39m)\n\u001b[1;32m     52\u001b[0m     mysample\u001b[38;5;241m=\u001b[39mmymodel1\u001b[38;5;241m.\u001b[39msample(\u001b[38;5;241m1000\u001b[39m)\n\u001b[1;32m     53\u001b[0m     magnetisations\u001b[38;5;241m=\u001b[39m[]\n",
      "Cell \u001b[0;32mIn[2], line 40\u001b[0m, in \u001b[0;36mlog_prob_target_energie\u001b[0;34m(spins, beta)\u001b[0m\n\u001b[1;32m     38\u001b[0m     racine\u001b[38;5;241m=\u001b[39m(\u001b[38;5;28mint\u001b[39m(np\u001b[38;5;241m.\u001b[39msqrt(racine)))\n\u001b[1;32m     39\u001b[0m     lattice \u001b[38;5;241m=\u001b[39m spins[i]\u001b[38;5;241m.\u001b[39mreshape(racine, racine)\n\u001b[0;32m---> 40\u001b[0m     log_probs[i] \u001b[38;5;241m=\u001b[39m log_prob_energie(beta, \u001b[43menergie2D\u001b[49m\u001b[43m(\u001b[49m\u001b[43mlattice\u001b[49m\u001b[43m)\u001b[49m)\n\u001b[1;32m     41\u001b[0m \u001b[38;5;28;01mreturn\u001b[39;00m log_probs\n",
      "Cell \u001b[0;32mIn[2], line 24\u001b[0m, in \u001b[0;36menergie2D\u001b[0;34m(lattice)\u001b[0m\n\u001b[1;32m     22\u001b[0m     energie\u001b[38;5;241m+\u001b[39m\u001b[38;5;241m=\u001b[39menergie1D(lattice[\u001b[38;5;241m0\u001b[39m])\n\u001b[1;32m     23\u001b[0m \u001b[38;5;28;01mfor\u001b[39;00m j \u001b[38;5;129;01min\u001b[39;00m \u001b[38;5;28mrange\u001b[39m(\u001b[38;5;28mlen\u001b[39m(lattice[\u001b[38;5;241m0\u001b[39m])):\n\u001b[0;32m---> 24\u001b[0m     column \u001b[38;5;241m=\u001b[39m \u001b[43mget_column\u001b[49m\u001b[43m(\u001b[49m\u001b[43mlattice\u001b[49m\u001b[43m,\u001b[49m\u001b[43m \u001b[49m\u001b[43mj\u001b[49m\u001b[43m)\u001b[49m\n\u001b[1;32m     25\u001b[0m     energie\u001b[38;5;241m+\u001b[39m\u001b[38;5;241m=\u001b[39menergie1D(column)\n\u001b[1;32m     26\u001b[0m \u001b[38;5;28;01mreturn\u001b[39;00m energie\n",
      "Cell \u001b[0;32mIn[2], line 9\u001b[0m, in \u001b[0;36mget_column\u001b[0;34m(matrix, i)\u001b[0m\n\u001b[1;32m      8\u001b[0m \u001b[38;5;28;01mdef\u001b[39;00m \u001b[38;5;21mget_column\u001b[39m(matrix, i):\n\u001b[0;32m----> 9\u001b[0m     \u001b[38;5;28;01mreturn\u001b[39;00m torch\u001b[38;5;241m.\u001b[39mtensor([matrix[j][i] \u001b[38;5;28;01mfor\u001b[39;00m j \u001b[38;5;129;01min\u001b[39;00m \u001b[38;5;28mrange\u001b[39m(\u001b[38;5;28mlen\u001b[39m(matrix))])\n",
      "Cell \u001b[0;32mIn[2], line 9\u001b[0m, in \u001b[0;36m<listcomp>\u001b[0;34m(.0)\u001b[0m\n\u001b[1;32m      8\u001b[0m \u001b[38;5;28;01mdef\u001b[39;00m \u001b[38;5;21mget_column\u001b[39m(matrix, i):\n\u001b[0;32m----> 9\u001b[0m     \u001b[38;5;28;01mreturn\u001b[39;00m torch\u001b[38;5;241m.\u001b[39mtensor([\u001b[43mmatrix\u001b[49m\u001b[43m[\u001b[49m\u001b[43mj\u001b[49m\u001b[43m]\u001b[49m[i] \u001b[38;5;28;01mfor\u001b[39;00m j \u001b[38;5;129;01min\u001b[39;00m \u001b[38;5;28mrange\u001b[39m(\u001b[38;5;28mlen\u001b[39m(matrix))])\n",
      "\u001b[0;31mKeyboardInterrupt\u001b[0m: "
     ]
    }
   ],
   "source": [
    "import torch \n",
    "import torch.nn as nn\n",
    "import numpy as np\n",
    "import matplotlib.pyplot as plt\n",
    "from VAN_new import *\n",
    "import pandas as pd\n",
    "\n",
    "def get_column(matrix, i):\n",
    "    return torch.tensor([matrix[j][i] for j in range(len(matrix))])\n",
    "\n",
    "def energie1D(spin): \n",
    "    spin_copie=spin.clone()\n",
    "    spin_copie[spin_copie==0]=-1\n",
    "    spin_copie_1 = torch.roll(spin_copie, -1)\n",
    "    spin_copie_2 = torch.roll(spin_copie, 1)    \n",
    "    energie=- torch.sum(spin_copie_1*spin_copie+spin_copie_2*spin_copie)\n",
    "    return energie\n",
    "\n",
    "def energie2D(lattice):\n",
    "    energie = 0 \n",
    "    for i in range(len(lattice)):\n",
    "        energie+=energie1D(lattice[0])\n",
    "    for j in range(len(lattice[0])):\n",
    "        column = get_column(lattice, j)\n",
    "        energie+=energie1D(column)\n",
    "    return energie\n",
    "\n",
    "\n",
    "def log_prob_energie(beta, energie):\n",
    "    return -beta*energie\n",
    "\n",
    "\n",
    "def log_prob_target_energie(spins, beta):\n",
    "    \n",
    "    log_probs = torch.ones(spins.shape[0]) * np.log(0.001)\n",
    "    for i in range(len(log_probs)):\n",
    "        racine=spins[i].shape[0]\n",
    "        racine=(int(np.sqrt(racine)))\n",
    "        lattice = spins[i].reshape(racine, racine)\n",
    "        log_probs[i] = log_prob_energie(beta, energie2D(lattice))\n",
    "    return log_probs \n",
    "\n",
    "\n",
    "\n",
    "taille=100\n",
    "mymodel1 = VAN(taille)\n",
    "\n",
    "betas=[0.6, 0.7, 0.8]\n",
    "for beta in betas: \n",
    "    magnetisations_list=[]\n",
    "    losses = train(mymodel1, lambda x:  log_prob_target_energie(x, beta), batch_size=200, n_iter=1000, lr=0.01)\n",
    "    mysample=mymodel1.sample(1000)\n",
    "    magnetisations=[]\n",
    "    for spin in mysample:\n",
    "        magnetisations.append(torch.mean(spin))\n",
    "    plt.hist(magnetisations, bins=20, edgecolor='black') \n",
    "    plt.xlabel('Magnetisation du spin')\n",
    "    plt.ylabel('Nombre de spins')\n",
    "    plt.title('Magnetisation des spins pour beta =' + str(beta))\n",
    "    plt.savefig('./figures/magnetisation_test_annealing for beta= '+str(beta)+ '.png')\n",
    "    magnetisations_list.append(magnetisations)\n",
    "    plt.show()\n",
    "    pd.DataFrame(magnetisations_list).to_csv('./magnetisations/magnetisations_test_annealing for beta= '+str(beta)+'.csv')\n",
    "        \n"
   ]
  }
 ],
 "metadata": {
  "kernelspec": {
   "display_name": ".venv",
   "language": "python",
   "name": "python3"
  },
  "language_info": {
   "codemirror_mode": {
    "name": "ipython",
    "version": 3
   },
   "file_extension": ".py",
   "mimetype": "text/x-python",
   "name": "python",
   "nbconvert_exporter": "python",
   "pygments_lexer": "ipython3",
   "version": "3.9.18"
  }
 },
 "nbformat": 4,
 "nbformat_minor": 2
}
