{
 "cells": [
  {
   "cell_type": "code",
   "execution_count": 1,
   "metadata": {},
   "outputs": [],
   "source": [
    "import torch\n",
    "import torch.nn as nn"
   ]
  },
  {
   "cell_type": "code",
   "execution_count": 4,
   "metadata": {},
   "outputs": [
    {
     "name": "stdout",
     "output_type": "stream",
     "text": [
      "tensor([[-1., -1., -1.],\n",
      "        [-1., -1., -1.],\n",
      "        [-1., -1., -1.]])\n"
     ]
    }
   ],
   "source": [
    "ones = - torch.ones(3, 3)\n",
    "print(ones)"
   ]
  },
  {
   "cell_type": "code",
   "execution_count": null,
   "metadata": {},
   "outputs": [],
   "source": [
    "class VariationalAutoregressiveNetwork(nn.Module):\n",
    "    \"\"\"\n",
    "    A Variational Autoregressive Network class inheriting from the parent class nn.Module. \n",
    "    nn.Module is the generic parent class of models in Pytorch.\n",
    "    It requires a method called forward. \n",
    "    \n",
    "    Pytorch will be able to recursively recover all parameters of the\n",
    "    attributes of a nn.Module object provided the attributes have themselves\n",
    "    type nn.Modules or nn.ModuleList.\n",
    "\n",
    "    In this implementation we explicitly specify the scale of initialization \n",
    "    of the weight matrices.\n",
    "    \"\"\"\n",
    "\n",
    "    def __init__(self,activation=torch.sigmoid, out_activation=None):\n",
    "        super(VariationalAutoregressiveNetwork, self).__init__()\n",
    "\n",
    "        self.activation = activation\n",
    "        self.out_activation = out_activation\n",
    "        \n",
    "    def forward(self, x):\n",
    "        \"\"\"For the spin variables, we choose sigmoid function ranging\n",
    "        in $(0,1)$ as an activation function, and the output of the\n",
    "        network is given by $$\\hat s = \\sigma(\\sum_{j<i}W_{ij}s_j)$$\n",
    "        \"\"\"\n",
    "        x = self.activation(x)\n",
    "        return x\n",
    "    \n",
    "    \n",
    "\n"
   ]
  },
  {
   "cell_type": "markdown",
   "metadata": {},
   "source": [
    "For the spin variables, we choose sigmoid function ranging\n",
    "in $(0,1)$ as an activation function, and the output of the\n",
    "network is given by $$\\hat s = \\sigma(\\sum_{j<i}W_{ij}s_j)$$"
   ]
  },
  {
   "cell_type": "code",
   "execution_count": null,
   "metadata": {},
   "outputs": [],
   "source": [
    "import torch.nn as nn\n",
    "\n",
    "class VAN(nn.Module):\n",
    "    \"\"\"\n",
    "    a MLP class inheriting from the parent class nn.Module. \n",
    "    nn.Module is the generic parent class of models in Pytorch.\n",
    "    It requires a method called forward. \n",
    "    \n",
    "    Pytorch will be able to recursively recover all parameters of the\n",
    "    attributes of a nn.Module object provided the attributes have themselves\n",
    "    type nn.Modules or nn.ModuleList.\n",
    "\n",
    "    In this implementation we explicitly specify the scale of initialization \n",
    "    of the weight matrices.\n",
    "    \"\"\"\n",
    "    def __init__(self, input_size, activation=torch.sigmoid, out_activation=None, init_scale = 1):\n",
    "        super(VAN, self).__init__()\n",
    "\n",
    "        self.input_size = input_size\n",
    "        self.activation = activation\n",
    "        self.out_activation = out_activation\n",
    "\n",
    "\n",
    "        self.W = nn.Linear(input_size,input_size)\n",
    "\n",
    "        if init_scale is not None:\n",
    "            for l, layer in enumerate(linears):\n",
    "                torch.nn.init.normal_(\n",
    "                    layer.weight, std=init_scale / np.sqrt(layerdims[l])\n",
    "                )\n",
    "                torch.nn.init.zeros_(layer.bias)\n",
    "\n",
    "        self.linears = nn.ModuleList(linears)\n",
    "\n",
    "    def forward(self, x):\n",
    "        layers = list(enumerate(self.linears))\n",
    "        for _, l in layers[:-1]:\n",
    "            x = self.activation(l(x))\n",
    "        y = layers[-1][1](x)\n",
    "        if self.out_activation is not None:\n",
    "            y = self.out_activation(y)\n",
    "        return y"
   ]
  }
 ],
 "metadata": {
  "kernelspec": {
   "display_name": "Python 3",
   "language": "python",
   "name": "python3"
  },
  "language_info": {
   "codemirror_mode": {
    "name": "ipython",
    "version": 3
   },
   "file_extension": ".py",
   "mimetype": "text/x-python",
   "name": "python",
   "nbconvert_exporter": "python",
   "pygments_lexer": "ipython3",
   "version": "3.11.7"
  }
 },
 "nbformat": 4,
 "nbformat_minor": 2
}
