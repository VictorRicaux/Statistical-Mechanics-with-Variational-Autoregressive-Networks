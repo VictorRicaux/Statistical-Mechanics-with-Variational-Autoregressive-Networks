{
 "cells": [
  {
   "cell_type": "code",
   "execution_count": 1,
   "metadata": {},
   "outputs": [],
   "source": [
    "import torch \n",
    "import torch.nn as nn\n",
    "import numpy as np\n",
    "import matplotlib.pyplot as plt\n",
    "from VAN_new import *"
   ]
  },
  {
   "cell_type": "code",
   "execution_count": 37,
   "metadata": {},
   "outputs": [],
   "source": [
    "taille = 20\n",
    "\n",
    "def proba_target(spin):\n",
    "    if torch.eq(spin, torch.tensor([1.0, 1.0, 1.0, 0.0, 0.0, 0.0])).all().item():\n",
    "        return 0.469\n",
    "    elif torch.eq(spin, torch.tensor([0.0, 0.0, 0.0, 1.0, 1.0, 1.0])).all().item():\n",
    "        return 0.469\n",
    "    else:\n",
    "        return 0.001\n",
    "\n",
    "def log_proba_target(spins):\n",
    "    log_probas = []\n",
    "    for spin in spins:\n",
    "        log_probas.append(log_proba_target_single(spin))\n",
    "    return torch.tensor(log_probas)\n",
    "\n",
    "def log_proba_target_single(spin):\n",
    "    if torch.eq(spin, torch.tensor([1.0, 1.0, 1.0, 0.0, 0.0, 0.0])).all().item():\n",
    "        return np.log(0.469)\n",
    "    elif torch.eq(spin, torch.tensor([0.0, 0.0, 0.0, 1.0, 1.0, 1.0])).all().item():\n",
    "        return np.log(0.469)\n",
    "    else:\n",
    "        return np.log(0.001)\n",
    "    \n",
    "def log_uniform(spins):\n",
    "    return torch.tensor([np.log(1/2**taille) for i in range(len(spins))])\n",
    "\n",
    "def proba_exemple2(spin):\n",
    "    \"\"\"\n",
    "    Renvoie une proba plus élevée si la somme des spins est paire. On prend enfin le log de cette distribution.\n",
    "    \"\"\"\n",
    "    if torch.sum(spin) % 2 == 0:\n",
    "        return np.log(1/48)\n",
    "    else:\n",
    "        return np.log(1/96)\n",
    "    \n",
    "def proba_exemple3(spin):\n",
    "    \"\"\"\n",
    "    Renvoie une proba élevée si le premier spin vaut 1 et faible sinon\n",
    "    \"\"\"\n",
    "    if spin[0] == 1:\n",
    "        return (1/(2**(taille-1)))\n",
    "    else:\n",
    "        return (1/(2**(taille+8)))\n",
    "    \n",
    "def proba2_vect(spins):\n",
    "    \"\"\"\n",
    "    Version vectorisée de proba_exemple2\n",
    "    \"\"\"\n",
    "    probas = []\n",
    "    for spin in spins:\n",
    "        probas.append(proba_exemple2(spin))\n",
    "    return torch.tensor(probas)\n",
    "\n",
    "def proba3_vect(spins):\n",
    "    \"\"\"\n",
    "    Version vectorisée de proba_exemple3\n",
    "    \"\"\"\n",
    "    probas = []\n",
    "    for spin in spins:\n",
    "        probas.append(proba_exemple3(spin))\n",
    "    return torch.tensor(probas)\n",
    "\n"
   ]
  },
  {
   "cell_type": "code",
   "execution_count": 53,
   "metadata": {},
   "outputs": [],
   "source": [
    "def log_prob_target(spins):\n",
    "    ''''\n",
    "    Compute the log probability of the target distribution\n",
    "    spin confirgurations mostly up more likely (* 0.8) than mostly down (* 0.2)\n",
    "    '''\n",
    "    log_probs = torch.ones(spins.shape[0]) * np.log(0.2)\n",
    "    log_probs[spins.mean(-1) > 0.5] = np.log(0.8)\n",
    "    return log_probs - np.log(2 ** (taille -1)) "
   ]
  },
  {
   "cell_type": "code",
   "execution_count": 80,
   "metadata": {},
   "outputs": [],
   "source": [
    "def log_prob_target_2(spins):\n",
    "    \"\"\"\n",
    "    log proba de la target distribution. High probability if the forst spin is 1 and low otherwise\n",
    "    \"\"\"\n",
    "    log_probs = torch.ones(spins.shape[0]) * np.log(0.01)\n",
    "    \n",
    "    log_probs[torch.tensor([spins[i][0] > 0.5 for i in range(len(spins))] )] = np.log(0.8)\n",
    "    return log_probs - np.log(2 ** (taille -1)) \n",
    "    \n",
    "\n"
   ]
  },
  {
   "cell_type": "code",
   "execution_count": 79,
   "metadata": {},
   "outputs": [
    {
     "name": "stdout",
     "output_type": "stream",
     "text": [
      "Epoch 0: 4.106054306030273\n",
      "Epoch 200: 2.9433188438415527\n",
      "Epoch 400: 1.9542778730392456\n",
      "Epoch 600: 1.1637121438980103\n",
      "Epoch 800: 0.8121601939201355\n",
      "Epoch 1000: 0.22529011964797974\n",
      "Epoch 1200: -0.12653210759162903\n",
      "Epoch 1400: -0.3466890752315521\n",
      "Epoch 1600: -0.505873441696167\n",
      "Epoch 1800: -0.5915631651878357\n"
     ]
    },
    {
     "data": {
      "image/png": "[encoded data removed]",
      "text/plain": [
       "<Figure size 640x480 with 1 Axes>"
      ]
     },
     "metadata": {},
     "output_type": "display_data"
    }
   ],
   "source": [
    "mymodel = VAN(input_size = taille)\n",
    "loss=train(mymodel, log_prob_target_2, batch_size=1000,n_iter=2000, lr=1e-3)\n",
    "\n",
    "plt.plot(loss)\n",
    "plt.xlabel('Nombre d\\'itérations')\n",
    "plt.ylabel('DKL')\n",
    "plt.title('Entraînement modèle 1')\n",
    "plt.show()"
   ]
  },
  {
   "cell_type": "code",
   "execution_count": 81,
   "metadata": {},
   "outputs": [],
   "source": [
    "y1= torch.tensor([[1.0 for i in range(taille//2+5)] + [0.0 for i in range(taille//2-5)]])\n",
    "y2= torch.tensor([[0.0 for i in range(taille//2-1)] + [1.0 for i in range(taille//2+1)]])\n",
    "\n",
    "y3=torch.tensor([[0.0 for i in range(taille)]])\n",
    "y4=torch.tensor([[1.0 for i in range(taille)]])"
   ]
  },
  {
   "cell_type": "code",
   "execution_count": 82,
   "metadata": {},
   "outputs": [
    {
     "name": "stdout",
     "output_type": "stream",
     "text": [
      "tensor([1.2951e-06], grad_fn=<ProdBackward1>)\n",
      "tensor([4.2571e-07], grad_fn=<ProdBackward1>)\n",
      "tensor([5.7415e-07], grad_fn=<ProdBackward1>)\n",
      "tensor([1.6790e-06], grad_fn=<ProdBackward1>)\n"
     ]
    }
   ],
   "source": [
    "print(mymodel.prob_of_spins(y1))\n",
    "print(mymodel.prob_of_spins(y2))\n",
    "print(mymodel.prob_of_spins(y3))\n",
    "\n",
    "print(mymodel.prob_of_spins(y4))\n"
   ]
  },
  {
   "cell_type": "code",
   "execution_count": 45,
   "metadata": {},
   "outputs": [
    {
     "name": "stdout",
     "output_type": "stream",
     "text": [
      "1.9073486328125e-06\n",
      "3.725290298461914e-09\n"
     ]
    }
   ],
   "source": [
    "print(1/(2**(taille-1)))\n",
    "print(1/(2**(taille+8)))"
   ]
  }
 ],
 "metadata": {
  "kernelspec": {
   "display_name": "Python 3",
   "language": "python",
   "name": "python3"
  },
  "language_info": {
   "codemirror_mode": {
    "name": "ipython",
    "version": 3
   },
   "file_extension": ".py",
   "mimetype": "text/x-python",
   "name": "python",
   "nbconvert_exporter": "python",
   "pygments_lexer": "ipython3",
   "version": "3.9.18"
  }
 },
 "nbformat": 4,
 "nbformat_minor": 2
}
