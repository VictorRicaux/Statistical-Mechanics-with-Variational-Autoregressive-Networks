{
 "cells": [
  {
   "cell_type": "code",
   "execution_count": 1,
   "metadata": {},
   "outputs": [],
   "source": [
    "import torch \n",
    "import torch.nn as nn\n",
    "import numpy as np\n",
    "import matplotlib.pyplot as plt\n",
    "from VAN_new import *"
   ]
  },
  {
   "cell_type": "code",
   "execution_count": 2,
   "metadata": {},
   "outputs": [],
   "source": [
    "taille = 6\n",
    "\n",
    "def proba_target(spin):\n",
    "    if torch.eq(spin, torch.tensor([1.0, 1.0, 1.0, 0.0, 0.0, 0.0])).all().item():\n",
    "        return 0.469\n",
    "    elif torch.eq(spin, torch.tensor([0.0, 0.0, 0.0, 1.0, 1.0, 1.0])).all().item():\n",
    "        return 0.469\n",
    "    else:\n",
    "        return 0.001\n",
    "\n",
    "def log_proba_target(spins):\n",
    "    log_probas = []\n",
    "    for spin in spins:\n",
    "        log_probas.append(log_proba_target_single(spin))\n",
    "    return torch.tensor(log_probas)\n",
    "\n",
    "def log_proba_target_single(spin):\n",
    "    if torch.eq(spin, torch.tensor([1.0, 1.0, 1.0, 0.0, 0.0, 0.0])).all().item():\n",
    "        return np.log(0.469)\n",
    "    elif torch.eq(spin, torch.tensor([0.0, 0.0, 0.0, 1.0, 1.0, 1.0])).all().item():\n",
    "        return np.log(0.469)\n",
    "    else:\n",
    "        return np.log(0.001)\n",
    "    \n",
    "def log_uniform(spins):\n",
    "    return torch.tensor([np.log(1/64) for i in range(len(spins))])\n",
    "\n",
    "def proba_exemple2(spin):\n",
    "    \"\"\"\n",
    "    Renvoie une proba plus élevée si la somme des spins est paire. On prend enfin le log de cette distribution.\n",
    "    \"\"\"\n",
    "    if torch.sum(spin) % 2 == 0:\n",
    "        return np.log(1/48)\n",
    "    else:\n",
    "        return np.log(1/96)\n",
    "    \n",
    "def proba2_vect(spins):\n",
    "    \"\"\"\n",
    "    Version vectorisée de proba_exemple2\n",
    "    \"\"\"\n",
    "    probas = []\n",
    "    for spin in spins:\n",
    "        probas.append(proba_exemple2(spin))\n",
    "    return torch.tensor(probas)\n",
    "\n"
   ]
  },
  {
   "cell_type": "code",
   "execution_count": 3,
   "metadata": {},
   "outputs": [
    {
     "name": "stdout",
     "output_type": "stream",
     "text": [
      "Epoch 0: 3.552713678800501e-18\n",
      "Epoch 100: -5.241079250425606e-05\n",
      "Epoch 200: -3.502818340345826e-05\n"
     ]
    },
    {
     "ename": "KeyboardInterrupt",
     "evalue": "",
     "output_type": "error",
     "traceback": [
      "\u001b[1;31m---------------------------------------------------------------------------\u001b[0m",
      "\u001b[1;31mKeyboardInterrupt\u001b[0m                         Traceback (most recent call last)",
      "Cell \u001b[1;32mIn[3], line 2\u001b[0m\n\u001b[0;32m      1\u001b[0m mymodel \u001b[38;5;241m=\u001b[39m VAN(input_size \u001b[38;5;241m=\u001b[39m taille)\n\u001b[1;32m----> 2\u001b[0m loss\u001b[38;5;241m=\u001b[39m\u001b[43mtrain\u001b[49m\u001b[43m(\u001b[49m\u001b[43mmymodel\u001b[49m\u001b[43m,\u001b[49m\u001b[43m \u001b[49m\u001b[43mproba2_vect\u001b[49m\u001b[43m,\u001b[49m\u001b[43m \u001b[49m\u001b[43mbatch_size\u001b[49m\u001b[38;5;241;43m=\u001b[39;49m\u001b[38;5;241;43m1000\u001b[39;49m\u001b[43m,\u001b[49m\u001b[43mn_iter\u001b[49m\u001b[38;5;241;43m=\u001b[39;49m\u001b[38;5;241;43m1000\u001b[39;49m\u001b[43m,\u001b[49m\u001b[43m \u001b[49m\u001b[43mlr\u001b[49m\u001b[38;5;241;43m=\u001b[39;49m\u001b[38;5;241;43m1e-3\u001b[39;49m\u001b[43m)\u001b[49m\n\u001b[0;32m      4\u001b[0m plt\u001b[38;5;241m.\u001b[39mplot(loss)\n\u001b[0;32m      5\u001b[0m plt\u001b[38;5;241m.\u001b[39mxlabel(\u001b[38;5;124m'\u001b[39m\u001b[38;5;124mNombre d\u001b[39m\u001b[38;5;130;01m\\'\u001b[39;00m\u001b[38;5;124mitérations\u001b[39m\u001b[38;5;124m'\u001b[39m)\n",
      "File \u001b[1;32mc:\\Users\\grego\\Documents\\code\\Statistical-Mechanics-with-Variational-Autoregressive-Networks\\VAN_new.py:123\u001b[0m, in \u001b[0;36mtrain\u001b[1;34m(model, log_prob_target, n_iter, lr, batch_size, clip_grad)\u001b[0m\n\u001b[0;32m    120\u001b[0m beta \u001b[38;5;241m=\u001b[39m \u001b[38;5;241m1\u001b[39m\n\u001b[0;32m    122\u001b[0m \u001b[38;5;28;01mwith\u001b[39;00m torch\u001b[38;5;241m.\u001b[39mno_grad():\n\u001b[1;32m--> 123\u001b[0m     energy \u001b[38;5;241m=\u001b[39m \u001b[38;5;241m-\u001b[39m \u001b[43mlog_prob_target\u001b[49m\u001b[43m(\u001b[49m\u001b[43msample\u001b[49m\u001b[43m)\u001b[49m\n\u001b[0;32m    124\u001b[0m     loss \u001b[38;5;241m=\u001b[39m log_prob \u001b[38;5;241m+\u001b[39m beta \u001b[38;5;241m*\u001b[39m energy\n\u001b[0;32m    125\u001b[0m \u001b[38;5;28;01massert\u001b[39;00m \u001b[38;5;129;01mnot\u001b[39;00m energy\u001b[38;5;241m.\u001b[39mrequires_grad\n",
      "Cell \u001b[1;32mIn[2], line 43\u001b[0m, in \u001b[0;36mproba2_vect\u001b[1;34m(spins)\u001b[0m\n\u001b[0;32m     41\u001b[0m probas \u001b[38;5;241m=\u001b[39m []\n\u001b[0;32m     42\u001b[0m \u001b[38;5;28;01mfor\u001b[39;00m spin \u001b[38;5;129;01min\u001b[39;00m spins:\n\u001b[1;32m---> 43\u001b[0m     probas\u001b[38;5;241m.\u001b[39mappend(\u001b[43mproba_exemple2\u001b[49m\u001b[43m(\u001b[49m\u001b[43mspin\u001b[49m\u001b[43m)\u001b[49m)\n\u001b[0;32m     44\u001b[0m \u001b[38;5;28;01mreturn\u001b[39;00m torch\u001b[38;5;241m.\u001b[39mtensor(probas)\n",
      "Cell \u001b[1;32mIn[2], line 32\u001b[0m, in \u001b[0;36mproba_exemple2\u001b[1;34m(spin)\u001b[0m\n\u001b[0;32m     28\u001b[0m \u001b[38;5;28;01mdef\u001b[39;00m \u001b[38;5;21mproba_exemple2\u001b[39m(spin):\n\u001b[0;32m     29\u001b[0m \u001b[38;5;250m    \u001b[39m\u001b[38;5;124;03m\"\"\"\u001b[39;00m\n\u001b[0;32m     30\u001b[0m \u001b[38;5;124;03m    Renvoie une proba plus élevée si la somme des spins est paire. On prend enfin le log de cette distribution.\u001b[39;00m\n\u001b[0;32m     31\u001b[0m \u001b[38;5;124;03m    \"\"\"\u001b[39;00m\n\u001b[1;32m---> 32\u001b[0m     \u001b[38;5;28;01mif\u001b[39;00m \u001b[43mtorch\u001b[49m\u001b[38;5;241;43m.\u001b[39;49m\u001b[43msum\u001b[49m\u001b[43m(\u001b[49m\u001b[43mspin\u001b[49m\u001b[43m)\u001b[49m\u001b[43m \u001b[49m\u001b[38;5;241;43m%\u001b[39;49m\u001b[43m \u001b[49m\u001b[38;5;241;43m2\u001b[39;49m \u001b[38;5;241m==\u001b[39m \u001b[38;5;241m0\u001b[39m:\n\u001b[0;32m     33\u001b[0m         \u001b[38;5;28;01mreturn\u001b[39;00m np\u001b[38;5;241m.\u001b[39mlog(\u001b[38;5;241m1\u001b[39m\u001b[38;5;241m/\u001b[39m\u001b[38;5;241m48\u001b[39m)\n\u001b[0;32m     34\u001b[0m     \u001b[38;5;28;01melse\u001b[39;00m:\n",
      "\u001b[1;31mKeyboardInterrupt\u001b[0m: "
     ]
    }
   ],
   "source": [
    "mymodel = VAN(input_size = taille)\n",
    "loss=train(mymodel, proba2_vect, batch_size=1000,n_iter=1000, lr=1e-3)\n",
    "\n",
    "plt.plot(loss)\n",
    "plt.xlabel('Nombre d\\'itérations')\n",
    "plt.ylabel('DKL')\n",
    "plt.title('Entraînement modèle 1')\n",
    "plt.show()"
   ]
  }
 ],
 "metadata": {
  "kernelspec": {
   "display_name": "Python 3",
   "language": "python",
   "name": "python3"
  },
  "language_info": {
   "codemirror_mode": {
    "name": "ipython",
    "version": 3
   },
   "file_extension": ".py",
   "mimetype": "text/x-python",
   "name": "python",
   "nbconvert_exporter": "python",
   "pygments_lexer": "ipython3",
   "version": "3.9.18"
  }
 },
 "nbformat": 4,
 "nbformat_minor": 2
}
