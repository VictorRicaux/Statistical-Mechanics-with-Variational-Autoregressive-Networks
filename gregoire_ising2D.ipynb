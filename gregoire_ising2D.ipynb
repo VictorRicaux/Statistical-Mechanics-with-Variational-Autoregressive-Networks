{
 "cells": [
  {
   "cell_type": "code",
   "execution_count": 1,
   "metadata": {},
   "outputs": [],
   "source": [
    "import torch \n",
    "import torch.nn as nn\n",
    "import numpy as np\n",
    "import matplotlib.pyplot as plt\n",
    "from VAN_new import *"
   ]
  },
  {
   "cell_type": "code",
   "execution_count": 2,
   "metadata": {},
   "outputs": [],
   "source": [
    "def get_column(matrix, i):\n",
    "    return torch.tensor([matrix[j][i] for j in range(len(matrix))])"
   ]
  },
  {
   "cell_type": "code",
   "execution_count": 3,
   "metadata": {},
   "outputs": [],
   "source": [
    "\n",
    "def energie1D(spin): \n",
    "    spin_copie=spin.clone()\n",
    "    spin_copie[spin_copie==0]=-1\n",
    "    spin_copie_1 = torch.roll(spin_copie, -1)\n",
    "    spin_copie_2 = torch.roll(spin_copie, 1)    \n",
    "    energie=- torch.sum(spin_copie_1*spin_copie+spin_copie_2*spin_copie)\n",
    "    return energie\n",
    "    \n"
   ]
  },
  {
   "cell_type": "code",
   "execution_count": 4,
   "metadata": {},
   "outputs": [
    {
     "data": {
      "text/plain": [
       "tensor(-36)"
      ]
     },
     "execution_count": 4,
     "metadata": {},
     "output_type": "execute_result"
    }
   ],
   "source": [
    "def energie2D(lattice):\n",
    "    energie = 0 \n",
    "    for i in range(len(lattice)):\n",
    "        energie+=energie1D(lattice[0])\n",
    "    for j in range(len(lattice[0])):\n",
    "        column = get_column(lattice, j)\n",
    "        energie+=energie1D(column)\n",
    "    return energie\n",
    "\n",
    "\n",
    "    \n",
    "energie2D(torch.tensor([[1, 1, 1], [1, 1, 1], [1, 1, 1]]))"
   ]
  },
  {
   "cell_type": "code",
   "execution_count": 5,
   "metadata": {},
   "outputs": [],
   "source": [
    "\n",
    "def log_prob_energie(beta, energie):\n",
    "    return -beta*energie\n",
    "\n",
    "\n",
    "def log_prob_target_energie(spins, beta):\n",
    "    \n",
    "    log_probs = torch.ones(spins.shape[0]) * np.log(0.001)\n",
    "    for i in range(len(log_probs)):\n",
    "        racine=spins[i].shape[0]\n",
    "        racine=(int(np.sqrt(racine)))\n",
    "        lattice = spins[i].reshape(racine, racine)\n",
    "        log_probs[i] = log_prob_energie(beta, energie2D(lattice))\n",
    "    return log_probs "
   ]
  },
  {
   "cell_type": "code",
   "execution_count": 6,
   "metadata": {},
   "outputs": [
    {
     "data": {
      "text/plain": [
       "0.44068679350977147"
      ]
     },
     "execution_count": 6,
     "metadata": {},
     "output_type": "execute_result"
    }
   ],
   "source": [
    "beta_c=0.5*np.log(1+np.sqrt(2))\n",
    "beta_c"
   ]
  },
  {
   "cell_type": "code",
   "execution_count": 7,
   "metadata": {},
   "outputs": [],
   "source": [
    "taille=64"
   ]
  },
  {
   "cell_type": "code",
   "execution_count": 9,
   "metadata": {},
   "outputs": [
    {
     "name": "stdout",
     "output_type": "stream",
     "text": [
      "Epoch 0: 11.7974271774292\n"
     ]
    },
    {
     "ename": "KeyboardInterrupt",
     "evalue": "",
     "output_type": "error",
     "traceback": [
      "\u001b[1;31m---------------------------------------------------------------------------\u001b[0m",
      "\u001b[1;31mKeyboardInterrupt\u001b[0m                         Traceback (most recent call last)",
      "Cell \u001b[1;32mIn[9], line 3\u001b[0m\n\u001b[0;32m      1\u001b[0m beta\u001b[38;5;241m=\u001b[39m\u001b[38;5;241m0.2\u001b[39m\n\u001b[0;32m      2\u001b[0m mymodel1 \u001b[38;5;241m=\u001b[39m VAN(taille)\n\u001b[1;32m----> 3\u001b[0m losses \u001b[38;5;241m=\u001b[39m \u001b[43mtrain\u001b[49m\u001b[43m(\u001b[49m\u001b[43mmymodel1\u001b[49m\u001b[43m,\u001b[49m\u001b[43m \u001b[49m\u001b[38;5;28;43;01mlambda\u001b[39;49;00m\u001b[43m \u001b[49m\u001b[43mx\u001b[49m\u001b[43m:\u001b[49m\u001b[43m  \u001b[49m\u001b[43mlog_prob_target_energie\u001b[49m\u001b[43m(\u001b[49m\u001b[43mx\u001b[49m\u001b[43m,\u001b[49m\u001b[43m \u001b[49m\u001b[43mbeta\u001b[49m\u001b[43m)\u001b[49m\u001b[43m,\u001b[49m\u001b[43m \u001b[49m\u001b[43mbatch_size\u001b[49m\u001b[38;5;241;43m=\u001b[39;49m\u001b[38;5;241;43m100\u001b[39;49m\u001b[43m,\u001b[49m\u001b[43m \u001b[49m\u001b[43mn_iter\u001b[49m\u001b[38;5;241;43m=\u001b[39;49m\u001b[38;5;241;43m1000\u001b[39;49m\u001b[43m,\u001b[49m\u001b[43m \u001b[49m\u001b[43mlr\u001b[49m\u001b[38;5;241;43m=\u001b[39;49m\u001b[38;5;241;43m0.01\u001b[39;49m\u001b[43m)\u001b[49m\n\u001b[0;32m      4\u001b[0m plt\u001b[38;5;241m.\u001b[39mplot(losses)\n\u001b[0;32m      5\u001b[0m plt\u001b[38;5;241m.\u001b[39mxlabel(\u001b[38;5;124m'\u001b[39m\u001b[38;5;124mNombre d\u001b[39m\u001b[38;5;130;01m\\'\u001b[39;00m\u001b[38;5;124mitérations\u001b[39m\u001b[38;5;124m'\u001b[39m)\n",
      "File \u001b[1;32mc:\\Users\\grego\\Documents\\code\\Statistical-Mechanics-with-Variational-Autoregressive-Networks\\VAN_new.py:120\u001b[0m, in \u001b[0;36mtrain\u001b[1;34m(model, log_prob_target, n_iter, lr, batch_size, clip_grad)\u001b[0m\n\u001b[0;32m    113\u001b[0m \u001b[38;5;66;03m# 0.998**9000 ~ 1e-8\u001b[39;00m\n\u001b[0;32m    114\u001b[0m \u001b[38;5;66;03m# beta = beta * (1 + 0.998**9000)\u001b[39;00m\n\u001b[0;32m    119\u001b[0m \u001b[38;5;28;01mwith\u001b[39;00m torch\u001b[38;5;241m.\u001b[39mno_grad():\n\u001b[1;32m--> 120\u001b[0m     energy \u001b[38;5;241m=\u001b[39m \u001b[38;5;241m-\u001b[39m \u001b[43mlog_prob_target\u001b[49m\u001b[43m(\u001b[49m\u001b[43msample\u001b[49m\u001b[43m)\u001b[49m\n\u001b[0;32m    121\u001b[0m     loss \u001b[38;5;241m=\u001b[39m log_prob \u001b[38;5;241m+\u001b[39m beta \u001b[38;5;241m*\u001b[39m energy\n\u001b[0;32m    122\u001b[0m \u001b[38;5;28;01massert\u001b[39;00m \u001b[38;5;129;01mnot\u001b[39;00m energy\u001b[38;5;241m.\u001b[39mrequires_grad\n",
      "Cell \u001b[1;32mIn[9], line 3\u001b[0m, in \u001b[0;36m<lambda>\u001b[1;34m(x)\u001b[0m\n\u001b[0;32m      1\u001b[0m beta\u001b[38;5;241m=\u001b[39m\u001b[38;5;241m0.2\u001b[39m\n\u001b[0;32m      2\u001b[0m mymodel1 \u001b[38;5;241m=\u001b[39m VAN(taille)\n\u001b[1;32m----> 3\u001b[0m losses \u001b[38;5;241m=\u001b[39m train(mymodel1, \u001b[38;5;28;01mlambda\u001b[39;00m x:  \u001b[43mlog_prob_target_energie\u001b[49m\u001b[43m(\u001b[49m\u001b[43mx\u001b[49m\u001b[43m,\u001b[49m\u001b[43m \u001b[49m\u001b[43mbeta\u001b[49m\u001b[43m)\u001b[49m, batch_size\u001b[38;5;241m=\u001b[39m\u001b[38;5;241m100\u001b[39m, n_iter\u001b[38;5;241m=\u001b[39m\u001b[38;5;241m1000\u001b[39m, lr\u001b[38;5;241m=\u001b[39m\u001b[38;5;241m0.01\u001b[39m)\n\u001b[0;32m      4\u001b[0m plt\u001b[38;5;241m.\u001b[39mplot(losses)\n\u001b[0;32m      5\u001b[0m plt\u001b[38;5;241m.\u001b[39mxlabel(\u001b[38;5;124m'\u001b[39m\u001b[38;5;124mNombre d\u001b[39m\u001b[38;5;130;01m\\'\u001b[39;00m\u001b[38;5;124mitérations\u001b[39m\u001b[38;5;124m'\u001b[39m)\n",
      "Cell \u001b[1;32mIn[5], line 12\u001b[0m, in \u001b[0;36mlog_prob_target_energie\u001b[1;34m(spins, beta)\u001b[0m\n\u001b[0;32m     10\u001b[0m     racine\u001b[38;5;241m=\u001b[39m(\u001b[38;5;28mint\u001b[39m(np\u001b[38;5;241m.\u001b[39msqrt(racine)))\n\u001b[0;32m     11\u001b[0m     lattice \u001b[38;5;241m=\u001b[39m spins[i]\u001b[38;5;241m.\u001b[39mreshape(racine, racine)\n\u001b[1;32m---> 12\u001b[0m     log_probs[i] \u001b[38;5;241m=\u001b[39m log_prob_energie(beta, \u001b[43menergie2D\u001b[49m\u001b[43m(\u001b[49m\u001b[43mlattice\u001b[49m\u001b[43m)\u001b[49m)\n\u001b[0;32m     13\u001b[0m \u001b[38;5;28;01mreturn\u001b[39;00m log_probs\n",
      "Cell \u001b[1;32mIn[4], line 6\u001b[0m, in \u001b[0;36menergie2D\u001b[1;34m(lattice)\u001b[0m\n\u001b[0;32m      4\u001b[0m     energie\u001b[38;5;241m+\u001b[39m\u001b[38;5;241m=\u001b[39menergie1D(lattice[\u001b[38;5;241m0\u001b[39m])\n\u001b[0;32m      5\u001b[0m \u001b[38;5;28;01mfor\u001b[39;00m j \u001b[38;5;129;01min\u001b[39;00m \u001b[38;5;28mrange\u001b[39m(\u001b[38;5;28mlen\u001b[39m(lattice[\u001b[38;5;241m0\u001b[39m])):\n\u001b[1;32m----> 6\u001b[0m     column \u001b[38;5;241m=\u001b[39m \u001b[43mget_column\u001b[49m\u001b[43m(\u001b[49m\u001b[43mlattice\u001b[49m\u001b[43m,\u001b[49m\u001b[43m \u001b[49m\u001b[43mj\u001b[49m\u001b[43m)\u001b[49m\n\u001b[0;32m      7\u001b[0m     energie\u001b[38;5;241m+\u001b[39m\u001b[38;5;241m=\u001b[39menergie1D(column)\n\u001b[0;32m      8\u001b[0m \u001b[38;5;28;01mreturn\u001b[39;00m energie\n",
      "Cell \u001b[1;32mIn[2], line 2\u001b[0m, in \u001b[0;36mget_column\u001b[1;34m(matrix, i)\u001b[0m\n\u001b[0;32m      1\u001b[0m \u001b[38;5;28;01mdef\u001b[39;00m \u001b[38;5;21mget_column\u001b[39m(matrix, i):\n\u001b[1;32m----> 2\u001b[0m     \u001b[38;5;28;01mreturn\u001b[39;00m torch\u001b[38;5;241m.\u001b[39mtensor([matrix[j][i] \u001b[38;5;28;01mfor\u001b[39;00m j \u001b[38;5;129;01min\u001b[39;00m \u001b[38;5;28mrange\u001b[39m(\u001b[38;5;28mlen\u001b[39m(matrix))])\n",
      "Cell \u001b[1;32mIn[2], line 2\u001b[0m, in \u001b[0;36m<listcomp>\u001b[1;34m(.0)\u001b[0m\n\u001b[0;32m      1\u001b[0m \u001b[38;5;28;01mdef\u001b[39;00m \u001b[38;5;21mget_column\u001b[39m(matrix, i):\n\u001b[1;32m----> 2\u001b[0m     \u001b[38;5;28;01mreturn\u001b[39;00m torch\u001b[38;5;241m.\u001b[39mtensor([\u001b[43mmatrix\u001b[49m\u001b[43m[\u001b[49m\u001b[43mj\u001b[49m\u001b[43m]\u001b[49m\u001b[43m[\u001b[49m\u001b[43mi\u001b[49m\u001b[43m]\u001b[49m \u001b[38;5;28;01mfor\u001b[39;00m j \u001b[38;5;129;01min\u001b[39;00m \u001b[38;5;28mrange\u001b[39m(\u001b[38;5;28mlen\u001b[39m(matrix))])\n",
      "\u001b[1;31mKeyboardInterrupt\u001b[0m: "
     ]
    }
   ],
   "source": [
    "beta=0.2\n",
    "mymodel1 = VAN(taille)\n",
    "losses = train(mymodel1, lambda x:  log_prob_target_energie(x, beta), batch_size=100, n_iter=1000, lr=0.01)\n",
    "plt.plot(losses)\n",
    "plt.xlabel('Nombre d\\'itérations')\n",
    "plt.ylabel('DKL')\n",
    "plt.title('Entraînement modèle ising, beta=' + str(beta))\n",
    "plt.show()\n",
    "\n",
    "mysample=mymodel1.sample(1000)\n",
    "magnetisations=[]\n",
    "for spin in mysample:\n",
    "    magnetisations.append(torch.mean(spin))\n",
    "plt.hist(magnetisations, bins=20, edgecolor='black') \n",
    "plt.xlabel('Magnetisation du spin')\n",
    "plt.ylabel('Nombre de spins')\n",
    "plt.title('Magnetisation des spins pour beta =' + str(beta))\n",
    "plt.show()\n",
    "    "
   ]
  },
  {
   "cell_type": "code",
   "execution_count": 99,
   "metadata": {},
   "outputs": [
    {
     "data": {
      "text/plain": [
       "Text(0.5, 1.0, 'Magnetisation des spins pour beta =0.1')"
      ]
     },
     "execution_count": 99,
     "metadata": {},
     "output_type": "execute_result"
    },
    {
     "data": {
      "image/png": "[encoded data removed]",
      "text/plain": [
       "<Figure size 640x480 with 1 Axes>"
      ]
     },
     "metadata": {},
     "output_type": "display_data"
    }
   ],
   "source": [
    "mysample=mymodel1.sample(1000)\n",
    "magnetisations=[]\n",
    "for spin in mysample:\n",
    "    magnetisations.append(torch.mean(spin))\n",
    "plt.hist(magnetisations, bins=20, edgecolor='black', align='mid')\n",
    "plt.xlabel('Magnetisation du spin')\n",
    "plt.ylabel('Nombre de spins')\n",
    "plt.title('Magnetisation des spins pour beta =' + str(beta))"
   ]
  },
  {
   "cell_type": "code",
   "execution_count": 15,
   "metadata": {},
   "outputs": [],
   "source": [
    "with open('test.csv', 'a') as myfile:\n",
    "    myfile.write('beta='+str(beta)+'\\n')\n",
    "    myfile.write('magnetisations='+str(np.array(magnetisations))+'\\n')"
   ]
  },
  {
   "cell_type": "code",
   "execution_count": 31,
   "metadata": {},
   "outputs": [
    {
     "ename": "ModuleNotFoundError",
     "evalue": "No module named 'pandas'",
     "output_type": "error",
     "traceback": [
      "\u001b[1;31m---------------------------------------------------------------------------\u001b[0m",
      "\u001b[1;31mModuleNotFoundError\u001b[0m                       Traceback (most recent call last)",
      "Cell \u001b[1;32mIn[31], line 1\u001b[0m\n\u001b[1;32m----> 1\u001b[0m \u001b[38;5;28;01mimport\u001b[39;00m \u001b[38;5;21;01mpandas\u001b[39;00m \u001b[38;5;28;01mas\u001b[39;00m \u001b[38;5;21;01mpd\u001b[39;00m\n",
      "\u001b[1;31mModuleNotFoundError\u001b[0m: No module named 'pandas'"
     ]
    }
   ],
   "source": [
    "import pandas as pd"
   ]
  }
 ],
 "metadata": {
  "kernelspec": {
   "display_name": "map588",
   "language": "python",
   "name": "python3"
  },
  "language_info": {
   "codemirror_mode": {
    "name": "ipython",
    "version": 3
   },
   "file_extension": ".py",
   "mimetype": "text/x-python",
   "name": "python",
   "nbconvert_exporter": "python",
   "pygments_lexer": "ipython3",
   "version": "3.9.18"
  }
 },
 "nbformat": 4,
 "nbformat_minor": 2
}
